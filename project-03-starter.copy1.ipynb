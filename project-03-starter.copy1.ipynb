{
 "cells": [
  {
   "cell_type": "markdown",
   "metadata": {},
   "source": [
    "<img src=\"http://imgur.com/1ZcRyrc.png\" style=\"float: left; margin: 15px; height: 80px\">\n",
    "\n",
    "# Project 3\n",
    "\n",
    "### Regression and Classification with the Ames Housing Data\n",
    "\n",
    "---\n",
    "\n",
    "You have just joined a new \"full stack\" real estate company in Ames, Iowa. The strategy of the firm is two-fold:\n",
    "- Own the entire process from the purchase of the land all the way to sale of the house, and anything in between.\n",
    "- Use statistical analysis to optimize investment and maximize return.\n",
    "\n",
    "The company is still small, and though investment is substantial the short-term goals of the company are more oriented towards purchasing existing houses and flipping them as opposed to constructing entirely new houses. That being said, the company has access to a large construction workforce operating at rock-bottom prices.\n",
    "\n",
    "This project uses the [Ames housing data recently made available on kaggle](https://www.kaggle.com/c/house-prices-advanced-regression-techniques)."
   ]
  },
  {
   "cell_type": "code",
   "execution_count": 68,
   "metadata": {
    "collapsed": true
   },
   "outputs": [],
   "source": [
    "import numpy as np\n",
    "import scipy.stats as stats\n",
    "import seaborn as sns\n",
    "import matplotlib.pyplot as plt\n",
    "import pandas as pd\n",
    "\n",
    "sns.set_style('whitegrid')\n",
    "\n",
    "%config InlineBackend.figure_format = 'retina'\n",
    "%matplotlib inline"
   ]
  },
  {
   "cell_type": "markdown",
   "metadata": {},
   "source": [
    "<img src=\"http://imgur.com/l5NasQj.png\" style=\"float: left; margin: 25px 15px 0px 0px; height: 25px\">\n",
    "\n",
    "## 1. Estimating the value of homes from fixed characteristics.\n",
    "\n",
    "---\n",
    "\n",
    "Your superiors have outlined this year's strategy for the company:\n",
    "1. Develop an algorithm to reliably estimate the value of residential houses based on *fixed* characteristics.\n",
    "2. Identify characteristics of houses that the company can cost-effectively change/renovate with their construction team.\n",
    "3. Evaluate the mean dollar value of different renovations.\n",
    "\n",
    "Then we can use that to buy houses that are likely to sell for more than the cost of the purchase plus renovations.\n",
    "\n",
    "Your first job is to tackle #1. You have a dataset of housing sale data with a huge amount of features identifying different aspects of the house. The full description of the data features can be found in a separate file:\n",
    "\n",
    "    housing.csv\n",
    "    data_description.txt\n",
    "    \n",
    "You need to build a reliable estimator for the price of the house given characteristics of the house that cannot be renovated. Some examples include:\n",
    "- The neighborhood\n",
    "- Square feet\n",
    "- Bedrooms, bathrooms\n",
    "- Basement and garage space\n",
    "\n",
    "and many more. \n",
    "\n",
    "Some examples of things that **ARE renovate-able:**\n",
    "- Roof and exterior features\n",
    "- \"Quality\" metrics, such as kitchen quality\n",
    "- \"Condition\" metrics, such as condition of garage\n",
    "- Heating and electrical components\n",
    "\n",
    "and generally anything you deem can be modified without having to undergo major construction on the house.\n",
    "\n",
    "---\n",
    "\n",
    "**Your goals:**\n",
    "1. Perform any cleaning, feature engineering, and EDA you deem necessary.\n",
    "- Be sure to remove any houses that are not residential from the dataset.\n",
    "- Identify **fixed** features that can predict price.\n",
    "- Train a model on pre-2010 data and evaluate its performance on the 2010 houses.\n",
    "- Characterize your model. How well does it perform? What are the best estimates of price?\n",
    "\n",
    "> **Note:** The EDA and feature engineering component to this project is not trivial! Be sure to always think critically and creatively. Justify your actions! Use the data description file!"
   ]
  },
  {
   "cell_type": "code",
   "execution_count": 69,
   "metadata": {},
   "outputs": [
    {
     "data": {
      "text/plain": [
       "(1460, 81)"
      ]
     },
     "execution_count": 69,
     "metadata": {},
     "output_type": "execute_result"
    }
   ],
   "source": [
    "# Load the data\n",
    "house = pd.read_csv('./housing.csv')\n",
    "house.head()\n",
    "house.shape\n",
    "#house.isnull().sum()"
   ]
  },
  {
   "cell_type": "code",
   "execution_count": 70,
   "metadata": {},
   "outputs": [],
   "source": [
    "house.LotFrontage.isnull().sum()\n",
    "house.LotFrontage=house.LotFrontage.fillna(0.0)"
   ]
  },
  {
   "cell_type": "code",
   "execution_count": 71,
   "metadata": {},
   "outputs": [
    {
     "data": {
      "text/plain": [
       "Index([u'Id', u'MSSubClass', u'MSZoning', u'LotFrontage', u'LotArea',\n",
       "       u'Street', u'Alley', u'LotShape', u'LandContour', u'Utilities',\n",
       "       u'LotConfig', u'LandSlope', u'Neighborhood', u'Condition1',\n",
       "       u'Condition2', u'BldgType', u'HouseStyle', u'OverallQual',\n",
       "       u'OverallCond', u'YearBuilt', u'YearRemodAdd', u'RoofStyle',\n",
       "       u'RoofMatl', u'Exterior1st', u'Exterior2nd', u'MasVnrType',\n",
       "       u'MasVnrArea', u'ExterQual', u'ExterCond', u'Foundation', u'BsmtQual',\n",
       "       u'BsmtCond', u'BsmtExposure', u'BsmtFinType1', u'BsmtFinSF1',\n",
       "       u'BsmtFinType2', u'BsmtFinSF2', u'BsmtUnfSF', u'TotalBsmtSF',\n",
       "       u'Heating', u'HeatingQC', u'CentralAir', u'Electrical', u'1stFlrSF',\n",
       "       u'2ndFlrSF', u'LowQualFinSF', u'GrLivArea', u'BsmtFullBath',\n",
       "       u'BsmtHalfBath', u'FullBath', u'HalfBath', u'BedroomAbvGr',\n",
       "       u'KitchenAbvGr', u'KitchenQual', u'TotRmsAbvGrd', u'Functional',\n",
       "       u'Fireplaces', u'FireplaceQu', u'GarageType', u'GarageYrBlt',\n",
       "       u'GarageFinish', u'GarageCars', u'GarageArea', u'GarageQual',\n",
       "       u'GarageCond', u'PavedDrive', u'WoodDeckSF', u'OpenPorchSF',\n",
       "       u'EnclosedPorch', u'3SsnPorch', u'ScreenPorch', u'PoolArea', u'PoolQC',\n",
       "       u'Fence', u'MiscFeature', u'MiscVal', u'MoSold', u'YrSold', u'SaleType',\n",
       "       u'SaleCondition', u'SalePrice'],\n",
       "      dtype='object')"
      ]
     },
     "execution_count": 71,
     "metadata": {},
     "output_type": "execute_result"
    }
   ],
   "source": [
    "house.columns"
   ]
  },
  {
   "cell_type": "code",
   "execution_count": 72,
   "metadata": {},
   "outputs": [
    {
     "data": {
      "text/plain": [
       "(1460, 24)"
      ]
     },
     "execution_count": 72,
     "metadata": {},
     "output_type": "execute_result"
    }
   ],
   "source": [
    "reno_able=house[['OverallQual','OverallCond','RoofStyle','RoofMatl','Exterior1st','Exterior2nd','ExterQual','ExterCond','BsmtCond',\n",
    "                 'BsmtFinType1','BsmtFinType2','Heating','HeatingQC','CentralAir','Electrical','LowQualFinSF','KitchenQual','FireplaceQu'\n",
    "                 ,'GarageFinish','GarageQual','GarageCond','PavedDrive','PoolQC','Fence',]]\n",
    "reno_col=reno_able.columns\n",
    "reno_able.shape"
   ]
  },
  {
   "cell_type": "code",
   "execution_count": 73,
   "metadata": {},
   "outputs": [
    {
     "data": {
      "text/plain": [
       "(1460, 57)"
      ]
     },
     "execution_count": 73,
     "metadata": {},
     "output_type": "execute_result"
    }
   ],
   "source": [
    "fix=house.drop(reno_col,axis=1)\n",
    "fix.shape"
   ]
  },
  {
   "cell_type": "code",
   "execution_count": 74,
   "metadata": {},
   "outputs": [
    {
     "data": {
      "text/html": [
       "<div>\n",
       "<style>\n",
       "    .dataframe thead tr:only-child th {\n",
       "        text-align: right;\n",
       "    }\n",
       "\n",
       "    .dataframe thead th {\n",
       "        text-align: left;\n",
       "    }\n",
       "\n",
       "    .dataframe tbody tr th {\n",
       "        vertical-align: top;\n",
       "    }\n",
       "</style>\n",
       "<table border=\"1\" class=\"dataframe\">\n",
       "  <thead>\n",
       "    <tr style=\"text-align: right;\">\n",
       "      <th></th>\n",
       "      <th>Id</th>\n",
       "      <th>MSSubClass</th>\n",
       "      <th>MSZoning</th>\n",
       "      <th>LotFrontage</th>\n",
       "      <th>LotArea</th>\n",
       "      <th>Street</th>\n",
       "      <th>Alley</th>\n",
       "      <th>LotShape</th>\n",
       "      <th>LandContour</th>\n",
       "      <th>Utilities</th>\n",
       "      <th>...</th>\n",
       "      <th>3SsnPorch</th>\n",
       "      <th>ScreenPorch</th>\n",
       "      <th>PoolArea</th>\n",
       "      <th>MiscFeature</th>\n",
       "      <th>MiscVal</th>\n",
       "      <th>MoSold</th>\n",
       "      <th>YrSold</th>\n",
       "      <th>SaleType</th>\n",
       "      <th>SaleCondition</th>\n",
       "      <th>SalePrice</th>\n",
       "    </tr>\n",
       "  </thead>\n",
       "  <tbody>\n",
       "    <tr>\n",
       "      <th>0</th>\n",
       "      <td>1</td>\n",
       "      <td>60</td>\n",
       "      <td>RL</td>\n",
       "      <td>65.0</td>\n",
       "      <td>8450</td>\n",
       "      <td>Pave</td>\n",
       "      <td>NaN</td>\n",
       "      <td>Reg</td>\n",
       "      <td>Lvl</td>\n",
       "      <td>AllPub</td>\n",
       "      <td>...</td>\n",
       "      <td>0</td>\n",
       "      <td>0</td>\n",
       "      <td>0</td>\n",
       "      <td>NaN</td>\n",
       "      <td>0</td>\n",
       "      <td>2</td>\n",
       "      <td>2008</td>\n",
       "      <td>WD</td>\n",
       "      <td>Normal</td>\n",
       "      <td>208500</td>\n",
       "    </tr>\n",
       "    <tr>\n",
       "      <th>1</th>\n",
       "      <td>2</td>\n",
       "      <td>20</td>\n",
       "      <td>RL</td>\n",
       "      <td>80.0</td>\n",
       "      <td>9600</td>\n",
       "      <td>Pave</td>\n",
       "      <td>NaN</td>\n",
       "      <td>Reg</td>\n",
       "      <td>Lvl</td>\n",
       "      <td>AllPub</td>\n",
       "      <td>...</td>\n",
       "      <td>0</td>\n",
       "      <td>0</td>\n",
       "      <td>0</td>\n",
       "      <td>NaN</td>\n",
       "      <td>0</td>\n",
       "      <td>5</td>\n",
       "      <td>2007</td>\n",
       "      <td>WD</td>\n",
       "      <td>Normal</td>\n",
       "      <td>181500</td>\n",
       "    </tr>\n",
       "    <tr>\n",
       "      <th>2</th>\n",
       "      <td>3</td>\n",
       "      <td>60</td>\n",
       "      <td>RL</td>\n",
       "      <td>68.0</td>\n",
       "      <td>11250</td>\n",
       "      <td>Pave</td>\n",
       "      <td>NaN</td>\n",
       "      <td>IR1</td>\n",
       "      <td>Lvl</td>\n",
       "      <td>AllPub</td>\n",
       "      <td>...</td>\n",
       "      <td>0</td>\n",
       "      <td>0</td>\n",
       "      <td>0</td>\n",
       "      <td>NaN</td>\n",
       "      <td>0</td>\n",
       "      <td>9</td>\n",
       "      <td>2008</td>\n",
       "      <td>WD</td>\n",
       "      <td>Normal</td>\n",
       "      <td>223500</td>\n",
       "    </tr>\n",
       "    <tr>\n",
       "      <th>3</th>\n",
       "      <td>4</td>\n",
       "      <td>70</td>\n",
       "      <td>RL</td>\n",
       "      <td>60.0</td>\n",
       "      <td>9550</td>\n",
       "      <td>Pave</td>\n",
       "      <td>NaN</td>\n",
       "      <td>IR1</td>\n",
       "      <td>Lvl</td>\n",
       "      <td>AllPub</td>\n",
       "      <td>...</td>\n",
       "      <td>0</td>\n",
       "      <td>0</td>\n",
       "      <td>0</td>\n",
       "      <td>NaN</td>\n",
       "      <td>0</td>\n",
       "      <td>2</td>\n",
       "      <td>2006</td>\n",
       "      <td>WD</td>\n",
       "      <td>Abnorml</td>\n",
       "      <td>140000</td>\n",
       "    </tr>\n",
       "    <tr>\n",
       "      <th>4</th>\n",
       "      <td>5</td>\n",
       "      <td>60</td>\n",
       "      <td>RL</td>\n",
       "      <td>84.0</td>\n",
       "      <td>14260</td>\n",
       "      <td>Pave</td>\n",
       "      <td>NaN</td>\n",
       "      <td>IR1</td>\n",
       "      <td>Lvl</td>\n",
       "      <td>AllPub</td>\n",
       "      <td>...</td>\n",
       "      <td>0</td>\n",
       "      <td>0</td>\n",
       "      <td>0</td>\n",
       "      <td>NaN</td>\n",
       "      <td>0</td>\n",
       "      <td>12</td>\n",
       "      <td>2008</td>\n",
       "      <td>WD</td>\n",
       "      <td>Normal</td>\n",
       "      <td>250000</td>\n",
       "    </tr>\n",
       "  </tbody>\n",
       "</table>\n",
       "<p>5 rows × 57 columns</p>\n",
       "</div>"
      ],
      "text/plain": [
       "   Id  MSSubClass MSZoning  LotFrontage  LotArea Street Alley LotShape  \\\n",
       "0   1          60       RL         65.0     8450   Pave   NaN      Reg   \n",
       "1   2          20       RL         80.0     9600   Pave   NaN      Reg   \n",
       "2   3          60       RL         68.0    11250   Pave   NaN      IR1   \n",
       "3   4          70       RL         60.0     9550   Pave   NaN      IR1   \n",
       "4   5          60       RL         84.0    14260   Pave   NaN      IR1   \n",
       "\n",
       "  LandContour Utilities    ...    3SsnPorch ScreenPorch PoolArea MiscFeature  \\\n",
       "0         Lvl    AllPub    ...            0           0        0         NaN   \n",
       "1         Lvl    AllPub    ...            0           0        0         NaN   \n",
       "2         Lvl    AllPub    ...            0           0        0         NaN   \n",
       "3         Lvl    AllPub    ...            0           0        0         NaN   \n",
       "4         Lvl    AllPub    ...            0           0        0         NaN   \n",
       "\n",
       "  MiscVal MoSold YrSold  SaleType  SaleCondition SalePrice  \n",
       "0       0      2   2008        WD         Normal    208500  \n",
       "1       0      5   2007        WD         Normal    181500  \n",
       "2       0      9   2008        WD         Normal    223500  \n",
       "3       0      2   2006        WD        Abnorml    140000  \n",
       "4       0     12   2008        WD         Normal    250000  \n",
       "\n",
       "[5 rows x 57 columns]"
      ]
     },
     "execution_count": 74,
     "metadata": {},
     "output_type": "execute_result"
    }
   ],
   "source": [
    "fix.head()"
   ]
  },
  {
   "cell_type": "code",
   "execution_count": 75,
   "metadata": {},
   "outputs": [
    {
     "data": {
      "text/plain": [
       "RL         1151\n",
       "RM          218\n",
       "FV           65\n",
       "RH           16\n",
       "C (all)      10\n",
       "Name: MSZoning, dtype: int64"
      ]
     },
     "execution_count": 75,
     "metadata": {},
     "output_type": "execute_result"
    }
   ],
   "source": [
    "fix.MSZoning.value_counts()\n"
   ]
  },
  {
   "cell_type": "code",
   "execution_count": 76,
   "metadata": {},
   "outputs": [
    {
     "data": {
      "text/plain": [
       "RL    1151\n",
       "RM     218\n",
       "FV      65\n",
       "RH      16\n",
       "Name: MSZoning, dtype: int64"
      ]
     },
     "execution_count": 76,
     "metadata": {},
     "output_type": "execute_result"
    }
   ],
   "source": [
    "c=fix[fix['MSZoning']=='C (all)']\n",
    "fix=fix.drop(c.index)\n",
    "fix.MSZoning.value_counts()\n",
    "#y=fix.SalePrice\n"
   ]
  },
  {
   "cell_type": "code",
   "execution_count": 77,
   "metadata": {},
   "outputs": [
    {
     "data": {
      "text/plain": [
       "(1450, 56)"
      ]
     },
     "execution_count": 77,
     "metadata": {},
     "output_type": "execute_result"
    }
   ],
   "source": [
    "fix=fix.drop(['SalePrice'],axis=1)\n",
    "fix.head()\n",
    "fix.shape"
   ]
  },
  {
   "cell_type": "code",
   "execution_count": 78,
   "metadata": {},
   "outputs": [
    {
     "data": {
      "text/plain": [
       "['3SsnPorch',\n",
       " 'OpenPorchSF',\n",
       " '2ndFlrSF',\n",
       " 'MasVnrArea',\n",
       " 'EnclosedPorch',\n",
       " 'MiscVal',\n",
       " 'Utilities',\n",
       " 'KitchenAbvGr',\n",
       " 'BsmtFinSF1',\n",
       " 'BsmtFinSF2',\n",
       " 'MiscFeature',\n",
       " 'LandSlope',\n",
       " 'Condition2',\n",
       " 'LandContour',\n",
       " 'PoolArea',\n",
       " 'ScreenPorch',\n",
       " 'Functional',\n",
       " 'Street']"
      ]
     },
     "execution_count": 78,
     "metadata": {},
     "output_type": "execute_result"
    }
   ],
   "source": [
    "def nearZeroVariance(X, freqCut = 95 / 5, uniqueCut = 10):\n",
    "    '''\n",
    "    Determine predictors with near zero or zero variance.\n",
    "    Inputs:\n",
    "    X: pandas data frame\n",
    "    freqCut: the cutoff for the ratio of the most common value to the second most common value\n",
    "    uniqueCut: the cutoff for the percentage of distinct values out of the number of total samples\n",
    "    Returns a tuple containing a list of column names: (zeroVar, nzVar)\n",
    "    '''\n",
    "\n",
    "    colNames = X.columns.values.tolist()\n",
    "    freqRatio = dict()\n",
    "    uniquePct = dict()\n",
    "\n",
    "    for names in colNames:\n",
    "        counts = (\n",
    "            (X[names])\n",
    "            .value_counts()\n",
    "            .sort_values(ascending = False)\n",
    "            .values\n",
    "            )\n",
    "\n",
    "        if len(counts) == 1:\n",
    "            freqRatio[names] = -1\n",
    "            uniquePct[names] = (len(counts) / len(X[names])) * 100\n",
    "            continue\n",
    "\n",
    "        freqRatio[names] = counts[0] / counts[1]\n",
    "        uniquePct[names] = (len(counts) / len(X[names])) * 100\n",
    "\n",
    "    zeroVar = list()\n",
    "    nzVar = list()\n",
    "    for k in uniquePct.keys():\n",
    "        if freqRatio[k] == -1:\n",
    "            zeroVar.append(k)\n",
    "\n",
    "        if uniquePct[k] < uniqueCut and freqRatio[k] > freqCut:\n",
    "            nzVar.append(k)\n",
    "\n",
    "    return(zeroVar, nzVar)\n",
    "\n",
    "nzv=nearZeroVariance(fix)\n",
    "nzv=nzv[1]\n",
    "nzv"
   ]
  },
  {
   "cell_type": "code",
   "execution_count": 79,
   "metadata": {},
   "outputs": [
    {
     "name": "stdout",
     "output_type": "stream",
     "text": [
      "Grvl    50\n",
      "Pave    39\n",
      "Name: Alley, dtype: int64\n",
      "(1450, 35)\n"
     ]
    },
    {
     "data": {
      "text/plain": [
       "Id                int64\n",
       "MSSubClass        int64\n",
       "MSZoning         object\n",
       "LotFrontage     float64\n",
       "LotArea           int64\n",
       "LotShape         object\n",
       "LotConfig        object\n",
       "Neighborhood     object\n",
       "Condition1       object\n",
       "BldgType         object\n",
       "HouseStyle       object\n",
       "YearBuilt         int64\n",
       "YearRemodAdd      int64\n",
       "MasVnrType       object\n",
       "Foundation       object\n",
       "BsmtQual         object\n",
       "BsmtExposure     object\n",
       "BsmtUnfSF         int64\n",
       "TotalBsmtSF       int64\n",
       "1stFlrSF          int64\n",
       "GrLivArea         int64\n",
       "BsmtFullBath      int64\n",
       "BsmtHalfBath      int64\n",
       "FullBath          int64\n",
       "HalfBath          int64\n",
       "BedroomAbvGr      int64\n",
       "TotRmsAbvGrd      int64\n",
       "Fireplaces        int64\n",
       "GarageType       object\n",
       "GarageYrBlt     float64\n",
       "GarageCars        int64\n",
       "GarageArea        int64\n",
       "WoodDeckSF        int64\n",
       "MoSold            int64\n",
       "YrSold            int64\n",
       "dtype: object"
      ]
     },
     "execution_count": 79,
     "metadata": {},
     "output_type": "execute_result"
    }
   ],
   "source": [
    "print(fix['Alley'].value_counts())\n",
    "fix1=fix.drop(nzv+['Alley']+['SaleCondition']+['SaleType'],axis=1)\n",
    "print(fix1.shape)\n",
    "fix1.dtypes"
   ]
  },
  {
   "cell_type": "code",
   "execution_count": 80,
   "metadata": {},
   "outputs": [
    {
     "name": "stdout",
     "output_type": "stream",
     "text": [
      "MSZ_FV    0.042848\n",
      "MSZ_RH    0.010920\n",
      "MSZ_RL    0.163799\n",
      "MSZ_RM    0.127829\n",
      "dtype: float64\n",
      "0    1434\n",
      "1      16\n",
      "Name: MSZ_RH, dtype: int64\n"
     ]
    }
   ],
   "source": [
    "MSZDummies=pd.get_dummies(fix1.MSZoning,prefix='MSZ')\n",
    "print(MSZDummies.var())\n",
    "print(MSZDummies.MSZ_RH.value_counts())\n",
    "MSZDummies=MSZDummies.drop(['MSZ_RH'],axis=1)"
   ]
  },
  {
   "cell_type": "code",
   "execution_count": 81,
   "metadata": {},
   "outputs": [
    {
     "name": "stdout",
     "output_type": "stream",
     "text": [
      "LS_IR1    0.222299\n",
      "LS_IR2    0.027495\n",
      "LS_IR3    0.006854\n",
      "LS_Reg    0.232809\n",
      "dtype: float64\n"
     ]
    }
   ],
   "source": [
    "LSDummies=pd.get_dummies(fix1.LotShape,prefix='LS')\n",
    "print(LSDummies.var())\n",
    "LSDummies.LS_IR3.value_counts()\n",
    "LSDummies=LSDummies.drop(['LS_IR3'],axis=1)"
   ]
  },
  {
   "cell_type": "code",
   "execution_count": 82,
   "metadata": {},
   "outputs": [
    {
     "name": "stdout",
     "output_type": "stream",
     "text": [
      "LC_Corner     0.147702\n",
      "LC_CulDSac    0.060667\n",
      "LC_FR2        0.031385\n",
      "LC_FR3        0.002753\n",
      "LC_Inside     0.201739\n",
      "dtype: float64\n"
     ]
    }
   ],
   "source": [
    "LCDummies=pd.get_dummies(fix1.LotConfig,prefix='LC')\n",
    "print(LCDummies.var())\n",
    "LCDummies.LC_FR3.value_counts()\n",
    "LCDummies=LCDummies.drop(['LC_FR3'],axis=1)"
   ]
  },
  {
   "cell_type": "code",
   "execution_count": 83,
   "metadata": {},
   "outputs": [],
   "source": [
    "NDummies=pd.get_dummies(fix1.Neighborhood,prefix='N')\n",
    "#print(NDummies.var())\n",
    "NDummies.N_Blueste.value_counts()\n",
    "NDummies=NDummies.drop(['N_Blueste'],axis=1)"
   ]
  },
  {
   "cell_type": "code",
   "execution_count": 84,
   "metadata": {},
   "outputs": [
    {
     "name": "stdout",
     "output_type": "stream",
     "text": [
      "C_Artery    0.032030\n",
      "C_Feedr     0.051550\n",
      "C_Norm      0.117987\n",
      "C_PosA      0.005491\n",
      "C_PosN      0.012941\n",
      "C_RRAe      0.007534\n",
      "C_RRAn      0.017622\n",
      "C_RRNe      0.001378\n",
      "C_RRNn      0.003439\n",
      "dtype: float64\n"
     ]
    }
   ],
   "source": [
    "CDummies=pd.get_dummies(fix1.Condition1,prefix='C')\n",
    "print(CDummies.var())\n",
    "CDummies.C_RRNe.value_counts()\n",
    "CDummies=CDummies.drop(['C_RRNe'],axis=1)"
   ]
  },
  {
   "cell_type": "code",
   "execution_count": 85,
   "metadata": {},
   "outputs": [
    {
     "name": "stdout",
     "output_type": "stream",
     "text": [
      "BT_1Fam      0.137754\n",
      "BT_2fmCon    0.020276\n",
      "BT_Duplex    0.034600\n",
      "BT_Twnhs     0.028796\n",
      "BT_TwnhsE    0.072489\n",
      "dtype: float64\n"
     ]
    }
   ],
   "source": [
    "BTDummies=pd.get_dummies(fix1.BldgType,prefix='BT')\n",
    "print(BTDummies.var())\n",
    "BTDummies.BT_TwnhsE.value_counts()\n",
    "BTDummies=BTDummies.drop(['BT_TwnhsE'],axis=1)"
   ]
  },
  {
   "cell_type": "code",
   "execution_count": 86,
   "metadata": {},
   "outputs": [
    {
     "name": "stdout",
     "output_type": "stream",
     "text": [
      "HS_1.5Fin    0.092811\n",
      "HS_1.5Unf    0.009569\n",
      "HS_1Story    0.250168\n",
      "HS_2.5Fin    0.005491\n",
      "HS_2.5Unf    0.006854\n",
      "HS_2Story    0.212591\n",
      "HS_SFoyer    0.024883\n",
      "HS_SLvl      0.042848\n",
      "dtype: float64\n"
     ]
    }
   ],
   "source": [
    "HSDummies=pd.get_dummies(fix1.HouseStyle,prefix='HS')\n",
    "print(HSDummies.var())\n",
    "HSDummies['HS_2.5Unf'].value_counts()\n",
    "HSDummies=HSDummies.drop(['HS_2.5Unf'],axis=1)"
   ]
  },
  {
   "cell_type": "code",
   "execution_count": 87,
   "metadata": {},
   "outputs": [
    {
     "name": "stdout",
     "output_type": "stream",
     "text": [
      "MV_BrkCmn     0.010245\n",
      "MV_BrkFace    0.212858\n",
      "MV_None       0.242252\n",
      "MV_Stone      0.080539\n",
      "dtype: float64\n"
     ]
    }
   ],
   "source": [
    "MVDummies=pd.get_dummies(fix1.MasVnrType,prefix='MV')\n",
    "print(MVDummies.var())\n",
    "MVDummies.MV_BrkCmn.value_counts()\n",
    "MVDummies=MVDummies.drop(['MV_BrkCmn'],axis=1)"
   ]
  },
  {
   "cell_type": "code",
   "execution_count": 88,
   "metadata": {},
   "outputs": [
    {
     "name": "stdout",
     "output_type": "stream",
     "text": [
      "F_BrkTil    0.089510\n",
      "F_CBlock    0.245601\n",
      "F_PConc     0.247277\n",
      "F_Slab      0.016289\n",
      "F_Stone     0.003439\n",
      "F_Wood      0.002066\n",
      "dtype: float64\n"
     ]
    }
   ],
   "source": [
    "FDummies=pd.get_dummies(fix1.Foundation,prefix='F')\n",
    "print(FDummies.var())\n",
    "FDummies.F_Wood.value_counts()\n",
    "FDummies=FDummies.drop(['F_Wood'],axis=1)"
   ]
  },
  {
   "cell_type": "code",
   "execution_count": 89,
   "metadata": {},
   "outputs": [
    {
     "name": "stdout",
     "output_type": "stream",
     "text": [
      "BQ_Ex    0.076537\n",
      "BQ_Fa    0.023572\n",
      "BQ_Gd    0.244723\n",
      "BQ_TA    0.246652\n",
      "dtype: float64\n"
     ]
    }
   ],
   "source": [
    "BQDummies=pd.get_dummies(fix1.BsmtQual,prefix='BQ')\n",
    "print(BQDummies.var())\n",
    "BQDummies.BQ_Fa.value_counts()\n",
    "BQDummies=BQDummies.drop(['BQ_Fa'],axis=1)"
   ]
  },
  {
   "cell_type": "code",
   "execution_count": 90,
   "metadata": {},
   "outputs": [
    {
     "name": "stdout",
     "output_type": "stream",
     "text": [
      "BE_Av    0.128312\n",
      "BE_Gd    0.083931\n",
      "BE_Mn    0.071324\n",
      "BE_No    0.226716\n",
      "dtype: float64\n"
     ]
    }
   ],
   "source": [
    "BEDummies=pd.get_dummies(fix1.BsmtExposure,prefix='BE')\n",
    "print(BEDummies.var())\n",
    "BEDummies.BE_Mn.value_counts()\n",
    "BEDummies=BEDummies.drop(['BE_Mn'],axis=1)"
   ]
  },
  {
   "cell_type": "code",
   "execution_count": 91,
   "metadata": {},
   "outputs": [
    {
     "name": "stdout",
     "output_type": "stream",
     "text": [
      "GT_2Types     0.004124\n",
      "GT_Attchd     0.240166\n",
      "GT_Basment    0.012268\n",
      "GT_BuiltIn    0.057046\n",
      "GT_CarPort    0.005491\n",
      "GT_Detchd     0.193850\n",
      "dtype: float64\n"
     ]
    }
   ],
   "source": [
    "GTDummies=pd.get_dummies(fix1.GarageType,prefix='GT')\n",
    "print(GTDummies.var())\n",
    "GTDummies.GT_CarPort.value_counts()\n",
    "GTDummies=GTDummies.drop(['GT_CarPort'],axis=1)"
   ]
  },
  {
   "cell_type": "code",
   "execution_count": 92,
   "metadata": {},
   "outputs": [
    {
     "data": {
      "text/plain": [
       "Index([u'Id', u'MSSubClass', u'MSZoning', u'LotFrontage', u'LotArea',\n",
       "       u'LotShape', u'LotConfig', u'Neighborhood', u'Condition1', u'BldgType',\n",
       "       u'HouseStyle', u'YearBuilt', u'YearRemodAdd', u'MasVnrType',\n",
       "       u'Foundation', u'BsmtQual', u'BsmtExposure', u'BsmtUnfSF',\n",
       "       u'TotalBsmtSF', u'1stFlrSF', u'GrLivArea', u'BsmtFullBath',\n",
       "       u'BsmtHalfBath', u'FullBath', u'HalfBath', u'BedroomAbvGr',\n",
       "       u'TotRmsAbvGrd', u'Fireplaces', u'GarageType', u'GarageYrBlt',\n",
       "       u'GarageCars', u'GarageArea', u'WoodDeckSF', u'MoSold', u'YrSold'],\n",
       "      dtype='object')"
      ]
     },
     "execution_count": 92,
     "metadata": {},
     "output_type": "execute_result"
    }
   ],
   "source": [
    "fix1.columns"
   ]
  },
  {
   "cell_type": "code",
   "execution_count": 93,
   "metadata": {},
   "outputs": [],
   "source": [
    "drop=['MSZoning','LotShape','LotConfig','Neighborhood','Condition1','BldgType','HouseStyle','MasVnrType','BsmtQual',\n",
    "     'Foundation','BsmtExposure','GarageType','Id']\n",
    "fix1=fix1.drop(drop,axis=1)\n"
   ]
  },
  {
   "cell_type": "code",
   "execution_count": 94,
   "metadata": {},
   "outputs": [
    {
     "data": {
      "text/plain": [
       "(1450, 94)"
      ]
     },
     "execution_count": 94,
     "metadata": {},
     "output_type": "execute_result"
    }
   ],
   "source": [
    "fix1=pd.concat([fix1,MSZDummies,LSDummies,LCDummies,NDummies,CDummies,BTDummies,HSDummies,MVDummies,BQDummies,FDummies,BEDummies,GTDummies],axis=1)\n",
    "fix1.GarageYrBlt=fix1.GarageYrBlt.fillna(0.0)\n",
    "fix1.shape"
   ]
  },
  {
   "cell_type": "code",
   "execution_count": 95,
   "metadata": {},
   "outputs": [
    {
     "data": {
      "text/plain": [
       "([],\n",
       " ['LS_IR2',\n",
       "  'N_BrkSide',\n",
       "  'BT_Twnhs',\n",
       "  'C_Artery',\n",
       "  'C_PosN',\n",
       "  'F_Stone',\n",
       "  'C_PosA',\n",
       "  'BT_2fmCon',\n",
       "  'HS_1.5Unf',\n",
       "  'N_IDOTRR',\n",
       "  'N_StoneBr',\n",
       "  'N_Veenker',\n",
       "  'N_Mitchel',\n",
       "  'N_SWISU',\n",
       "  'C_RRNn',\n",
       "  'N_Crawfor',\n",
       "  'N_Blmngtn',\n",
       "  'C_RRAe',\n",
       "  'C_RRAn',\n",
       "  'N_Timber',\n",
       "  'MSZ_FV',\n",
       "  'F_Slab',\n",
       "  'N_BrDale',\n",
       "  'N_ClearCr',\n",
       "  'HS_SFoyer',\n",
       "  'N_NoRidge',\n",
       "  'GT_2Types',\n",
       "  'LC_FR2',\n",
       "  'HS_SLvl',\n",
       "  'HS_2.5Fin',\n",
       "  'N_SawyerW',\n",
       "  'N_NPkVill',\n",
       "  'GT_Basment',\n",
       "  'BT_Duplex',\n",
       "  'N_MeadowV'])"
      ]
     },
     "execution_count": 95,
     "metadata": {},
     "output_type": "execute_result"
    }
   ],
   "source": [
    "nearZeroVariance(fix1)"
   ]
  },
  {
   "cell_type": "code",
   "execution_count": 96,
   "metadata": {},
   "outputs": [
    {
     "ename": "AttributeError",
     "evalue": "'DataFrame' object has no attribute 'SaleP'",
     "output_type": "error",
     "traceback": [
      "\u001b[0;31m---------------------------------------------------------------------------\u001b[0m",
      "\u001b[0;31mAttributeError\u001b[0m                            Traceback (most recent call last)",
      "\u001b[0;32m<ipython-input-96-7f4f702d6b90>\u001b[0m in \u001b[0;36m<module>\u001b[0;34m()\u001b[0m\n\u001b[1;32m     12\u001b[0m \u001b[0mX_test\u001b[0m\u001b[0;34m=\u001b[0m\u001b[0mX\u001b[0m\u001b[0;34m[\u001b[0m\u001b[0mX\u001b[0m\u001b[0;34m.\u001b[0m\u001b[0mYrSold\u001b[0m\u001b[0;34m==\u001b[0m\u001b[0;36m2010\u001b[0m\u001b[0;34m]\u001b[0m\u001b[0;34m\u001b[0m\u001b[0m\n\u001b[1;32m     13\u001b[0m \u001b[0mX_test\u001b[0m\u001b[0;34m.\u001b[0m\u001b[0mYrSold\u001b[0m\u001b[0;34m.\u001b[0m\u001b[0mvalue_counts\u001b[0m\u001b[0;34m(\u001b[0m\u001b[0;34m)\u001b[0m\u001b[0;34m\u001b[0m\u001b[0m\n\u001b[0;32m---> 14\u001b[0;31m \u001b[0my\u001b[0m\u001b[0;34m=\u001b[0m\u001b[0mfix\u001b[0m\u001b[0;34m.\u001b[0m\u001b[0mSaleP\u001b[0m\u001b[0;34m\u001b[0m\u001b[0m\n\u001b[0m",
      "\u001b[0;32m/Users/phuahweeliang/anaconda/lib/python2.7/site-packages/pandas/core/generic.pyc\u001b[0m in \u001b[0;36m__getattr__\u001b[0;34m(self, name)\u001b[0m\n\u001b[1;32m   3079\u001b[0m             \u001b[0;32mif\u001b[0m \u001b[0mname\u001b[0m \u001b[0;32min\u001b[0m \u001b[0mself\u001b[0m\u001b[0;34m.\u001b[0m\u001b[0m_info_axis\u001b[0m\u001b[0;34m:\u001b[0m\u001b[0;34m\u001b[0m\u001b[0m\n\u001b[1;32m   3080\u001b[0m                 \u001b[0;32mreturn\u001b[0m \u001b[0mself\u001b[0m\u001b[0;34m[\u001b[0m\u001b[0mname\u001b[0m\u001b[0;34m]\u001b[0m\u001b[0;34m\u001b[0m\u001b[0m\n\u001b[0;32m-> 3081\u001b[0;31m             \u001b[0;32mreturn\u001b[0m \u001b[0mobject\u001b[0m\u001b[0;34m.\u001b[0m\u001b[0m__getattribute__\u001b[0m\u001b[0;34m(\u001b[0m\u001b[0mself\u001b[0m\u001b[0;34m,\u001b[0m \u001b[0mname\u001b[0m\u001b[0;34m)\u001b[0m\u001b[0;34m\u001b[0m\u001b[0m\n\u001b[0m\u001b[1;32m   3082\u001b[0m \u001b[0;34m\u001b[0m\u001b[0m\n\u001b[1;32m   3083\u001b[0m     \u001b[0;32mdef\u001b[0m \u001b[0m__setattr__\u001b[0m\u001b[0;34m(\u001b[0m\u001b[0mself\u001b[0m\u001b[0;34m,\u001b[0m \u001b[0mname\u001b[0m\u001b[0;34m,\u001b[0m \u001b[0mvalue\u001b[0m\u001b[0;34m)\u001b[0m\u001b[0;34m:\u001b[0m\u001b[0;34m\u001b[0m\u001b[0m\n",
      "\u001b[0;31mAttributeError\u001b[0m: 'DataFrame' object has no attribute 'SaleP'"
     ]
    }
   ],
   "source": [
    "from sklearn.model_selection import cross_val_score\n",
    "from sklearn.preprocessing import StandardScaler\n",
    "from sklearn.linear_model import LinearRegression\n",
    "X=fix1\n",
    "names=X.columns\n",
    "ss = StandardScaler()\n",
    "Xs = ss.fit_transform(X)\n",
    "Xs.shape\n",
    "names\n",
    "X_train=X[X.YrSold<2010]\n",
    "X_train.shape\n",
    "X_test=X[X.YrSold==2010]\n",
    "X_test.YrSold.value_counts()\n",
    "y=fix.Sale"
   ]
  },
  {
   "cell_type": "code",
   "execution_count": 37,
   "metadata": {},
   "outputs": [
    {
     "data": {
      "text/plain": [
       "LinearRegression(copy_X=True, fit_intercept=True, n_jobs=1, normalize=False)"
      ]
     },
     "execution_count": 37,
     "metadata": {},
     "output_type": "execute_result"
    }
   ],
   "source": [
    "from sklearn.feature_selection import RFE\n",
    "lr=LinearRegression()\n",
    "#lr.fit(Xs,y)"
   ]
  },
  {
   "cell_type": "code",
   "execution_count": 50,
   "metadata": {},
   "outputs": [
    {
     "data": {
      "text/plain": [
       "array(['MSSubClass', 'LotArea', 'YearBuilt', 'YearRemodAdd', 'BsmtUnfSF',\n",
       "       'TotalBsmtSF', '1stFlrSF', 'GrLivArea', 'BsmtFullBath', 'FullBath',\n",
       "       'HalfBath', 'BedroomAbvGr', 'TotRmsAbvGrd', 'Fireplaces',\n",
       "       'GarageYrBlt', 'GarageCars', 'LS_IR1', 'LS_IR2', 'LS_Reg',\n",
       "       'LC_Corner', 'LC_CulDSac', 'LC_Inside', 'N_Crawfor', 'N_Edwards',\n",
       "       'N_Mitchel', 'N_NoRidge', 'N_NridgHt', 'N_Somerst', 'N_StoneBr',\n",
       "       'N_Veenker', 'C_Feedr', 'C_RRAe', 'BT_1Fam', 'BT_2fmCon',\n",
       "       'HS_1Story', 'HS_2Story', 'MV_BrkFace', 'MV_None', 'MV_Stone',\n",
       "       'BQ_Ex', 'BE_Av', 'BE_Gd', 'BE_No', 'GT_Attchd', 'GT_Basment',\n",
       "       'GT_BuiltIn', 'GT_Detchd'], dtype=object)"
      ]
     },
     "execution_count": 50,
     "metadata": {},
     "output_type": "execute_result"
    }
   ],
   "source": [
    "selector = RFE(lr)\n",
    "selector = selector.fit(Xs, y)\n",
    "selector.support_\n",
    "#print(\"Optimal number of features:\" %d% selector.n_features_)\n",
    "#print sorted(zip( selector.ranking_, names))\n",
    "rfe_columns = np.array(names)[selector.support_]\n",
    "rfe_columns"
   ]
  },
  {
   "cell_type": "code",
   "execution_count": 53,
   "metadata": {},
   "outputs": [
    {
     "data": {
      "text/html": [
       "<div>\n",
       "<style>\n",
       "    .dataframe thead tr:only-child th {\n",
       "        text-align: right;\n",
       "    }\n",
       "\n",
       "    .dataframe thead th {\n",
       "        text-align: left;\n",
       "    }\n",
       "\n",
       "    .dataframe tbody tr th {\n",
       "        vertical-align: top;\n",
       "    }\n",
       "</style>\n",
       "<table border=\"1\" class=\"dataframe\">\n",
       "  <thead>\n",
       "    <tr style=\"text-align: right;\">\n",
       "      <th></th>\n",
       "      <th>MSSubClass</th>\n",
       "      <th>LotArea</th>\n",
       "      <th>YearBuilt</th>\n",
       "      <th>YearRemodAdd</th>\n",
       "      <th>BsmtUnfSF</th>\n",
       "      <th>TotalBsmtSF</th>\n",
       "      <th>1stFlrSF</th>\n",
       "      <th>GrLivArea</th>\n",
       "      <th>BsmtFullBath</th>\n",
       "      <th>FullBath</th>\n",
       "      <th>...</th>\n",
       "      <th>MV_None</th>\n",
       "      <th>MV_Stone</th>\n",
       "      <th>BQ_Ex</th>\n",
       "      <th>BE_Av</th>\n",
       "      <th>BE_Gd</th>\n",
       "      <th>BE_No</th>\n",
       "      <th>GT_Attchd</th>\n",
       "      <th>GT_Basment</th>\n",
       "      <th>GT_BuiltIn</th>\n",
       "      <th>GT_Detchd</th>\n",
       "    </tr>\n",
       "  </thead>\n",
       "  <tbody>\n",
       "    <tr>\n",
       "      <th>0</th>\n",
       "      <td>60</td>\n",
       "      <td>8450</td>\n",
       "      <td>2003</td>\n",
       "      <td>2003</td>\n",
       "      <td>150</td>\n",
       "      <td>856</td>\n",
       "      <td>856</td>\n",
       "      <td>1710</td>\n",
       "      <td>1</td>\n",
       "      <td>2</td>\n",
       "      <td>...</td>\n",
       "      <td>0</td>\n",
       "      <td>0</td>\n",
       "      <td>0</td>\n",
       "      <td>0</td>\n",
       "      <td>0</td>\n",
       "      <td>1</td>\n",
       "      <td>1</td>\n",
       "      <td>0</td>\n",
       "      <td>0</td>\n",
       "      <td>0</td>\n",
       "    </tr>\n",
       "    <tr>\n",
       "      <th>1</th>\n",
       "      <td>20</td>\n",
       "      <td>9600</td>\n",
       "      <td>1976</td>\n",
       "      <td>1976</td>\n",
       "      <td>284</td>\n",
       "      <td>1262</td>\n",
       "      <td>1262</td>\n",
       "      <td>1262</td>\n",
       "      <td>0</td>\n",
       "      <td>2</td>\n",
       "      <td>...</td>\n",
       "      <td>1</td>\n",
       "      <td>0</td>\n",
       "      <td>0</td>\n",
       "      <td>0</td>\n",
       "      <td>1</td>\n",
       "      <td>0</td>\n",
       "      <td>1</td>\n",
       "      <td>0</td>\n",
       "      <td>0</td>\n",
       "      <td>0</td>\n",
       "    </tr>\n",
       "    <tr>\n",
       "      <th>2</th>\n",
       "      <td>60</td>\n",
       "      <td>11250</td>\n",
       "      <td>2001</td>\n",
       "      <td>2002</td>\n",
       "      <td>434</td>\n",
       "      <td>920</td>\n",
       "      <td>920</td>\n",
       "      <td>1786</td>\n",
       "      <td>1</td>\n",
       "      <td>2</td>\n",
       "      <td>...</td>\n",
       "      <td>0</td>\n",
       "      <td>0</td>\n",
       "      <td>0</td>\n",
       "      <td>0</td>\n",
       "      <td>0</td>\n",
       "      <td>0</td>\n",
       "      <td>1</td>\n",
       "      <td>0</td>\n",
       "      <td>0</td>\n",
       "      <td>0</td>\n",
       "    </tr>\n",
       "    <tr>\n",
       "      <th>3</th>\n",
       "      <td>70</td>\n",
       "      <td>9550</td>\n",
       "      <td>1915</td>\n",
       "      <td>1970</td>\n",
       "      <td>540</td>\n",
       "      <td>756</td>\n",
       "      <td>961</td>\n",
       "      <td>1717</td>\n",
       "      <td>1</td>\n",
       "      <td>1</td>\n",
       "      <td>...</td>\n",
       "      <td>1</td>\n",
       "      <td>0</td>\n",
       "      <td>0</td>\n",
       "      <td>0</td>\n",
       "      <td>0</td>\n",
       "      <td>1</td>\n",
       "      <td>0</td>\n",
       "      <td>0</td>\n",
       "      <td>0</td>\n",
       "      <td>1</td>\n",
       "    </tr>\n",
       "    <tr>\n",
       "      <th>4</th>\n",
       "      <td>60</td>\n",
       "      <td>14260</td>\n",
       "      <td>2000</td>\n",
       "      <td>2000</td>\n",
       "      <td>490</td>\n",
       "      <td>1145</td>\n",
       "      <td>1145</td>\n",
       "      <td>2198</td>\n",
       "      <td>1</td>\n",
       "      <td>2</td>\n",
       "      <td>...</td>\n",
       "      <td>0</td>\n",
       "      <td>0</td>\n",
       "      <td>0</td>\n",
       "      <td>1</td>\n",
       "      <td>0</td>\n",
       "      <td>0</td>\n",
       "      <td>1</td>\n",
       "      <td>0</td>\n",
       "      <td>0</td>\n",
       "      <td>0</td>\n",
       "    </tr>\n",
       "  </tbody>\n",
       "</table>\n",
       "<p>5 rows × 47 columns</p>\n",
       "</div>"
      ],
      "text/plain": [
       "   MSSubClass  LotArea  YearBuilt  YearRemodAdd  BsmtUnfSF  TotalBsmtSF  \\\n",
       "0          60     8450       2003          2003        150          856   \n",
       "1          20     9600       1976          1976        284         1262   \n",
       "2          60    11250       2001          2002        434          920   \n",
       "3          70     9550       1915          1970        540          756   \n",
       "4          60    14260       2000          2000        490         1145   \n",
       "\n",
       "   1stFlrSF  GrLivArea  BsmtFullBath  FullBath    ...      MV_None  MV_Stone  \\\n",
       "0       856       1710             1         2    ...            0         0   \n",
       "1      1262       1262             0         2    ...            1         0   \n",
       "2       920       1786             1         2    ...            0         0   \n",
       "3       961       1717             1         1    ...            1         0   \n",
       "4      1145       2198             1         2    ...            0         0   \n",
       "\n",
       "   BQ_Ex  BE_Av  BE_Gd  BE_No  GT_Attchd  GT_Basment  GT_BuiltIn  GT_Detchd  \n",
       "0      0      0      0      1          1           0           0          0  \n",
       "1      0      0      1      0          1           0           0          0  \n",
       "2      0      0      0      0          1           0           0          0  \n",
       "3      0      0      0      1          0           0           0          1  \n",
       "4      0      1      0      0          1           0           0          0  \n",
       "\n",
       "[5 rows x 47 columns]"
      ]
     },
     "execution_count": 53,
     "metadata": {},
     "output_type": "execute_result"
    }
   ],
   "source": [
    "y1=fix1[rfe_columns]\n",
    "y1.head()"
   ]
  },
  {
   "cell_type": "markdown",
   "metadata": {},
   "source": [
    "corr = y1.corr()\n",
    "\n",
    "fig, ax = plt.subplots(figsize=(40,35))\n",
    "\n",
    "mask = np.zeros_like(corr, dtype=np.bool)\n",
    "mask[np.triu_indices_from(mask)] = True\n",
    "\n",
    "ax = sns.heatmap(corr, mask=mask, ax=ax)\n",
    "\n",
    "ax.set_xticklabels(ax.xaxis.get_ticklabels(), fontsize=14)\n",
    "ax.set_yticklabels(ax.yaxis.get_ticklabels(), fontsize=14)\n",
    "\n",
    "plt.show()"
   ]
  },
  {
   "cell_type": "code",
   "execution_count": null,
   "metadata": {
    "collapsed": true
   },
   "outputs": [],
   "source": []
  },
  {
   "cell_type": "code",
   "execution_count": null,
   "metadata": {
    "collapsed": true
   },
   "outputs": [],
   "source": []
  },
  {
   "cell_type": "markdown",
   "metadata": {},
   "source": [
    "<img src=\"http://imgur.com/l5NasQj.png\" style=\"float: left; margin: 25px 15px 0px 0px; height: 25px\">\n",
    "\n",
    "## 2. Determine any value of *changeable* property characteristics unexplained by the *fixed* ones.\n",
    "\n",
    "---\n",
    "\n",
    "Now that you have a model that estimates the price of a house based on its static characteristics, we can move forward with part 2 and 3 of the plan: what are the costs/benefits of quality, condition, and renovations?\n",
    "\n",
    "There are two specific requirements for these estimates:\n",
    "1. The estimates of effects must be in terms of dollars added or subtracted from the house value. \n",
    "2. The effects must be on the variance in price remaining from the first model.\n",
    "\n",
    "The residuals from the first model (training and testing) represent the variance in price unexplained by the fixed characteristics. Of that variance in price remaining, how much of it can be explained by the easy-to-change aspects of the property?\n",
    "\n",
    "---\n",
    "\n",
    "**Your goals:**\n",
    "1. Evaluate the effect in dollars of the renovate-able features. \n",
    "- How would your company use this second model and its coefficients to determine whether they should buy a property or not? Explain how the company can use the two models you have built to determine if they can make money. \n",
    "- Investigate how much of the variance in price remaining is explained by these features.\n",
    "- Do you trust your model? Should it be used to evaluate which properties to buy and fix up?"
   ]
  },
  {
   "cell_type": "code",
   "execution_count": null,
   "metadata": {
    "collapsed": true
   },
   "outputs": [],
   "source": []
  },
  {
   "cell_type": "code",
   "execution_count": 335,
   "metadata": {
    "collapsed": true
   },
   "outputs": [],
   "source": [
    "# A:"
   ]
  },
  {
   "cell_type": "markdown",
   "metadata": {},
   "source": [
    "<img src=\"http://imgur.com/GCAf1UX.png\" style=\"float: left; margin: 25px 15px 0px 0px; height: 25px\">\n",
    "\n",
    "## 3. What property characteristics predict an \"abnormal\" sale?\n",
    "\n",
    "---\n",
    "\n",
    "The `SaleCondition` feature indicates the circumstances of the house sale. From the data file, we can see that the possibilities are:\n",
    "\n",
    "       Normal\tNormal Sale\n",
    "       Abnorml\tAbnormal Sale -  trade, foreclosure, short sale\n",
    "       AdjLand\tAdjoining Land Purchase\n",
    "       Alloca\tAllocation - two linked properties with separate deeds, typically condo with a garage unit\t\n",
    "       Family\tSale between family members\n",
    "       Partial\tHome was not completed when last assessed (associated with New Homes)\n",
    "       \n",
    "One of the executives at your company has an \"in\" with higher-ups at the major regional bank. His friends at the bank have made him a proposal: if he can reliably indicate what features, if any, predict \"abnormal\" sales (foreclosures, short sales, etc.), then in return the bank will give him first dibs on the pre-auction purchase of those properties (at a dirt-cheap price).\n",
    "\n",
    "He has tasked you with determining (and adequately validating) which features of a property predict this type of sale. \n",
    "\n",
    "---\n",
    "\n",
    "**Your task:**\n",
    "1. Determine which features predict the `Abnorml` category in the `SaleCondition` feature.\n",
    "- Justify your results.\n",
    "\n",
    "This is a challenging task that tests your ability to perform classification analysis in the face of severe class imbalance. You may find that simply running a classifier on the full dataset to predict the category ends up useless: when there is bad class imbalance classifiers often tend to simply guess the majority class.\n",
    "\n",
    "It is up to you to determine how you will tackle this problem. I recommend doing some research to find out how others have dealt with the problem in the past. Make sure to justify your solution. Don't worry about it being \"the best\" solution, but be rigorous.\n",
    "\n",
    "Be sure to indicate which features are predictive (if any) and whether they are positive or negative predictors of abnormal sales."
   ]
  },
  {
   "cell_type": "code",
   "execution_count": 336,
   "metadata": {
    "collapsed": true
   },
   "outputs": [],
   "source": [
    "# A:"
   ]
  }
 ],
 "metadata": {
  "kernelspec": {
   "display_name": "Python 2",
   "language": "python",
   "name": "python2"
  },
  "language_info": {
   "codemirror_mode": {
    "name": "ipython",
    "version": 2
   },
   "file_extension": ".py",
   "mimetype": "text/x-python",
   "name": "python",
   "nbconvert_exporter": "python",
   "pygments_lexer": "ipython2",
   "version": "2.7.13"
  }
 },
 "nbformat": 4,
 "nbformat_minor": 2
}
