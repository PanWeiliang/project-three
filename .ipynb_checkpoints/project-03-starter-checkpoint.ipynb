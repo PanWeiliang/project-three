{
 "cells": [
  {
   "cell_type": "markdown",
   "metadata": {},
   "source": [
    "<img src=\"http://imgur.com/1ZcRyrc.png\" style=\"float: left; margin: 15px; height: 80px\">\n",
    "\n",
    "# Project 3\n",
    "\n",
    "### Regression and Classification with the Ames Housing Data\n",
    "\n",
    "---\n",
    "\n",
    "You have just joined a new \"full stack\" real estate company in Ames, Iowa. The strategy of the firm is two-fold:\n",
    "- Own the entire process from the purchase of the land all the way to sale of the house, and anything in between.\n",
    "- Use statistical analysis to optimize investment and maximize return.\n",
    "\n",
    "The company is still small, and though investment is substantial the short-term goals of the company are more oriented towards purchasing existing houses and flipping them as opposed to constructing entirely new houses. That being said, the company has access to a large construction workforce operating at rock-bottom prices.\n",
    "\n",
    "This project uses the [Ames housing data recently made available on kaggle](https://www.kaggle.com/c/house-prices-advanced-regression-techniques)."
   ]
  },
  {
   "cell_type": "code",
   "execution_count": 541,
   "metadata": {
    "collapsed": true
   },
   "outputs": [],
   "source": [
    "import numpy as np\n",
    "import scipy.stats as stats\n",
    "import seaborn as sns\n",
    "import matplotlib.pyplot as plt\n",
    "import pandas as pd\n",
    "\n",
    "sns.set_style('whitegrid')\n",
    "\n",
    "%config InlineBackend.figure_format = 'retina'\n",
    "%matplotlib inline"
   ]
  },
  {
   "cell_type": "markdown",
   "metadata": {},
   "source": [
    "<img src=\"http://imgur.com/l5NasQj.png\" style=\"float: left; margin: 25px 15px 0px 0px; height: 25px\">\n",
    "\n",
    "## 1. Estimating the value of homes from fixed characteristics.\n",
    "\n",
    "---\n",
    "\n",
    "Your superiors have outlined this year's strategy for the company:\n",
    "1. Develop an algorithm to reliably estimate the value of residential houses based on *fixed* characteristics.\n",
    "2. Identify characteristics of houses that the company can cost-effectively change/renovate with their construction team.\n",
    "3. Evaluate the mean dollar value of different renovations.\n",
    "\n",
    "Then we can use that to buy houses that are likely to sell for more than the cost of the purchase plus renovations.\n",
    "\n",
    "Your first job is to tackle #1. You have a dataset of housing sale data with a huge amount of features identifying different aspects of the house. The full description of the data features can be found in a separate file:\n",
    "\n",
    "    housing.csv\n",
    "    data_description.txt\n",
    "    \n",
    "You need to build a reliable estimator for the price of the house given characteristics of the house that cannot be renovated. Some examples include:\n",
    "- The neighborhood\n",
    "- Square feet\n",
    "- Bedrooms, bathrooms\n",
    "- Basement and garage space\n",
    "\n",
    "and many more. \n",
    "\n",
    "Some examples of things that **ARE renovate-able:**\n",
    "- Roof and exterior features\n",
    "- \"Quality\" metrics, such as kitchen quality\n",
    "- \"Condition\" metrics, such as condition of garage\n",
    "- Heating and electrical components\n",
    "\n",
    "and generally anything you deem can be modified without having to undergo major construction on the house.\n",
    "\n",
    "---\n",
    "\n",
    "**Your goals:**\n",
    "1. Perform any cleaning, feature engineering, and EDA you deem necessary.\n",
    "- Be sure to remove any houses that are not residential from the dataset.\n",
    "- Identify **fixed** features that can predict price.\n",
    "- Train a model on pre-2010 data and evaluate its performance on the 2010 houses.\n",
    "- Characterize your model. How well does it perform? What are the best estimates of price?\n",
    "\n",
    "> **Note:** The EDA and feature engineering component to this project is not trivial! Be sure to always think critically and creatively. Justify your actions! Use the data description file!"
   ]
  },
  {
   "cell_type": "code",
   "execution_count": 542,
   "metadata": {},
   "outputs": [
    {
     "data": {
      "text/plain": [
       "(1460, 81)"
      ]
     },
     "execution_count": 542,
     "metadata": {},
     "output_type": "execute_result"
    }
   ],
   "source": [
    "# Load the data\n",
    "house = pd.read_csv('./housing.csv')\n",
    "house.head()\n",
    "house.shape"
   ]
  },
  {
   "cell_type": "code",
   "execution_count": 543,
   "metadata": {
    "collapsed": true
   },
   "outputs": [],
   "source": [
    "house.LotFrontage.isnull().sum()\n",
    "house.LotFrontage=house.LotFrontage.fillna(0.0)"
   ]
  },
  {
   "cell_type": "code",
   "execution_count": 544,
   "metadata": {},
   "outputs": [
    {
     "data": {
      "text/plain": [
       "Index([u'Id', u'MSSubClass', u'MSZoning', u'LotFrontage', u'LotArea',\n",
       "       u'Street', u'Alley', u'LotShape', u'LandContour', u'Utilities',\n",
       "       u'LotConfig', u'LandSlope', u'Neighborhood', u'Condition1',\n",
       "       u'Condition2', u'BldgType', u'HouseStyle', u'OverallQual',\n",
       "       u'OverallCond', u'YearBuilt', u'YearRemodAdd', u'RoofStyle',\n",
       "       u'RoofMatl', u'Exterior1st', u'Exterior2nd', u'MasVnrType',\n",
       "       u'MasVnrArea', u'ExterQual', u'ExterCond', u'Foundation', u'BsmtQual',\n",
       "       u'BsmtCond', u'BsmtExposure', u'BsmtFinType1', u'BsmtFinSF1',\n",
       "       u'BsmtFinType2', u'BsmtFinSF2', u'BsmtUnfSF', u'TotalBsmtSF',\n",
       "       u'Heating', u'HeatingQC', u'CentralAir', u'Electrical', u'1stFlrSF',\n",
       "       u'2ndFlrSF', u'LowQualFinSF', u'GrLivArea', u'BsmtFullBath',\n",
       "       u'BsmtHalfBath', u'FullBath', u'HalfBath', u'BedroomAbvGr',\n",
       "       u'KitchenAbvGr', u'KitchenQual', u'TotRmsAbvGrd', u'Functional',\n",
       "       u'Fireplaces', u'FireplaceQu', u'GarageType', u'GarageYrBlt',\n",
       "       u'GarageFinish', u'GarageCars', u'GarageArea', u'GarageQual',\n",
       "       u'GarageCond', u'PavedDrive', u'WoodDeckSF', u'OpenPorchSF',\n",
       "       u'EnclosedPorch', u'3SsnPorch', u'ScreenPorch', u'PoolArea', u'PoolQC',\n",
       "       u'Fence', u'MiscFeature', u'MiscVal', u'MoSold', u'YrSold', u'SaleType',\n",
       "       u'SaleCondition', u'SalePrice'],\n",
       "      dtype='object')"
      ]
     },
     "execution_count": 544,
     "metadata": {},
     "output_type": "execute_result"
    }
   ],
   "source": [
    "house.columns"
   ]
  },
  {
   "cell_type": "code",
   "execution_count": 545,
   "metadata": {},
   "outputs": [
    {
     "data": {
      "text/plain": [
       "(1460, 24)"
      ]
     },
     "execution_count": 545,
     "metadata": {},
     "output_type": "execute_result"
    }
   ],
   "source": [
    "reno_able=house[['OverallQual','OverallCond','RoofStyle','RoofMatl','Exterior1st','Exterior2nd','ExterQual','ExterCond','BsmtCond',\n",
    "                 'BsmtFinType1','BsmtFinType2','Heating','HeatingQC','CentralAir','Electrical','LowQualFinSF','KitchenQual','FireplaceQu'\n",
    "                 ,'GarageFinish','GarageQual','GarageCond','PavedDrive','PoolQC','Fence']]\n",
    "reno_col=reno_able.columns\n",
    "reno_able.shape"
   ]
  },
  {
   "cell_type": "code",
   "execution_count": 546,
   "metadata": {},
   "outputs": [
    {
     "data": {
      "text/plain": [
       "(1460, 57)"
      ]
     },
     "execution_count": 546,
     "metadata": {},
     "output_type": "execute_result"
    }
   ],
   "source": [
    "fix=house.drop(reno_col,axis=1)\n",
    "fix.shape"
   ]
  },
  {
   "cell_type": "code",
   "execution_count": 547,
   "metadata": {},
   "outputs": [
    {
     "data": {
      "text/html": [
       "<div>\n",
       "<style>\n",
       "    .dataframe thead tr:only-child th {\n",
       "        text-align: right;\n",
       "    }\n",
       "\n",
       "    .dataframe thead th {\n",
       "        text-align: left;\n",
       "    }\n",
       "\n",
       "    .dataframe tbody tr th {\n",
       "        vertical-align: top;\n",
       "    }\n",
       "</style>\n",
       "<table border=\"1\" class=\"dataframe\">\n",
       "  <thead>\n",
       "    <tr style=\"text-align: right;\">\n",
       "      <th></th>\n",
       "      <th>Id</th>\n",
       "      <th>MSSubClass</th>\n",
       "      <th>MSZoning</th>\n",
       "      <th>LotFrontage</th>\n",
       "      <th>LotArea</th>\n",
       "      <th>Street</th>\n",
       "      <th>Alley</th>\n",
       "      <th>LotShape</th>\n",
       "      <th>LandContour</th>\n",
       "      <th>Utilities</th>\n",
       "      <th>...</th>\n",
       "      <th>3SsnPorch</th>\n",
       "      <th>ScreenPorch</th>\n",
       "      <th>PoolArea</th>\n",
       "      <th>MiscFeature</th>\n",
       "      <th>MiscVal</th>\n",
       "      <th>MoSold</th>\n",
       "      <th>YrSold</th>\n",
       "      <th>SaleType</th>\n",
       "      <th>SaleCondition</th>\n",
       "      <th>SalePrice</th>\n",
       "    </tr>\n",
       "  </thead>\n",
       "  <tbody>\n",
       "    <tr>\n",
       "      <th>0</th>\n",
       "      <td>1</td>\n",
       "      <td>60</td>\n",
       "      <td>RL</td>\n",
       "      <td>65.0</td>\n",
       "      <td>8450</td>\n",
       "      <td>Pave</td>\n",
       "      <td>NaN</td>\n",
       "      <td>Reg</td>\n",
       "      <td>Lvl</td>\n",
       "      <td>AllPub</td>\n",
       "      <td>...</td>\n",
       "      <td>0</td>\n",
       "      <td>0</td>\n",
       "      <td>0</td>\n",
       "      <td>NaN</td>\n",
       "      <td>0</td>\n",
       "      <td>2</td>\n",
       "      <td>2008</td>\n",
       "      <td>WD</td>\n",
       "      <td>Normal</td>\n",
       "      <td>208500</td>\n",
       "    </tr>\n",
       "    <tr>\n",
       "      <th>1</th>\n",
       "      <td>2</td>\n",
       "      <td>20</td>\n",
       "      <td>RL</td>\n",
       "      <td>80.0</td>\n",
       "      <td>9600</td>\n",
       "      <td>Pave</td>\n",
       "      <td>NaN</td>\n",
       "      <td>Reg</td>\n",
       "      <td>Lvl</td>\n",
       "      <td>AllPub</td>\n",
       "      <td>...</td>\n",
       "      <td>0</td>\n",
       "      <td>0</td>\n",
       "      <td>0</td>\n",
       "      <td>NaN</td>\n",
       "      <td>0</td>\n",
       "      <td>5</td>\n",
       "      <td>2007</td>\n",
       "      <td>WD</td>\n",
       "      <td>Normal</td>\n",
       "      <td>181500</td>\n",
       "    </tr>\n",
       "    <tr>\n",
       "      <th>2</th>\n",
       "      <td>3</td>\n",
       "      <td>60</td>\n",
       "      <td>RL</td>\n",
       "      <td>68.0</td>\n",
       "      <td>11250</td>\n",
       "      <td>Pave</td>\n",
       "      <td>NaN</td>\n",
       "      <td>IR1</td>\n",
       "      <td>Lvl</td>\n",
       "      <td>AllPub</td>\n",
       "      <td>...</td>\n",
       "      <td>0</td>\n",
       "      <td>0</td>\n",
       "      <td>0</td>\n",
       "      <td>NaN</td>\n",
       "      <td>0</td>\n",
       "      <td>9</td>\n",
       "      <td>2008</td>\n",
       "      <td>WD</td>\n",
       "      <td>Normal</td>\n",
       "      <td>223500</td>\n",
       "    </tr>\n",
       "    <tr>\n",
       "      <th>3</th>\n",
       "      <td>4</td>\n",
       "      <td>70</td>\n",
       "      <td>RL</td>\n",
       "      <td>60.0</td>\n",
       "      <td>9550</td>\n",
       "      <td>Pave</td>\n",
       "      <td>NaN</td>\n",
       "      <td>IR1</td>\n",
       "      <td>Lvl</td>\n",
       "      <td>AllPub</td>\n",
       "      <td>...</td>\n",
       "      <td>0</td>\n",
       "      <td>0</td>\n",
       "      <td>0</td>\n",
       "      <td>NaN</td>\n",
       "      <td>0</td>\n",
       "      <td>2</td>\n",
       "      <td>2006</td>\n",
       "      <td>WD</td>\n",
       "      <td>Abnorml</td>\n",
       "      <td>140000</td>\n",
       "    </tr>\n",
       "    <tr>\n",
       "      <th>4</th>\n",
       "      <td>5</td>\n",
       "      <td>60</td>\n",
       "      <td>RL</td>\n",
       "      <td>84.0</td>\n",
       "      <td>14260</td>\n",
       "      <td>Pave</td>\n",
       "      <td>NaN</td>\n",
       "      <td>IR1</td>\n",
       "      <td>Lvl</td>\n",
       "      <td>AllPub</td>\n",
       "      <td>...</td>\n",
       "      <td>0</td>\n",
       "      <td>0</td>\n",
       "      <td>0</td>\n",
       "      <td>NaN</td>\n",
       "      <td>0</td>\n",
       "      <td>12</td>\n",
       "      <td>2008</td>\n",
       "      <td>WD</td>\n",
       "      <td>Normal</td>\n",
       "      <td>250000</td>\n",
       "    </tr>\n",
       "  </tbody>\n",
       "</table>\n",
       "<p>5 rows × 57 columns</p>\n",
       "</div>"
      ],
      "text/plain": [
       "   Id  MSSubClass MSZoning  LotFrontage  LotArea Street Alley LotShape  \\\n",
       "0   1          60       RL         65.0     8450   Pave   NaN      Reg   \n",
       "1   2          20       RL         80.0     9600   Pave   NaN      Reg   \n",
       "2   3          60       RL         68.0    11250   Pave   NaN      IR1   \n",
       "3   4          70       RL         60.0     9550   Pave   NaN      IR1   \n",
       "4   5          60       RL         84.0    14260   Pave   NaN      IR1   \n",
       "\n",
       "  LandContour Utilities    ...    3SsnPorch ScreenPorch PoolArea MiscFeature  \\\n",
       "0         Lvl    AllPub    ...            0           0        0         NaN   \n",
       "1         Lvl    AllPub    ...            0           0        0         NaN   \n",
       "2         Lvl    AllPub    ...            0           0        0         NaN   \n",
       "3         Lvl    AllPub    ...            0           0        0         NaN   \n",
       "4         Lvl    AllPub    ...            0           0        0         NaN   \n",
       "\n",
       "  MiscVal MoSold YrSold  SaleType  SaleCondition SalePrice  \n",
       "0       0      2   2008        WD         Normal    208500  \n",
       "1       0      5   2007        WD         Normal    181500  \n",
       "2       0      9   2008        WD         Normal    223500  \n",
       "3       0      2   2006        WD        Abnorml    140000  \n",
       "4       0     12   2008        WD         Normal    250000  \n",
       "\n",
       "[5 rows x 57 columns]"
      ]
     },
     "execution_count": 547,
     "metadata": {},
     "output_type": "execute_result"
    }
   ],
   "source": [
    "fix.head()"
   ]
  },
  {
   "cell_type": "code",
   "execution_count": 548,
   "metadata": {},
   "outputs": [
    {
     "data": {
      "text/plain": [
       "RL         1151\n",
       "RM          218\n",
       "FV           65\n",
       "RH           16\n",
       "C (all)      10\n",
       "Name: MSZoning, dtype: int64"
      ]
     },
     "execution_count": 548,
     "metadata": {},
     "output_type": "execute_result"
    }
   ],
   "source": [
    "fix.MSZoning.value_counts()"
   ]
  },
  {
   "cell_type": "code",
   "execution_count": 549,
   "metadata": {
    "collapsed": true
   },
   "outputs": [],
   "source": [
    "c=fix[fix['MSZoning']=='C (all)']\n",
    "fix=fix.drop(c.index)\n",
    "fix.MSZoning.value_counts()\n",
    "X_all=fix"
   ]
  },
  {
   "cell_type": "code",
   "execution_count": 550,
   "metadata": {},
   "outputs": [
    {
     "data": {
      "text/plain": [
       "(1450, 57)"
      ]
     },
     "execution_count": 550,
     "metadata": {},
     "output_type": "execute_result"
    }
   ],
   "source": [
    "fix.head()\n",
    "fix.shape"
   ]
  },
  {
   "cell_type": "code",
   "execution_count": 551,
   "metadata": {},
   "outputs": [
    {
     "data": {
      "text/plain": [
       "['3SsnPorch',\n",
       " 'OpenPorchSF',\n",
       " '2ndFlrSF',\n",
       " 'MasVnrArea',\n",
       " 'EnclosedPorch',\n",
       " 'MiscVal',\n",
       " 'Utilities',\n",
       " 'KitchenAbvGr',\n",
       " 'BsmtFinSF1',\n",
       " 'BsmtFinSF2',\n",
       " 'MiscFeature',\n",
       " 'LandSlope',\n",
       " 'Condition2',\n",
       " 'LandContour',\n",
       " 'PoolArea',\n",
       " 'ScreenPorch',\n",
       " 'Functional',\n",
       " 'Street']"
      ]
     },
     "execution_count": 551,
     "metadata": {},
     "output_type": "execute_result"
    }
   ],
   "source": [
    "def nearZeroVariance(X, freqCut = 95 / 5, uniqueCut = 10):\n",
    "    '''\n",
    "    Determine predictors with near zero or zero variance.\n",
    "    Inputs:\n",
    "    X: pandas data frame\n",
    "    freqCut: the cutoff for the ratio of the most common value to the second most common value\n",
    "    uniqueCut: the cutoff for the percentage of distinct values out of the number of total samples\n",
    "    Returns a tuple containing a list of column names: (zeroVar, nzVar)\n",
    "    '''\n",
    "\n",
    "    colNames = X.columns.values.tolist()\n",
    "    freqRatio = dict()\n",
    "    uniquePct = dict()\n",
    "\n",
    "    for names in colNames:\n",
    "        counts = (\n",
    "            (X[names])\n",
    "            .value_counts()\n",
    "            .sort_values(ascending = False)\n",
    "            .values\n",
    "            )\n",
    "\n",
    "        if len(counts) == 1:\n",
    "            freqRatio[names] = -1\n",
    "            uniquePct[names] = (len(counts) / len(X[names])) * 100\n",
    "            continue\n",
    "\n",
    "        freqRatio[names] = counts[0] / counts[1]\n",
    "        uniquePct[names] = (len(counts) / len(X[names])) * 100\n",
    "\n",
    "    zeroVar = list()\n",
    "    nzVar = list()\n",
    "    for k in uniquePct.keys():\n",
    "        if freqRatio[k] == -1:\n",
    "            zeroVar.append(k)\n",
    "\n",
    "        if uniquePct[k] < uniqueCut and freqRatio[k] > freqCut:\n",
    "            nzVar.append(k)\n",
    "\n",
    "    return(zeroVar, nzVar)\n",
    "\n",
    "nzv=nearZeroVariance(fix)\n",
    "nzv=nzv[1]\n",
    "nzv"
   ]
  },
  {
   "cell_type": "code",
   "execution_count": 552,
   "metadata": {},
   "outputs": [
    {
     "name": "stdout",
     "output_type": "stream",
     "text": [
      "Grvl    50\n",
      "Pave    39\n",
      "Name: Alley, dtype: int64\n",
      "(1450, 35)\n"
     ]
    }
   ],
   "source": [
    "print(fix['Alley'].value_counts())\n",
    "fix1=fix.drop(nzv+['Alley']+['SaleCondition']+['SaleType']+['SalePrice'],axis=1)\n",
    "print(fix1.shape)"
   ]
  },
  {
   "cell_type": "code",
   "execution_count": 553,
   "metadata": {},
   "outputs": [
    {
     "name": "stdout",
     "output_type": "stream",
     "text": [
      "MSZ_FV    0.042848\n",
      "MSZ_RH    0.010920\n",
      "MSZ_RL    0.163799\n",
      "MSZ_RM    0.127829\n",
      "dtype: float64\n",
      "0    1434\n",
      "1      16\n",
      "Name: MSZ_RH, dtype: int64\n"
     ]
    }
   ],
   "source": [
    "MSZDummies=pd.get_dummies(fix1.MSZoning,prefix='MSZ')\n",
    "print(MSZDummies.var())\n",
    "print(MSZDummies.MSZ_RH.value_counts())\n",
    "MSZDummies=MSZDummies.drop(['MSZ_RH'],axis=1)"
   ]
  },
  {
   "cell_type": "code",
   "execution_count": 554,
   "metadata": {},
   "outputs": [],
   "source": [
    "LSDummies=pd.get_dummies(fix1.LotShape,prefix='LS')\n",
    "LSDummies=LSDummies.drop(['LS_IR3'],axis=1)"
   ]
  },
  {
   "cell_type": "code",
   "execution_count": 555,
   "metadata": {},
   "outputs": [],
   "source": [
    "LCDummies=pd.get_dummies(fix1.LotConfig,prefix='LC')\n",
    "LCDummies=LCDummies.drop(['LC_FR3'],axis=1)"
   ]
  },
  {
   "cell_type": "code",
   "execution_count": 556,
   "metadata": {},
   "outputs": [],
   "source": [
    "NDummies=pd.get_dummies(fix1.Neighborhood,prefix='N')\n",
    "NDummies=NDummies.drop(['N_Blueste'],axis=1)"
   ]
  },
  {
   "cell_type": "code",
   "execution_count": 557,
   "metadata": {},
   "outputs": [],
   "source": [
    "CDummies=pd.get_dummies(fix1.Condition1,prefix='C')\n",
    "CDummies=CDummies.drop(['C_RRNe'],axis=1)"
   ]
  },
  {
   "cell_type": "code",
   "execution_count": 558,
   "metadata": {},
   "outputs": [],
   "source": [
    "BTDummies=pd.get_dummies(fix1.BldgType,prefix='BT')\n",
    "BTDummies=BTDummies.drop(['BT_TwnhsE'],axis=1)"
   ]
  },
  {
   "cell_type": "code",
   "execution_count": 559,
   "metadata": {},
   "outputs": [],
   "source": [
    "HSDummies=pd.get_dummies(fix1.HouseStyle,prefix='HS')\n",
    "HSDummies=HSDummies.drop(['HS_2.5Unf'],axis=1)"
   ]
  },
  {
   "cell_type": "code",
   "execution_count": 560,
   "metadata": {},
   "outputs": [],
   "source": [
    "MVDummies=pd.get_dummies(fix1.MasVnrType,prefix='MV')\n",
    "MVDummies=MVDummies.drop(['MV_BrkCmn'],axis=1)"
   ]
  },
  {
   "cell_type": "code",
   "execution_count": 561,
   "metadata": {},
   "outputs": [],
   "source": [
    "FDummies=pd.get_dummies(fix1.Foundation,prefix='F')\n",
    "FDummies=FDummies.drop(['F_Wood'],axis=1)"
   ]
  },
  {
   "cell_type": "code",
   "execution_count": 562,
   "metadata": {},
   "outputs": [],
   "source": [
    "BQDummies=pd.get_dummies(fix1.BsmtQual,prefix='BQ')\n",
    "BQDummies=BQDummies.drop(['BQ_Fa'],axis=1)"
   ]
  },
  {
   "cell_type": "code",
   "execution_count": 563,
   "metadata": {},
   "outputs": [],
   "source": [
    "BEDummies=pd.get_dummies(fix1.BsmtExposure,prefix='BE')\n",
    "BEDummies=BEDummies.drop(['BE_Mn'],axis=1)"
   ]
  },
  {
   "cell_type": "code",
   "execution_count": 564,
   "metadata": {},
   "outputs": [],
   "source": [
    "GTDummies=pd.get_dummies(fix1.GarageType,prefix='GT')\n",
    "GTDummies=GTDummies.drop(['GT_CarPort'],axis=1)"
   ]
  },
  {
   "cell_type": "code",
   "execution_count": 565,
   "metadata": {},
   "outputs": [
    {
     "data": {
      "text/plain": [
       "Index([u'Id', u'MSSubClass', u'MSZoning', u'LotFrontage', u'LotArea',\n",
       "       u'LotShape', u'LotConfig', u'Neighborhood', u'Condition1', u'BldgType',\n",
       "       u'HouseStyle', u'YearBuilt', u'YearRemodAdd', u'MasVnrType',\n",
       "       u'Foundation', u'BsmtQual', u'BsmtExposure', u'BsmtUnfSF',\n",
       "       u'TotalBsmtSF', u'1stFlrSF', u'GrLivArea', u'BsmtFullBath',\n",
       "       u'BsmtHalfBath', u'FullBath', u'HalfBath', u'BedroomAbvGr',\n",
       "       u'TotRmsAbvGrd', u'Fireplaces', u'GarageType', u'GarageYrBlt',\n",
       "       u'GarageCars', u'GarageArea', u'WoodDeckSF', u'MoSold', u'YrSold'],\n",
       "      dtype='object')"
      ]
     },
     "execution_count": 565,
     "metadata": {},
     "output_type": "execute_result"
    }
   ],
   "source": [
    "fix1.columns"
   ]
  },
  {
   "cell_type": "code",
   "execution_count": 566,
   "metadata": {
    "collapsed": true
   },
   "outputs": [],
   "source": [
    "drop=['MSZoning','LotShape','LotConfig','Neighborhood','Condition1','BldgType','HouseStyle','MasVnrType','BsmtQual',\n",
    "     'Foundation','BsmtExposure','GarageType','Id']\n",
    "fix1=fix1.drop(drop,axis=1)"
   ]
  },
  {
   "cell_type": "code",
   "execution_count": 567,
   "metadata": {},
   "outputs": [
    {
     "data": {
      "text/plain": [
       "(1450, 94)"
      ]
     },
     "execution_count": 567,
     "metadata": {},
     "output_type": "execute_result"
    }
   ],
   "source": [
    "fix1=pd.concat([fix1,MSZDummies,LSDummies,LCDummies,NDummies,CDummies,BTDummies,HSDummies,MVDummies,BQDummies,FDummies,BEDummies,GTDummies],axis=1)\n",
    "fix1.GarageYrBlt=fix1.GarageYrBlt.fillna(0.0)\n",
    "fix1.shape"
   ]
  },
  {
   "cell_type": "code",
   "execution_count": 568,
   "metadata": {},
   "outputs": [],
   "source": [
    "from sklearn.model_selection import cross_val_score\n",
    "from sklearn.preprocessing import StandardScaler\n",
    "from sklearn.linear_model import LinearRegression, Ridge, Lasso, ElasticNet,RidgeCV, LassoCV, ElasticNetCV, LogisticRegression\n",
    "from sklearn.cross_validation import cross_val_score, cross_val_predict\n",
    "from sklearn.cross_validation import train_test_split\n",
    "from sklearn import metrics\n",
    "from sklearn.grid_search import GridSearchCV\n",
    "from sklearn.metrics import classification_report, confusion_matrix\n",
    "from sklearn.svm import SVR,SVC\n",
    "from sklearn.feature_selection import RFE\n",
    "import xgboost\n",
    "X=fix1\n",
    "names=X.columns\n",
    "ss = StandardScaler()\n",
    "Xs = ss.fit_transform(X)\n",
    "Xs.shape\n",
    "names\n",
    "X_train=X[X.YrSold<2010]\n",
    "Xs_train=ss.fit_transform(X_train)\n",
    "X_test=X[X.YrSold==2010]\n",
    "Xs_test=ss.transform(X_test)\n",
    "y_train=fix[fix.YrSold<2010]\n",
    "y_train=y_train.SalePrice\n",
    "y_test=fix[fix.YrSold==2010]\n",
    "y_test=y_test.SalePrice\n",
    "y=fix.SalePrice"
   ]
  },
  {
   "cell_type": "code",
   "execution_count": 569,
   "metadata": {
    "collapsed": true
   },
   "outputs": [],
   "source": [
    "lr=LinearRegression()"
   ]
  },
  {
   "cell_type": "code",
   "execution_count": 570,
   "metadata": {},
   "outputs": [
    {
     "data": {
      "text/plain": [
       "0.86654239511950093"
      ]
     },
     "execution_count": 570,
     "metadata": {},
     "output_type": "execute_result"
    }
   ],
   "source": [
    "lr.fit(X_train,y_train)\n",
    "lr.score(X_test,y_test)"
   ]
  },
  {
   "cell_type": "code",
   "execution_count": 571,
   "metadata": {},
   "outputs": [
    {
     "data": {
      "text/plain": [
       "<seaborn.axisgrid.JointGrid at 0x130e07b90>"
      ]
     },
     "execution_count": 571,
     "metadata": {},
     "output_type": "execute_result"
    },
    {
     "data": {
      "image/png": "[encoded data removed]",
      "text/plain": [
       "<matplotlib.figure.Figure at 0x127044590>"
      ]
     },
     "metadata": {
      "image/png": {
       "height": 425,
       "width": 444
      }
     },
     "output_type": "display_data"
    }
   ],
   "source": [
    "yhat = lr.predict(X_test)\n",
    "sns.jointplot(y_test, yhat,kind='reg')"
   ]
  },
  {
   "cell_type": "code",
   "execution_count": 572,
   "metadata": {},
   "outputs": [
    {
     "data": {
      "text/plain": [
       "0.86637173884202601"
      ]
     },
     "execution_count": 572,
     "metadata": {},
     "output_type": "execute_result"
    }
   ],
   "source": [
    "ridge=Ridge()\n",
    "ridge.fit(Xs_train,y_train)\n",
    "ridge.score(Xs_test,y_test)"
   ]
  },
  {
   "cell_type": "code",
   "execution_count": 573,
   "metadata": {},
   "outputs": [
    {
     "data": {
      "text/plain": [
       "0.86651353298633904"
      ]
     },
     "execution_count": 573,
     "metadata": {},
     "output_type": "execute_result"
    }
   ],
   "source": [
    "lasso=Lasso()\n",
    "lasso.fit(Xs_train,y_train)\n",
    "lasso.score(Xs_test,y_test)"
   ]
  },
  {
   "cell_type": "code",
   "execution_count": 574,
   "metadata": {
    "collapsed": true
   },
   "outputs": [],
   "source": [
    "lasso_coefs = pd.DataFrame({'variable':X.columns,\n",
    "                            'coef':lasso.coef_,\n",
    "                            'abs_coef':np.abs(lasso.coef_)})\n",
    "\n",
    "lasso_coefs.sort_values('abs_coef', inplace=True, ascending=False)\n"
   ]
  },
  {
   "cell_type": "code",
   "execution_count": 575,
   "metadata": {},
   "outputs": [],
   "source": [
    "selector = RFE(lr)\n",
    "selector = selector.fit(Xs, y)\n",
    "selector.support_\n",
    "ranking= sorted(zip(map(lambda x: round(x, 4), selector.ranking_), names))"
   ]
  },
  {
   "cell_type": "code",
   "execution_count": 576,
   "metadata": {},
   "outputs": [
    {
     "data": {
      "text/plain": [
       "array(['MSSubClass', 'LotArea', 'YearBuilt', 'YearRemodAdd', 'BsmtUnfSF',\n",
       "       'TotalBsmtSF', '1stFlrSF', 'GrLivArea', 'BsmtFullBath', 'FullBath',\n",
       "       'HalfBath', 'BedroomAbvGr', 'TotRmsAbvGrd', 'Fireplaces',\n",
       "       'GarageYrBlt', 'GarageCars', 'LS_IR1', 'LS_IR2', 'LS_Reg',\n",
       "       'LC_Corner', 'LC_CulDSac', 'LC_Inside', 'N_Crawfor', 'N_Edwards',\n",
       "       'N_Mitchel', 'N_NoRidge', 'N_NridgHt', 'N_Somerst', 'N_StoneBr',\n",
       "       'N_Veenker', 'C_Feedr', 'C_RRAe', 'BT_1Fam', 'BT_2fmCon',\n",
       "       'HS_1Story', 'HS_2Story', 'MV_BrkFace', 'MV_None', 'MV_Stone',\n",
       "       'BQ_Ex', 'BE_Av', 'BE_Gd', 'BE_No', 'GT_Attchd', 'GT_Basment',\n",
       "       'GT_BuiltIn', 'GT_Detchd'], dtype=object)"
      ]
     },
     "execution_count": 576,
     "metadata": {},
     "output_type": "execute_result"
    }
   ],
   "source": [
    "rfe_columns = np.array(names)[selector.support_]\n",
    "rfe_columns"
   ]
  },
  {
   "cell_type": "code",
   "execution_count": 577,
   "metadata": {},
   "outputs": [],
   "source": [
    "rfe_columns=rfe_columns.tolist()\n",
    "rfe_columns.append('YrSold')"
   ]
  },
  {
   "cell_type": "code",
   "execution_count": 578,
   "metadata": {
    "collapsed": true
   },
   "outputs": [],
   "source": [
    "X1=X[rfe_columns]\n",
    "X1_train=X1[X1.YrSold<2010]\n",
    "X1_train=X1_train.drop(['YrSold'],axis=1)"
   ]
  },
  {
   "cell_type": "code",
   "execution_count": 579,
   "metadata": {
    "collapsed": true
   },
   "outputs": [],
   "source": [
    "X1_test=X1[X1.YrSold==2010]\n",
    "X1_test=X1_test.drop(['YrSold'],axis=1)\n",
    "X1s_train=ss.fit_transform(X1_train)\n",
    "X1s_test=ss.transform(X1_test)"
   ]
  },
  {
   "cell_type": "code",
   "execution_count": 580,
   "metadata": {},
   "outputs": [
    {
     "data": {
      "text/plain": [
       "0.87335492285119165"
      ]
     },
     "execution_count": 580,
     "metadata": {},
     "output_type": "execute_result"
    }
   ],
   "source": [
    "lr.fit(X1s_train,y_train)\n",
    "lr.score(X1s_test,y_test)"
   ]
  },
  {
   "cell_type": "code",
   "execution_count": 581,
   "metadata": {},
   "outputs": [
    {
     "data": {
      "text/plain": [
       "<seaborn.axisgrid.JointGrid at 0x135d20850>"
      ]
     },
     "execution_count": 581,
     "metadata": {},
     "output_type": "execute_result"
    },
    {
     "data": {
      "image/png": "[encoded data removed]",
      "text/plain": [
       "<matplotlib.figure.Figure at 0x135c82210>"
      ]
     },
     "metadata": {
      "image/png": {
       "height": 569,
       "width": 588
      }
     },
     "output_type": "display_data"
    }
   ],
   "source": [
    "yhat3 = lr.predict(X1s_test)\n",
    "sns.jointplot(y_test, yhat3,kind='reg',size=8)"
   ]
  },
  {
   "cell_type": "code",
   "execution_count": 582,
   "metadata": {
    "collapsed": true
   },
   "outputs": [],
   "source": [
    "lr_coefs = pd.DataFrame({'variable':X1_train.columns,\n",
    "                            'coef':lr.coef_,\n",
    "                            'abs_coef':np.abs(lr.coef_)})\n",
    "\n",
    "lr_coefs.sort_values('abs_coef', inplace=True, ascending=False)"
   ]
  },
  {
   "cell_type": "code",
   "execution_count": 583,
   "metadata": {},
   "outputs": [
    {
     "data": {
      "text/html": [
       "<style>\n",
       "div.cell:nth-child(46) .output {\n",
       "    flex-direction: row;\n",
       "}\n",
       "</style>"
      ],
      "text/plain": [
       "<IPython.core.display.HTML object>"
      ]
     },
     "execution_count": 583,
     "metadata": {},
     "output_type": "execute_result"
    }
   ],
   "source": [
    "from IPython.display import display,HTML\n",
    "\n",
    "CSS = \"\"\"\n",
    "div.cell:nth-child(46) .output {\n",
    "    flex-direction: row;\n",
    "}\n",
    "\"\"\"\n",
    "HTML('<style>{}</style>'.format(CSS))"
   ]
  },
  {
   "cell_type": "code",
   "execution_count": 584,
   "metadata": {},
   "outputs": [
    {
     "data": {
      "text/html": [
       "<div>\n",
       "<style>\n",
       "    .dataframe thead tr:only-child th {\n",
       "        text-align: right;\n",
       "    }\n",
       "\n",
       "    .dataframe thead th {\n",
       "        text-align: left;\n",
       "    }\n",
       "\n",
       "    .dataframe tbody tr th {\n",
       "        vertical-align: top;\n",
       "    }\n",
       "</style>\n",
       "<table border=\"1\" class=\"dataframe\">\n",
       "  <thead>\n",
       "    <tr style=\"text-align: right;\">\n",
       "      <th></th>\n",
       "      <th>abs_coef</th>\n",
       "      <th>coef</th>\n",
       "      <th>variable</th>\n",
       "    </tr>\n",
       "  </thead>\n",
       "  <tbody>\n",
       "    <tr>\n",
       "      <th>8</th>\n",
       "      <td>38187.271472</td>\n",
       "      <td>38187.271472</td>\n",
       "      <td>GrLivArea</td>\n",
       "    </tr>\n",
       "    <tr>\n",
       "      <th>27</th>\n",
       "      <td>17942.921951</td>\n",
       "      <td>17942.921951</td>\n",
       "      <td>LS_Reg</td>\n",
       "    </tr>\n",
       "    <tr>\n",
       "      <th>25</th>\n",
       "      <td>16400.820618</td>\n",
       "      <td>16400.820618</td>\n",
       "      <td>LS_IR1</td>\n",
       "    </tr>\n",
       "    <tr>\n",
       "      <th>78</th>\n",
       "      <td>13218.163377</td>\n",
       "      <td>13218.163377</td>\n",
       "      <td>BQ_Ex</td>\n",
       "    </tr>\n",
       "    <tr>\n",
       "      <th>17</th>\n",
       "      <td>10517.627798</td>\n",
       "      <td>10517.627798</td>\n",
       "      <td>GarageCars</td>\n",
       "    </tr>\n",
       "    <tr>\n",
       "      <th>7</th>\n",
       "      <td>10500.712385</td>\n",
       "      <td>-10500.712385</td>\n",
       "      <td>1stFlrSF</td>\n",
       "    </tr>\n",
       "    <tr>\n",
       "      <th>47</th>\n",
       "      <td>10399.026195</td>\n",
       "      <td>10399.026195</td>\n",
       "      <td>N_NridgHt</td>\n",
       "    </tr>\n",
       "    <tr>\n",
       "      <th>90</th>\n",
       "      <td>10040.582525</td>\n",
       "      <td>10040.582525</td>\n",
       "      <td>GT_Attchd</td>\n",
       "    </tr>\n",
       "    <tr>\n",
       "      <th>70</th>\n",
       "      <td>9706.842717</td>\n",
       "      <td>9706.842717</td>\n",
       "      <td>HS_1Story</td>\n",
       "    </tr>\n",
       "    <tr>\n",
       "      <th>31</th>\n",
       "      <td>9150.708202</td>\n",
       "      <td>9150.708202</td>\n",
       "      <td>LC_Inside</td>\n",
       "    </tr>\n",
       "    <tr>\n",
       "      <th>46</th>\n",
       "      <td>9089.087467</td>\n",
       "      <td>9089.087467</td>\n",
       "      <td>N_NoRidge</td>\n",
       "    </tr>\n",
       "    <tr>\n",
       "      <th>93</th>\n",
       "      <td>9088.864080</td>\n",
       "      <td>9088.864080</td>\n",
       "      <td>GT_Detchd</td>\n",
       "    </tr>\n",
       "    <tr>\n",
       "      <th>26</th>\n",
       "      <td>8047.996113</td>\n",
       "      <td>8047.996113</td>\n",
       "      <td>LS_IR2</td>\n",
       "    </tr>\n",
       "    <tr>\n",
       "      <th>28</th>\n",
       "      <td>7465.058041</td>\n",
       "      <td>7465.058041</td>\n",
       "      <td>LC_Corner</td>\n",
       "    </tr>\n",
       "    <tr>\n",
       "      <th>53</th>\n",
       "      <td>7423.388514</td>\n",
       "      <td>7423.388514</td>\n",
       "      <td>N_StoneBr</td>\n",
       "    </tr>\n",
       "    <tr>\n",
       "      <th>4</th>\n",
       "      <td>7131.085364</td>\n",
       "      <td>7131.085364</td>\n",
       "      <td>YearRemodAdd</td>\n",
       "    </tr>\n",
       "    <tr>\n",
       "      <th>76</th>\n",
       "      <td>6904.337411</td>\n",
       "      <td>6904.337411</td>\n",
       "      <td>MV_None</td>\n",
       "    </tr>\n",
       "    <tr>\n",
       "      <th>29</th>\n",
       "      <td>6731.025452</td>\n",
       "      <td>6731.025452</td>\n",
       "      <td>LC_CulDSac</td>\n",
       "    </tr>\n",
       "    <tr>\n",
       "      <th>64</th>\n",
       "      <td>6651.972196</td>\n",
       "      <td>6651.972196</td>\n",
       "      <td>BT_1Fam</td>\n",
       "    </tr>\n",
       "    <tr>\n",
       "      <th>75</th>\n",
       "      <td>6612.938465</td>\n",
       "      <td>6612.938465</td>\n",
       "      <td>MV_BrkFace</td>\n",
       "    </tr>\n",
       "    <tr>\n",
       "      <th>38</th>\n",
       "      <td>6606.192550</td>\n",
       "      <td>-6606.192550</td>\n",
       "      <td>N_Edwards</td>\n",
       "    </tr>\n",
       "    <tr>\n",
       "      <th>87</th>\n",
       "      <td>6426.458555</td>\n",
       "      <td>6426.458555</td>\n",
       "      <td>BE_Gd</td>\n",
       "    </tr>\n",
       "    <tr>\n",
       "      <th>16</th>\n",
       "      <td>6229.973286</td>\n",
       "      <td>-6229.973286</td>\n",
       "      <td>GarageYrBlt</td>\n",
       "    </tr>\n",
       "    <tr>\n",
       "      <th>0</th>\n",
       "      <td>5268.167694</td>\n",
       "      <td>-5268.167694</td>\n",
       "      <td>MSSubClass</td>\n",
       "    </tr>\n",
       "    <tr>\n",
       "      <th>6</th>\n",
       "      <td>5109.487337</td>\n",
       "      <td>5109.487337</td>\n",
       "      <td>TotalBsmtSF</td>\n",
       "    </tr>\n",
       "    <tr>\n",
       "      <th>3</th>\n",
       "      <td>5102.958550</td>\n",
       "      <td>5102.958550</td>\n",
       "      <td>YearBuilt</td>\n",
       "    </tr>\n",
       "    <tr>\n",
       "      <th>77</th>\n",
       "      <td>5072.000058</td>\n",
       "      <td>5072.000058</td>\n",
       "      <td>MV_Stone</td>\n",
       "    </tr>\n",
       "    <tr>\n",
       "      <th>15</th>\n",
       "      <td>5009.257444</td>\n",
       "      <td>5009.257444</td>\n",
       "      <td>Fireplaces</td>\n",
       "    </tr>\n",
       "    <tr>\n",
       "      <th>11</th>\n",
       "      <td>4930.905786</td>\n",
       "      <td>4930.905786</td>\n",
       "      <td>FullBath</td>\n",
       "    </tr>\n",
       "    <tr>\n",
       "      <th>42</th>\n",
       "      <td>4539.557237</td>\n",
       "      <td>-4539.557237</td>\n",
       "      <td>N_Mitchel</td>\n",
       "    </tr>\n",
       "    <tr>\n",
       "      <th>48</th>\n",
       "      <td>4499.498771</td>\n",
       "      <td>-4499.498771</td>\n",
       "      <td>N_OldTown</td>\n",
       "    </tr>\n",
       "    <tr>\n",
       "      <th>92</th>\n",
       "      <td>4372.210981</td>\n",
       "      <td>4372.210981</td>\n",
       "      <td>GT_BuiltIn</td>\n",
       "    </tr>\n",
       "    <tr>\n",
       "      <th>9</th>\n",
       "      <td>4324.333488</td>\n",
       "      <td>4324.333488</td>\n",
       "      <td>BsmtFullBath</td>\n",
       "    </tr>\n",
       "    <tr>\n",
       "      <th>52</th>\n",
       "      <td>4277.758689</td>\n",
       "      <td>4277.758689</td>\n",
       "      <td>N_Somerst</td>\n",
       "    </tr>\n",
       "    <tr>\n",
       "      <th>43</th>\n",
       "      <td>4181.570505</td>\n",
       "      <td>-4181.570505</td>\n",
       "      <td>N_NAmes</td>\n",
       "    </tr>\n",
       "    <tr>\n",
       "      <th>2</th>\n",
       "      <td>3680.234336</td>\n",
       "      <td>3680.234336</td>\n",
       "      <td>LotArea</td>\n",
       "    </tr>\n",
       "    <tr>\n",
       "      <th>72</th>\n",
       "      <td>3561.115733</td>\n",
       "      <td>-3561.115733</td>\n",
       "      <td>HS_2Story</td>\n",
       "    </tr>\n",
       "    <tr>\n",
       "      <th>35</th>\n",
       "      <td>3441.523213</td>\n",
       "      <td>-3441.523213</td>\n",
       "      <td>N_ClearCr</td>\n",
       "    </tr>\n",
       "    <tr>\n",
       "      <th>13</th>\n",
       "      <td>3283.019639</td>\n",
       "      <td>-3283.019639</td>\n",
       "      <td>BedroomAbvGr</td>\n",
       "    </tr>\n",
       "    <tr>\n",
       "      <th>50</th>\n",
       "      <td>3274.564473</td>\n",
       "      <td>-3274.564473</td>\n",
       "      <td>N_Sawyer</td>\n",
       "    </tr>\n",
       "    <tr>\n",
       "      <th>37</th>\n",
       "      <td>3253.381701</td>\n",
       "      <td>3253.381701</td>\n",
       "      <td>N_Crawfor</td>\n",
       "    </tr>\n",
       "    <tr>\n",
       "      <th>14</th>\n",
       "      <td>3210.503365</td>\n",
       "      <td>3210.503365</td>\n",
       "      <td>TotRmsAbvGrd</td>\n",
       "    </tr>\n",
       "    <tr>\n",
       "      <th>39</th>\n",
       "      <td>3174.493364</td>\n",
       "      <td>-3174.493364</td>\n",
       "      <td>N_Gilbert</td>\n",
       "    </tr>\n",
       "    <tr>\n",
       "      <th>73</th>\n",
       "      <td>3137.148039</td>\n",
       "      <td>3137.148039</td>\n",
       "      <td>HS_SFoyer</td>\n",
       "    </tr>\n",
       "    <tr>\n",
       "      <th>57</th>\n",
       "      <td>2967.869843</td>\n",
       "      <td>-2967.869843</td>\n",
       "      <td>C_Feedr</td>\n",
       "    </tr>\n",
       "    <tr>\n",
       "      <th>45</th>\n",
       "      <td>2903.880549</td>\n",
       "      <td>-2903.880549</td>\n",
       "      <td>N_NWAmes</td>\n",
       "    </tr>\n",
       "    <tr>\n",
       "      <th>80</th>\n",
       "      <td>2859.035164</td>\n",
       "      <td>2859.035164</td>\n",
       "      <td>BQ_TA</td>\n",
       "    </tr>\n",
       "  </tbody>\n",
       "</table>\n",
       "</div>"
      ],
      "text/plain": [
       "        abs_coef          coef      variable\n",
       "8   38187.271472  38187.271472     GrLivArea\n",
       "27  17942.921951  17942.921951        LS_Reg\n",
       "25  16400.820618  16400.820618        LS_IR1\n",
       "78  13218.163377  13218.163377         BQ_Ex\n",
       "17  10517.627798  10517.627798    GarageCars\n",
       "7   10500.712385 -10500.712385      1stFlrSF\n",
       "47  10399.026195  10399.026195     N_NridgHt\n",
       "90  10040.582525  10040.582525     GT_Attchd\n",
       "70   9706.842717   9706.842717     HS_1Story\n",
       "31   9150.708202   9150.708202     LC_Inside\n",
       "46   9089.087467   9089.087467     N_NoRidge\n",
       "93   9088.864080   9088.864080     GT_Detchd\n",
       "26   8047.996113   8047.996113        LS_IR2\n",
       "28   7465.058041   7465.058041     LC_Corner\n",
       "53   7423.388514   7423.388514     N_StoneBr\n",
       "4    7131.085364   7131.085364  YearRemodAdd\n",
       "76   6904.337411   6904.337411       MV_None\n",
       "29   6731.025452   6731.025452    LC_CulDSac\n",
       "64   6651.972196   6651.972196       BT_1Fam\n",
       "75   6612.938465   6612.938465    MV_BrkFace\n",
       "38   6606.192550  -6606.192550     N_Edwards\n",
       "87   6426.458555   6426.458555         BE_Gd\n",
       "16   6229.973286  -6229.973286   GarageYrBlt\n",
       "0    5268.167694  -5268.167694    MSSubClass\n",
       "6    5109.487337   5109.487337   TotalBsmtSF\n",
       "3    5102.958550   5102.958550     YearBuilt\n",
       "77   5072.000058   5072.000058      MV_Stone\n",
       "15   5009.257444   5009.257444    Fireplaces\n",
       "11   4930.905786   4930.905786      FullBath\n",
       "42   4539.557237  -4539.557237     N_Mitchel\n",
       "48   4499.498771  -4499.498771     N_OldTown\n",
       "92   4372.210981   4372.210981    GT_BuiltIn\n",
       "9    4324.333488   4324.333488  BsmtFullBath\n",
       "52   4277.758689   4277.758689     N_Somerst\n",
       "43   4181.570505  -4181.570505       N_NAmes\n",
       "2    3680.234336   3680.234336       LotArea\n",
       "72   3561.115733  -3561.115733     HS_2Story\n",
       "35   3441.523213  -3441.523213     N_ClearCr\n",
       "13   3283.019639  -3283.019639  BedroomAbvGr\n",
       "50   3274.564473  -3274.564473      N_Sawyer\n",
       "37   3253.381701   3253.381701     N_Crawfor\n",
       "14   3210.503365   3210.503365  TotRmsAbvGrd\n",
       "39   3174.493364  -3174.493364     N_Gilbert\n",
       "73   3137.148039   3137.148039     HS_SFoyer\n",
       "57   2967.869843  -2967.869843       C_Feedr\n",
       "45   2903.880549  -2903.880549      N_NWAmes\n",
       "80   2859.035164   2859.035164         BQ_TA"
      ]
     },
     "metadata": {},
     "output_type": "display_data"
    },
    {
     "data": {
      "text/html": [
       "<div>\n",
       "<style>\n",
       "    .dataframe thead tr:only-child th {\n",
       "        text-align: right;\n",
       "    }\n",
       "\n",
       "    .dataframe thead th {\n",
       "        text-align: left;\n",
       "    }\n",
       "\n",
       "    .dataframe tbody tr th {\n",
       "        vertical-align: top;\n",
       "    }\n",
       "</style>\n",
       "<table border=\"1\" class=\"dataframe\">\n",
       "  <thead>\n",
       "    <tr style=\"text-align: right;\">\n",
       "      <th></th>\n",
       "      <th>abs_coef</th>\n",
       "      <th>coef</th>\n",
       "      <th>variable</th>\n",
       "    </tr>\n",
       "  </thead>\n",
       "  <tbody>\n",
       "    <tr>\n",
       "      <th>7</th>\n",
       "      <td>31027.301133</td>\n",
       "      <td>31027.301133</td>\n",
       "      <td>GrLivArea</td>\n",
       "    </tr>\n",
       "    <tr>\n",
       "      <th>18</th>\n",
       "      <td>20650.358808</td>\n",
       "      <td>20650.358808</td>\n",
       "      <td>LS_Reg</td>\n",
       "    </tr>\n",
       "    <tr>\n",
       "      <th>16</th>\n",
       "      <td>19401.685241</td>\n",
       "      <td>19401.685241</td>\n",
       "      <td>LS_IR1</td>\n",
       "    </tr>\n",
       "    <tr>\n",
       "      <th>43</th>\n",
       "      <td>13407.046721</td>\n",
       "      <td>13407.046721</td>\n",
       "      <td>GT_Attchd</td>\n",
       "    </tr>\n",
       "    <tr>\n",
       "      <th>46</th>\n",
       "      <td>12097.063927</td>\n",
       "      <td>12097.063927</td>\n",
       "      <td>GT_Detchd</td>\n",
       "    </tr>\n",
       "    <tr>\n",
       "      <th>39</th>\n",
       "      <td>12016.694627</td>\n",
       "      <td>12016.694627</td>\n",
       "      <td>BQ_Ex</td>\n",
       "    </tr>\n",
       "    <tr>\n",
       "      <th>26</th>\n",
       "      <td>11474.305440</td>\n",
       "      <td>11474.305440</td>\n",
       "      <td>N_NridgHt</td>\n",
       "    </tr>\n",
       "    <tr>\n",
       "      <th>25</th>\n",
       "      <td>10995.286957</td>\n",
       "      <td>10995.286957</td>\n",
       "      <td>N_NoRidge</td>\n",
       "    </tr>\n",
       "    <tr>\n",
       "      <th>15</th>\n",
       "      <td>9796.116228</td>\n",
       "      <td>9796.116228</td>\n",
       "      <td>GarageCars</td>\n",
       "    </tr>\n",
       "    <tr>\n",
       "      <th>17</th>\n",
       "      <td>8863.072122</td>\n",
       "      <td>8863.072122</td>\n",
       "      <td>LS_IR2</td>\n",
       "    </tr>\n",
       "    <tr>\n",
       "      <th>2</th>\n",
       "      <td>8660.890200</td>\n",
       "      <td>8660.890200</td>\n",
       "      <td>YearBuilt</td>\n",
       "    </tr>\n",
       "    <tr>\n",
       "      <th>28</th>\n",
       "      <td>8407.351576</td>\n",
       "      <td>8407.351576</td>\n",
       "      <td>N_StoneBr</td>\n",
       "    </tr>\n",
       "    <tr>\n",
       "      <th>14</th>\n",
       "      <td>8116.839659</td>\n",
       "      <td>-8116.839659</td>\n",
       "      <td>GarageYrBlt</td>\n",
       "    </tr>\n",
       "    <tr>\n",
       "      <th>32</th>\n",
       "      <td>7683.929544</td>\n",
       "      <td>7683.929544</td>\n",
       "      <td>BT_1Fam</td>\n",
       "    </tr>\n",
       "    <tr>\n",
       "      <th>5</th>\n",
       "      <td>7682.614753</td>\n",
       "      <td>7682.614753</td>\n",
       "      <td>TotalBsmtSF</td>\n",
       "    </tr>\n",
       "    <tr>\n",
       "      <th>3</th>\n",
       "      <td>7371.672004</td>\n",
       "      <td>7371.672004</td>\n",
       "      <td>YearRemodAdd</td>\n",
       "    </tr>\n",
       "    <tr>\n",
       "      <th>6</th>\n",
       "      <td>7078.582846</td>\n",
       "      <td>-7078.582846</td>\n",
       "      <td>1stFlrSF</td>\n",
       "    </tr>\n",
       "    <tr>\n",
       "      <th>45</th>\n",
       "      <td>6813.675954</td>\n",
       "      <td>6813.675954</td>\n",
       "      <td>GT_BuiltIn</td>\n",
       "    </tr>\n",
       "    <tr>\n",
       "      <th>41</th>\n",
       "      <td>6748.787080</td>\n",
       "      <td>6748.787080</td>\n",
       "      <td>BE_Gd</td>\n",
       "    </tr>\n",
       "    <tr>\n",
       "      <th>36</th>\n",
       "      <td>6620.263588</td>\n",
       "      <td>6620.263588</td>\n",
       "      <td>MV_BrkFace</td>\n",
       "    </tr>\n",
       "    <tr>\n",
       "      <th>21</th>\n",
       "      <td>6589.504407</td>\n",
       "      <td>6589.504407</td>\n",
       "      <td>LC_Inside</td>\n",
       "    </tr>\n",
       "    <tr>\n",
       "      <th>27</th>\n",
       "      <td>6436.674218</td>\n",
       "      <td>6436.674218</td>\n",
       "      <td>N_Somerst</td>\n",
       "    </tr>\n",
       "    <tr>\n",
       "      <th>37</th>\n",
       "      <td>6280.362444</td>\n",
       "      <td>6280.362444</td>\n",
       "      <td>MV_None</td>\n",
       "    </tr>\n",
       "    <tr>\n",
       "      <th>22</th>\n",
       "      <td>5902.973762</td>\n",
       "      <td>5902.973762</td>\n",
       "      <td>N_Crawfor</td>\n",
       "    </tr>\n",
       "    <tr>\n",
       "      <th>20</th>\n",
       "      <td>5532.025737</td>\n",
       "      <td>5532.025737</td>\n",
       "      <td>LC_CulDSac</td>\n",
       "    </tr>\n",
       "    <tr>\n",
       "      <th>19</th>\n",
       "      <td>5391.598913</td>\n",
       "      <td>5391.598913</td>\n",
       "      <td>LC_Corner</td>\n",
       "    </tr>\n",
       "    <tr>\n",
       "      <th>13</th>\n",
       "      <td>5045.139812</td>\n",
       "      <td>5045.139812</td>\n",
       "      <td>Fireplaces</td>\n",
       "    </tr>\n",
       "    <tr>\n",
       "      <th>9</th>\n",
       "      <td>4816.055694</td>\n",
       "      <td>4816.055694</td>\n",
       "      <td>FullBath</td>\n",
       "    </tr>\n",
       "    <tr>\n",
       "      <th>35</th>\n",
       "      <td>4508.100470</td>\n",
       "      <td>-4508.100470</td>\n",
       "      <td>HS_2Story</td>\n",
       "    </tr>\n",
       "    <tr>\n",
       "      <th>38</th>\n",
       "      <td>4340.641863</td>\n",
       "      <td>4340.641863</td>\n",
       "      <td>MV_Stone</td>\n",
       "    </tr>\n",
       "    <tr>\n",
       "      <th>34</th>\n",
       "      <td>3938.988740</td>\n",
       "      <td>3938.988740</td>\n",
       "      <td>HS_1Story</td>\n",
       "    </tr>\n",
       "    <tr>\n",
       "      <th>23</th>\n",
       "      <td>3909.546267</td>\n",
       "      <td>-3909.546267</td>\n",
       "      <td>N_Edwards</td>\n",
       "    </tr>\n",
       "    <tr>\n",
       "      <th>8</th>\n",
       "      <td>3583.143816</td>\n",
       "      <td>3583.143816</td>\n",
       "      <td>BsmtFullBath</td>\n",
       "    </tr>\n",
       "    <tr>\n",
       "      <th>1</th>\n",
       "      <td>3296.577700</td>\n",
       "      <td>3296.577700</td>\n",
       "      <td>LotArea</td>\n",
       "    </tr>\n",
       "    <tr>\n",
       "      <th>44</th>\n",
       "      <td>3282.591551</td>\n",
       "      <td>3282.591551</td>\n",
       "      <td>GT_Basment</td>\n",
       "    </tr>\n",
       "    <tr>\n",
       "      <th>30</th>\n",
       "      <td>3255.653065</td>\n",
       "      <td>-3255.653065</td>\n",
       "      <td>C_Feedr</td>\n",
       "    </tr>\n",
       "    <tr>\n",
       "      <th>11</th>\n",
       "      <td>3206.857310</td>\n",
       "      <td>-3206.857310</td>\n",
       "      <td>BedroomAbvGr</td>\n",
       "    </tr>\n",
       "    <tr>\n",
       "      <th>29</th>\n",
       "      <td>3085.574781</td>\n",
       "      <td>3085.574781</td>\n",
       "      <td>N_Veenker</td>\n",
       "    </tr>\n",
       "    <tr>\n",
       "      <th>10</th>\n",
       "      <td>2923.245269</td>\n",
       "      <td>2923.245269</td>\n",
       "      <td>HalfBath</td>\n",
       "    </tr>\n",
       "    <tr>\n",
       "      <th>0</th>\n",
       "      <td>2905.953037</td>\n",
       "      <td>-2905.953037</td>\n",
       "      <td>MSSubClass</td>\n",
       "    </tr>\n",
       "    <tr>\n",
       "      <th>24</th>\n",
       "      <td>2873.765597</td>\n",
       "      <td>-2873.765597</td>\n",
       "      <td>N_Mitchel</td>\n",
       "    </tr>\n",
       "    <tr>\n",
       "      <th>12</th>\n",
       "      <td>2715.297184</td>\n",
       "      <td>2715.297184</td>\n",
       "      <td>TotRmsAbvGrd</td>\n",
       "    </tr>\n",
       "    <tr>\n",
       "      <th>40</th>\n",
       "      <td>2496.531113</td>\n",
       "      <td>2496.531113</td>\n",
       "      <td>BE_Av</td>\n",
       "    </tr>\n",
       "    <tr>\n",
       "      <th>4</th>\n",
       "      <td>2480.903073</td>\n",
       "      <td>-2480.903073</td>\n",
       "      <td>BsmtUnfSF</td>\n",
       "    </tr>\n",
       "    <tr>\n",
       "      <th>42</th>\n",
       "      <td>2336.510321</td>\n",
       "      <td>-2336.510321</td>\n",
       "      <td>BE_No</td>\n",
       "    </tr>\n",
       "    <tr>\n",
       "      <th>31</th>\n",
       "      <td>2033.294100</td>\n",
       "      <td>-2033.294100</td>\n",
       "      <td>C_RRAe</td>\n",
       "    </tr>\n",
       "    <tr>\n",
       "      <th>33</th>\n",
       "      <td>1930.442373</td>\n",
       "      <td>1930.442373</td>\n",
       "      <td>BT_2fmCon</td>\n",
       "    </tr>\n",
       "  </tbody>\n",
       "</table>\n",
       "</div>"
      ],
      "text/plain": [
       "        abs_coef          coef      variable\n",
       "7   31027.301133  31027.301133     GrLivArea\n",
       "18  20650.358808  20650.358808        LS_Reg\n",
       "16  19401.685241  19401.685241        LS_IR1\n",
       "43  13407.046721  13407.046721     GT_Attchd\n",
       "46  12097.063927  12097.063927     GT_Detchd\n",
       "39  12016.694627  12016.694627         BQ_Ex\n",
       "26  11474.305440  11474.305440     N_NridgHt\n",
       "25  10995.286957  10995.286957     N_NoRidge\n",
       "15   9796.116228   9796.116228    GarageCars\n",
       "17   8863.072122   8863.072122        LS_IR2\n",
       "2    8660.890200   8660.890200     YearBuilt\n",
       "28   8407.351576   8407.351576     N_StoneBr\n",
       "14   8116.839659  -8116.839659   GarageYrBlt\n",
       "32   7683.929544   7683.929544       BT_1Fam\n",
       "5    7682.614753   7682.614753   TotalBsmtSF\n",
       "3    7371.672004   7371.672004  YearRemodAdd\n",
       "6    7078.582846  -7078.582846      1stFlrSF\n",
       "45   6813.675954   6813.675954    GT_BuiltIn\n",
       "41   6748.787080   6748.787080         BE_Gd\n",
       "36   6620.263588   6620.263588    MV_BrkFace\n",
       "21   6589.504407   6589.504407     LC_Inside\n",
       "27   6436.674218   6436.674218     N_Somerst\n",
       "37   6280.362444   6280.362444       MV_None\n",
       "22   5902.973762   5902.973762     N_Crawfor\n",
       "20   5532.025737   5532.025737    LC_CulDSac\n",
       "19   5391.598913   5391.598913     LC_Corner\n",
       "13   5045.139812   5045.139812    Fireplaces\n",
       "9    4816.055694   4816.055694      FullBath\n",
       "35   4508.100470  -4508.100470     HS_2Story\n",
       "38   4340.641863   4340.641863      MV_Stone\n",
       "34   3938.988740   3938.988740     HS_1Story\n",
       "23   3909.546267  -3909.546267     N_Edwards\n",
       "8    3583.143816   3583.143816  BsmtFullBath\n",
       "1    3296.577700   3296.577700       LotArea\n",
       "44   3282.591551   3282.591551    GT_Basment\n",
       "30   3255.653065  -3255.653065       C_Feedr\n",
       "11   3206.857310  -3206.857310  BedroomAbvGr\n",
       "29   3085.574781   3085.574781     N_Veenker\n",
       "10   2923.245269   2923.245269      HalfBath\n",
       "0    2905.953037  -2905.953037    MSSubClass\n",
       "24   2873.765597  -2873.765597     N_Mitchel\n",
       "12   2715.297184   2715.297184  TotRmsAbvGrd\n",
       "40   2496.531113   2496.531113         BE_Av\n",
       "4    2480.903073  -2480.903073     BsmtUnfSF\n",
       "42   2336.510321  -2336.510321         BE_No\n",
       "31   2033.294100  -2033.294100        C_RRAe\n",
       "33   1930.442373   1930.442373     BT_2fmCon"
      ]
     },
     "metadata": {},
     "output_type": "display_data"
    }
   ],
   "source": [
    "display(lasso_coefs.head(47))\n",
    "display(lr_coefs)"
   ]
  },
  {
   "cell_type": "code",
   "execution_count": 585,
   "metadata": {},
   "outputs": [
    {
     "data": {
      "text/plain": [
       "0.8733366948173622"
      ]
     },
     "execution_count": 585,
     "metadata": {},
     "output_type": "execute_result"
    }
   ],
   "source": [
    "lasso=Lasso()\n",
    "lasso.fit(X1s_train,y_train)\n",
    "lasso.score(X1s_test,y_test)"
   ]
  },
  {
   "cell_type": "code",
   "execution_count": 586,
   "metadata": {},
   "outputs": [
    {
     "data": {
      "text/plain": [
       "0.87312695720837918"
      ]
     },
     "execution_count": 586,
     "metadata": {},
     "output_type": "execute_result"
    }
   ],
   "source": [
    "ridge=Ridge()\n",
    "ridge.fit(X1s_train,y_train)\n",
    "ridge.score(X1s_test,y_test)"
   ]
  },
  {
   "cell_type": "code",
   "execution_count": 587,
   "metadata": {},
   "outputs": [
    {
     "name": "stdout",
     "output_type": "stream",
     "text": [
      "Cross-validated scores: [ 0.88964548  0.863352    0.85711749  0.75277406  0.85098912  0.84878498\n",
      "  0.89618308  0.82780816  0.5903083   0.82631931]\n",
      "Mean CV R2: 0.820328197422\n",
      "Std CV R2: 0.0854855488998\n",
      "Cross-Predicted R2: 0.810945263085\n"
     ]
    },
    {
     "data": {
      "text/plain": [
       "0.87335492285119165"
      ]
     },
     "execution_count": 587,
     "metadata": {},
     "output_type": "execute_result"
    }
   ],
   "source": [
    "# Perform cross-validation\n",
    "scores = cross_val_score(lr, X1s_train, y_train, cv=folds)\n",
    "print \"Cross-validated scores:\", scores\n",
    "print \"Mean CV R2:\", np.mean(scores)\n",
    "print 'Std CV R2:', np.std(scores)\n",
    "    \n",
    "# Make cross-validated predictions\n",
    "predictions = cross_val_predict(lr, X1s_train, y_train, cv=folds)\n",
    "    \n",
    "r2 = metrics.r2_score(y_train, predictions)\n",
    "print \"Cross-Predicted R2:\", r2\n",
    "lr.score(X1s_test,y_test)"
   ]
  },
  {
   "cell_type": "code",
   "execution_count": 588,
   "metadata": {},
   "outputs": [
    {
     "name": "stdout",
     "output_type": "stream",
     "text": [
      "Cross-validated scores: [ 0.87617387  0.80491434  0.84807125  0.85441575  0.68735953]\n",
      "Mean CV R2: 0.814186948269\n",
      "Std CV R2: 0.0674982315254\n",
      "Cross-Predicted R2: 0.810197535255\n"
     ]
    },
    {
     "data": {
      "text/plain": [
       "0.8733366948173622"
      ]
     },
     "execution_count": 588,
     "metadata": {},
     "output_type": "execute_result"
    }
   ],
   "source": [
    "# Perform cross-validation\n",
    "scores = cross_val_score(lasso, X1s_train, y_train, cv=5)\n",
    "print \"Cross-validated scores:\", scores\n",
    "print \"Mean CV R2:\", np.mean(scores)\n",
    "print 'Std CV R2:', np.std(scores)\n",
    "    \n",
    "# Make cross-validated predictions\n",
    "predictions = cross_val_predict(lasso, X1s_train, y_train, cv=5)\n",
    "    \n",
    "r2 = metrics.r2_score(y_train, predictions)\n",
    "print \"Cross-Predicted R2:\", r2\n",
    "lasso.score(X1s_test,y_test)"
   ]
  },
  {
   "cell_type": "code",
   "execution_count": 589,
   "metadata": {},
   "outputs": [],
   "source": [
    "xgb = xgboost.XGBRegressor(n_estimators=100, booster='gbtree',learning_rate=0.08, gamma=0, min_child_weight=6,subsample=0.8,colsample_bytree=1, max_depth=7)"
   ]
  },
  {
   "cell_type": "code",
   "execution_count": 590,
   "metadata": {},
   "outputs": [
    {
     "data": {
      "text/plain": [
       "{'max_depth': 5, 'min_child_weight': 4}"
      ]
     },
     "execution_count": 590,
     "metadata": {},
     "output_type": "execute_result"
    }
   ],
   "source": [
    "param_test = {\n",
    " 'max_depth':[4,5,6,7,8,9],\n",
    " 'min_child_weight':[4,5,6,7,8,9]\n",
    "}\n",
    "gs = GridSearchCV(xgb,param_test,cv=10, n_jobs=-1)\n",
    "gs.fit(X1s_train,y_train)\n",
    "gs.best_params_"
   ]
  },
  {
   "cell_type": "code",
   "execution_count": 591,
   "metadata": {
    "collapsed": true
   },
   "outputs": [],
   "source": [
    "xgb1 = xgboost.XGBRegressor(n_estimators=100, booster='gbtree',learning_rate=0.08, gamma=0, min_child_weight=4,subsample=0.8,colsample_bytree=1, max_depth=5)"
   ]
  },
  {
   "cell_type": "code",
   "execution_count": 592,
   "metadata": {},
   "outputs": [
    {
     "data": {
      "text/plain": [
       "0.88879884171117662"
      ]
     },
     "execution_count": 592,
     "metadata": {},
     "output_type": "execute_result"
    }
   ],
   "source": [
    "xgb1.fit(X1s_train,y_train)\n",
    "xgb1.score(X1s_test,y_test)"
   ]
  },
  {
   "cell_type": "code",
   "execution_count": 593,
   "metadata": {},
   "outputs": [
    {
     "data": {
      "text/plain": [
       "<seaborn.axisgrid.JointGrid at 0x12a5147d0>"
      ]
     },
     "execution_count": 593,
     "metadata": {},
     "output_type": "execute_result"
    },
    {
     "data": {
      "image/png": "[encoded data removed]",
      "text/plain": [
       "<matplotlib.figure.Figure at 0x13678b850>"
      ]
     },
     "metadata": {
      "image/png": {
       "height": 569,
       "width": 588
      }
     },
     "output_type": "display_data"
    }
   ],
   "source": [
    "yhat4 = xgb1.predict(X1s_test)\n",
    "sns.jointplot(y_test, yhat4,kind='reg',size=8)"
   ]
  },
  {
   "cell_type": "code",
   "execution_count": 594,
   "metadata": {},
   "outputs": [
    {
     "name": "stdout",
     "output_type": "stream",
     "text": [
      "Cross-validated scores: [ 0.87367461  0.80025342  0.8882972   0.88307397  0.85859002]\n",
      "Mean CV R2: 0.860777844978\n",
      "Std CV R2: 0.0319021970754\n",
      "Cross-Predicted R2: 0.863535968936\n"
     ]
    }
   ],
   "source": [
    "# Perform cross-validation\n",
    "scores = cross_val_score(xgb1, X1s_train, y_train, cv=5)\n",
    "print \"Cross-validated scores:\", scores\n",
    "print \"Mean CV R2:\", np.mean(scores)\n",
    "print 'Std CV R2:', np.std(scores)\n",
    "    \n",
    "    # Make cross-validated predictions\n",
    "predictions = cross_val_predict(xgb1, X1s_train, y_train, cv=folds)\n",
    "r2 = metrics.r2_score(y_train, predictions)\n",
    "print \"Cross-Predicted R2:\", r2"
   ]
  },
  {
   "cell_type": "code",
   "execution_count": 595,
   "metadata": {},
   "outputs": [
    {
     "name": "stdout",
     "output_type": "stream",
     "text": [
      "0.895719338419\n"
     ]
    }
   ],
   "source": [
    "from sklearn.ensemble import BaggingRegressor\n",
    "bagging = BaggingRegressor(base_estimator = xgb1)\n",
    "bagging.fit(X1s_train,y_train)\n",
    "print(bagging.score(X1s_test,y_test))"
   ]
  },
  {
   "cell_type": "code",
   "execution_count": 596,
   "metadata": {},
   "outputs": [
    {
     "name": "stdout",
     "output_type": "stream",
     "text": [
      "Cross-validated scores: [ 0.88860509  0.7953583   0.89082796  0.89934137  0.83659094]\n",
      "Mean CV R2: 0.862144732426\n",
      "Std CV R2: 0.0400496990207\n",
      "Cross-Predicted R2: 0.849000057547\n"
     ]
    }
   ],
   "source": [
    "# Perform cross-validation\n",
    "scores = cross_val_score(bagging, X1s_train, y_train, cv=5)\n",
    "print \"Cross-validated scores:\", scores\n",
    "print \"Mean CV R2:\", np.mean(scores)\n",
    "print 'Std CV R2:', np.std(scores)\n",
    "    \n",
    "    # Make cross-validated predictions\n",
    "predictions = cross_val_predict(bagging, X1s_train, y_train, cv=folds)\n",
    "r2 = metrics.r2_score(y_train, predictions)\n",
    "print \"Cross-Predicted R2:\", r2"
   ]
  },
  {
   "cell_type": "code",
   "execution_count": 597,
   "metadata": {},
   "outputs": [
    {
     "data": {
      "text/plain": [
       "<seaborn.axisgrid.JointGrid at 0x135d2bc90>"
      ]
     },
     "execution_count": 597,
     "metadata": {},
     "output_type": "execute_result"
    },
    {
     "data": {
      "image/png": "[encoded data removed]",
      "text/plain": [
       "<matplotlib.figure.Figure at 0x132571750>"
      ]
     },
     "metadata": {
      "image/png": {
       "height": 569,
       "width": 588
      }
     },
     "output_type": "display_data"
    }
   ],
   "source": [
    "yhat5 = bagging.predict(X1s_test)\n",
    "sns.jointplot(y_test, yhat5, kind='reg',size=8)"
   ]
  },
  {
   "cell_type": "markdown",
   "metadata": {},
   "source": [
    "<img src=\"http://imgur.com/l5NasQj.png\" style=\"float: left; margin: 25px 15px 0px 0px; height: 25px\">\n",
    "\n",
    "## 2. Determine any value of *changeable* property characteristics unexplained by the *fixed* ones.\n",
    "\n",
    "---\n",
    "\n",
    "Now that you have a model that estimates the price of a house based on its static characteristics, we can move forward with part 2 and 3 of the plan: what are the costs/benefits of quality, condition, and renovations?\n",
    "\n",
    "There are two specific requirements for these estimates:\n",
    "1. The estimates of effects must be in terms of dollars added or subtracted from the house value. \n",
    "2. The effects must be on the variance in price remaining from the first model.\n",
    "\n",
    "The residuals from the first model (training and testing) represent the variance in price unexplained by the fixed characteristics. Of that variance in price remaining, how much of it can be explained by the easy-to-change aspects of the property?\n",
    "\n",
    "---\n",
    "\n",
    "**Your goals:**\n",
    "1. Evaluate the effect in dollars of the renovate-able features. \n",
    "- How would your company use this second model and its coefficients to determine whether they should buy a property or not? Explain how the company can use the two models you have built to determine if they can make money. \n",
    "- Investigate how much of the variance in price remaining is explained by these features.\n",
    "- Do you trust your model? Should it be used to evaluate which properties to buy and fix up?"
   ]
  },
  {
   "cell_type": "code",
   "execution_count": 598,
   "metadata": {},
   "outputs": [
    {
     "data": {
      "text/html": [
       "<div>\n",
       "<style>\n",
       "    .dataframe thead tr:only-child th {\n",
       "        text-align: right;\n",
       "    }\n",
       "\n",
       "    .dataframe thead th {\n",
       "        text-align: left;\n",
       "    }\n",
       "\n",
       "    .dataframe tbody tr th {\n",
       "        vertical-align: top;\n",
       "    }\n",
       "</style>\n",
       "<table border=\"1\" class=\"dataframe\">\n",
       "  <thead>\n",
       "    <tr style=\"text-align: right;\">\n",
       "      <th></th>\n",
       "      <th>OverallQual</th>\n",
       "      <th>OverallCond</th>\n",
       "      <th>RoofStyle</th>\n",
       "      <th>RoofMatl</th>\n",
       "      <th>Exterior1st</th>\n",
       "      <th>Exterior2nd</th>\n",
       "      <th>ExterQual</th>\n",
       "      <th>ExterCond</th>\n",
       "      <th>BsmtCond</th>\n",
       "      <th>BsmtFinType1</th>\n",
       "      <th>...</th>\n",
       "      <th>Electrical</th>\n",
       "      <th>LowQualFinSF</th>\n",
       "      <th>KitchenQual</th>\n",
       "      <th>FireplaceQu</th>\n",
       "      <th>GarageFinish</th>\n",
       "      <th>GarageQual</th>\n",
       "      <th>GarageCond</th>\n",
       "      <th>PavedDrive</th>\n",
       "      <th>PoolQC</th>\n",
       "      <th>Fence</th>\n",
       "    </tr>\n",
       "  </thead>\n",
       "  <tbody>\n",
       "    <tr>\n",
       "      <th>0</th>\n",
       "      <td>7</td>\n",
       "      <td>5</td>\n",
       "      <td>Gable</td>\n",
       "      <td>CompShg</td>\n",
       "      <td>VinylSd</td>\n",
       "      <td>VinylSd</td>\n",
       "      <td>Gd</td>\n",
       "      <td>TA</td>\n",
       "      <td>TA</td>\n",
       "      <td>GLQ</td>\n",
       "      <td>...</td>\n",
       "      <td>SBrkr</td>\n",
       "      <td>0</td>\n",
       "      <td>Gd</td>\n",
       "      <td>NaN</td>\n",
       "      <td>RFn</td>\n",
       "      <td>TA</td>\n",
       "      <td>TA</td>\n",
       "      <td>Y</td>\n",
       "      <td>NaN</td>\n",
       "      <td>NaN</td>\n",
       "    </tr>\n",
       "    <tr>\n",
       "      <th>1</th>\n",
       "      <td>6</td>\n",
       "      <td>8</td>\n",
       "      <td>Gable</td>\n",
       "      <td>CompShg</td>\n",
       "      <td>MetalSd</td>\n",
       "      <td>MetalSd</td>\n",
       "      <td>TA</td>\n",
       "      <td>TA</td>\n",
       "      <td>TA</td>\n",
       "      <td>ALQ</td>\n",
       "      <td>...</td>\n",
       "      <td>SBrkr</td>\n",
       "      <td>0</td>\n",
       "      <td>TA</td>\n",
       "      <td>TA</td>\n",
       "      <td>RFn</td>\n",
       "      <td>TA</td>\n",
       "      <td>TA</td>\n",
       "      <td>Y</td>\n",
       "      <td>NaN</td>\n",
       "      <td>NaN</td>\n",
       "    </tr>\n",
       "    <tr>\n",
       "      <th>2</th>\n",
       "      <td>7</td>\n",
       "      <td>5</td>\n",
       "      <td>Gable</td>\n",
       "      <td>CompShg</td>\n",
       "      <td>VinylSd</td>\n",
       "      <td>VinylSd</td>\n",
       "      <td>Gd</td>\n",
       "      <td>TA</td>\n",
       "      <td>TA</td>\n",
       "      <td>GLQ</td>\n",
       "      <td>...</td>\n",
       "      <td>SBrkr</td>\n",
       "      <td>0</td>\n",
       "      <td>Gd</td>\n",
       "      <td>TA</td>\n",
       "      <td>RFn</td>\n",
       "      <td>TA</td>\n",
       "      <td>TA</td>\n",
       "      <td>Y</td>\n",
       "      <td>NaN</td>\n",
       "      <td>NaN</td>\n",
       "    </tr>\n",
       "    <tr>\n",
       "      <th>3</th>\n",
       "      <td>7</td>\n",
       "      <td>5</td>\n",
       "      <td>Gable</td>\n",
       "      <td>CompShg</td>\n",
       "      <td>Wd Sdng</td>\n",
       "      <td>Wd Shng</td>\n",
       "      <td>TA</td>\n",
       "      <td>TA</td>\n",
       "      <td>Gd</td>\n",
       "      <td>ALQ</td>\n",
       "      <td>...</td>\n",
       "      <td>SBrkr</td>\n",
       "      <td>0</td>\n",
       "      <td>Gd</td>\n",
       "      <td>Gd</td>\n",
       "      <td>Unf</td>\n",
       "      <td>TA</td>\n",
       "      <td>TA</td>\n",
       "      <td>Y</td>\n",
       "      <td>NaN</td>\n",
       "      <td>NaN</td>\n",
       "    </tr>\n",
       "    <tr>\n",
       "      <th>4</th>\n",
       "      <td>8</td>\n",
       "      <td>5</td>\n",
       "      <td>Gable</td>\n",
       "      <td>CompShg</td>\n",
       "      <td>VinylSd</td>\n",
       "      <td>VinylSd</td>\n",
       "      <td>Gd</td>\n",
       "      <td>TA</td>\n",
       "      <td>TA</td>\n",
       "      <td>GLQ</td>\n",
       "      <td>...</td>\n",
       "      <td>SBrkr</td>\n",
       "      <td>0</td>\n",
       "      <td>Gd</td>\n",
       "      <td>TA</td>\n",
       "      <td>RFn</td>\n",
       "      <td>TA</td>\n",
       "      <td>TA</td>\n",
       "      <td>Y</td>\n",
       "      <td>NaN</td>\n",
       "      <td>NaN</td>\n",
       "    </tr>\n",
       "  </tbody>\n",
       "</table>\n",
       "<p>5 rows × 24 columns</p>\n",
       "</div>"
      ],
      "text/plain": [
       "   OverallQual  OverallCond RoofStyle RoofMatl Exterior1st Exterior2nd  \\\n",
       "0            7            5     Gable  CompShg     VinylSd     VinylSd   \n",
       "1            6            8     Gable  CompShg     MetalSd     MetalSd   \n",
       "2            7            5     Gable  CompShg     VinylSd     VinylSd   \n",
       "3            7            5     Gable  CompShg     Wd Sdng     Wd Shng   \n",
       "4            8            5     Gable  CompShg     VinylSd     VinylSd   \n",
       "\n",
       "  ExterQual ExterCond BsmtCond BsmtFinType1  ...  Electrical LowQualFinSF  \\\n",
       "0        Gd        TA       TA          GLQ  ...       SBrkr            0   \n",
       "1        TA        TA       TA          ALQ  ...       SBrkr            0   \n",
       "2        Gd        TA       TA          GLQ  ...       SBrkr            0   \n",
       "3        TA        TA       Gd          ALQ  ...       SBrkr            0   \n",
       "4        Gd        TA       TA          GLQ  ...       SBrkr            0   \n",
       "\n",
       "  KitchenQual FireplaceQu GarageFinish  GarageQual GarageCond PavedDrive  \\\n",
       "0          Gd         NaN          RFn          TA         TA          Y   \n",
       "1          TA          TA          RFn          TA         TA          Y   \n",
       "2          Gd          TA          RFn          TA         TA          Y   \n",
       "3          Gd          Gd          Unf          TA         TA          Y   \n",
       "4          Gd          TA          RFn          TA         TA          Y   \n",
       "\n",
       "  PoolQC Fence  \n",
       "0    NaN   NaN  \n",
       "1    NaN   NaN  \n",
       "2    NaN   NaN  \n",
       "3    NaN   NaN  \n",
       "4    NaN   NaN  \n",
       "\n",
       "[5 rows x 24 columns]"
      ]
     },
     "execution_count": 598,
     "metadata": {},
     "output_type": "execute_result"
    }
   ],
   "source": [
    "reno_able.head()"
   ]
  },
  {
   "cell_type": "code",
   "execution_count": 599,
   "metadata": {
    "collapsed": true
   },
   "outputs": [],
   "source": [
    "reno=reno_able[['OverallQual','OverallCond','LowQualFinSF']]\n",
    "reno_dummies=reno_able.drop(['OverallQual','OverallCond','LowQualFinSF'],axis=1)\n",
    "reno_dummies=pd.get_dummies(reno_dummies,drop_first=True)\n",
    "reno=pd.concat([reno,reno_dummies],axis=1)\n",
    "reno['YrSold']=house.YrSold\n",
    "reno['MSZoning']=house.MSZoning"
   ]
  },
  {
   "cell_type": "code",
   "execution_count": 600,
   "metadata": {},
   "outputs": [
    {
     "data": {
      "text/html": [
       "<div>\n",
       "<style>\n",
       "    .dataframe thead tr:only-child th {\n",
       "        text-align: right;\n",
       "    }\n",
       "\n",
       "    .dataframe thead th {\n",
       "        text-align: left;\n",
       "    }\n",
       "\n",
       "    .dataframe tbody tr th {\n",
       "        vertical-align: top;\n",
       "    }\n",
       "</style>\n",
       "<table border=\"1\" class=\"dataframe\">\n",
       "  <thead>\n",
       "    <tr style=\"text-align: right;\">\n",
       "      <th></th>\n",
       "      <th>OverallQual</th>\n",
       "      <th>OverallCond</th>\n",
       "      <th>LowQualFinSF</th>\n",
       "      <th>RoofStyle_Gable</th>\n",
       "      <th>RoofStyle_Gambrel</th>\n",
       "      <th>RoofStyle_Hip</th>\n",
       "      <th>RoofStyle_Mansard</th>\n",
       "      <th>RoofStyle_Shed</th>\n",
       "      <th>RoofMatl_CompShg</th>\n",
       "      <th>RoofMatl_Membran</th>\n",
       "      <th>...</th>\n",
       "      <th>GarageCond_Po</th>\n",
       "      <th>GarageCond_TA</th>\n",
       "      <th>PavedDrive_P</th>\n",
       "      <th>PavedDrive_Y</th>\n",
       "      <th>PoolQC_Fa</th>\n",
       "      <th>PoolQC_Gd</th>\n",
       "      <th>Fence_GdWo</th>\n",
       "      <th>Fence_MnPrv</th>\n",
       "      <th>Fence_MnWw</th>\n",
       "      <th>YrSold</th>\n",
       "    </tr>\n",
       "  </thead>\n",
       "  <tbody>\n",
       "    <tr>\n",
       "      <th>0</th>\n",
       "      <td>7</td>\n",
       "      <td>5</td>\n",
       "      <td>0</td>\n",
       "      <td>1</td>\n",
       "      <td>0</td>\n",
       "      <td>0</td>\n",
       "      <td>0</td>\n",
       "      <td>0</td>\n",
       "      <td>1</td>\n",
       "      <td>0</td>\n",
       "      <td>...</td>\n",
       "      <td>0</td>\n",
       "      <td>1</td>\n",
       "      <td>0</td>\n",
       "      <td>1</td>\n",
       "      <td>0</td>\n",
       "      <td>0</td>\n",
       "      <td>0</td>\n",
       "      <td>0</td>\n",
       "      <td>0</td>\n",
       "      <td>2008</td>\n",
       "    </tr>\n",
       "    <tr>\n",
       "      <th>1</th>\n",
       "      <td>6</td>\n",
       "      <td>8</td>\n",
       "      <td>0</td>\n",
       "      <td>1</td>\n",
       "      <td>0</td>\n",
       "      <td>0</td>\n",
       "      <td>0</td>\n",
       "      <td>0</td>\n",
       "      <td>1</td>\n",
       "      <td>0</td>\n",
       "      <td>...</td>\n",
       "      <td>0</td>\n",
       "      <td>1</td>\n",
       "      <td>0</td>\n",
       "      <td>1</td>\n",
       "      <td>0</td>\n",
       "      <td>0</td>\n",
       "      <td>0</td>\n",
       "      <td>0</td>\n",
       "      <td>0</td>\n",
       "      <td>2007</td>\n",
       "    </tr>\n",
       "    <tr>\n",
       "      <th>2</th>\n",
       "      <td>7</td>\n",
       "      <td>5</td>\n",
       "      <td>0</td>\n",
       "      <td>1</td>\n",
       "      <td>0</td>\n",
       "      <td>0</td>\n",
       "      <td>0</td>\n",
       "      <td>0</td>\n",
       "      <td>1</td>\n",
       "      <td>0</td>\n",
       "      <td>...</td>\n",
       "      <td>0</td>\n",
       "      <td>1</td>\n",
       "      <td>0</td>\n",
       "      <td>1</td>\n",
       "      <td>0</td>\n",
       "      <td>0</td>\n",
       "      <td>0</td>\n",
       "      <td>0</td>\n",
       "      <td>0</td>\n",
       "      <td>2008</td>\n",
       "    </tr>\n",
       "    <tr>\n",
       "      <th>3</th>\n",
       "      <td>7</td>\n",
       "      <td>5</td>\n",
       "      <td>0</td>\n",
       "      <td>1</td>\n",
       "      <td>0</td>\n",
       "      <td>0</td>\n",
       "      <td>0</td>\n",
       "      <td>0</td>\n",
       "      <td>1</td>\n",
       "      <td>0</td>\n",
       "      <td>...</td>\n",
       "      <td>0</td>\n",
       "      <td>1</td>\n",
       "      <td>0</td>\n",
       "      <td>1</td>\n",
       "      <td>0</td>\n",
       "      <td>0</td>\n",
       "      <td>0</td>\n",
       "      <td>0</td>\n",
       "      <td>0</td>\n",
       "      <td>2006</td>\n",
       "    </tr>\n",
       "    <tr>\n",
       "      <th>4</th>\n",
       "      <td>8</td>\n",
       "      <td>5</td>\n",
       "      <td>0</td>\n",
       "      <td>1</td>\n",
       "      <td>0</td>\n",
       "      <td>0</td>\n",
       "      <td>0</td>\n",
       "      <td>0</td>\n",
       "      <td>1</td>\n",
       "      <td>0</td>\n",
       "      <td>...</td>\n",
       "      <td>0</td>\n",
       "      <td>1</td>\n",
       "      <td>0</td>\n",
       "      <td>1</td>\n",
       "      <td>0</td>\n",
       "      <td>0</td>\n",
       "      <td>0</td>\n",
       "      <td>0</td>\n",
       "      <td>0</td>\n",
       "      <td>2008</td>\n",
       "    </tr>\n",
       "  </tbody>\n",
       "</table>\n",
       "<p>5 rows × 103 columns</p>\n",
       "</div>"
      ],
      "text/plain": [
       "   OverallQual  OverallCond  LowQualFinSF  RoofStyle_Gable  RoofStyle_Gambrel  \\\n",
       "0            7            5             0                1                  0   \n",
       "1            6            8             0                1                  0   \n",
       "2            7            5             0                1                  0   \n",
       "3            7            5             0                1                  0   \n",
       "4            8            5             0                1                  0   \n",
       "\n",
       "   RoofStyle_Hip  RoofStyle_Mansard  RoofStyle_Shed  RoofMatl_CompShg  \\\n",
       "0              0                  0               0                 1   \n",
       "1              0                  0               0                 1   \n",
       "2              0                  0               0                 1   \n",
       "3              0                  0               0                 1   \n",
       "4              0                  0               0                 1   \n",
       "\n",
       "   RoofMatl_Membran   ...    GarageCond_Po  GarageCond_TA  PavedDrive_P  \\\n",
       "0                 0   ...                0              1             0   \n",
       "1                 0   ...                0              1             0   \n",
       "2                 0   ...                0              1             0   \n",
       "3                 0   ...                0              1             0   \n",
       "4                 0   ...                0              1             0   \n",
       "\n",
       "   PavedDrive_Y  PoolQC_Fa  PoolQC_Gd  Fence_GdWo  Fence_MnPrv  Fence_MnWw  \\\n",
       "0             1          0          0           0            0           0   \n",
       "1             1          0          0           0            0           0   \n",
       "2             1          0          0           0            0           0   \n",
       "3             1          0          0           0            0           0   \n",
       "4             1          0          0           0            0           0   \n",
       "\n",
       "   YrSold  \n",
       "0    2008  \n",
       "1    2007  \n",
       "2    2008  \n",
       "3    2006  \n",
       "4    2008  \n",
       "\n",
       "[5 rows x 103 columns]"
      ]
     },
     "execution_count": 600,
     "metadata": {},
     "output_type": "execute_result"
    }
   ],
   "source": [
    "#c=fix[fix['MSZoning']=='C (all)']\n",
    "reno=reno.drop(c.index)\n",
    "reno.MSZoning.value_counts()\n",
    "reno=reno.drop(['MSZoning'],axis=1)\n",
    "reno.head()"
   ]
  },
  {
   "cell_type": "code",
   "execution_count": 601,
   "metadata": {},
   "outputs": [],
   "source": [
    "Xrs=ss.fit_transform(reno)"
   ]
  },
  {
   "cell_type": "code",
   "execution_count": 602,
   "metadata": {},
   "outputs": [
    {
     "data": {
      "text/plain": [
       "(1278, 103)"
      ]
     },
     "execution_count": 602,
     "metadata": {},
     "output_type": "execute_result"
    }
   ],
   "source": [
    "Xr_train=reno[reno.YrSold<2010]\n",
    "Xrs_train=ss.fit_transform(Xr_train)\n",
    "Xr_test=reno[reno.YrSold==2010]\n",
    "Xrs_test=ss.transform(Xr_test)\n",
    "Xrs_train.shape"
   ]
  },
  {
   "cell_type": "code",
   "execution_count": 603,
   "metadata": {},
   "outputs": [
    {
     "data": {
      "text/plain": [
       "(172, 103)"
      ]
     },
     "execution_count": 603,
     "metadata": {},
     "output_type": "execute_result"
    }
   ],
   "source": [
    "Xrs_test.shape"
   ]
  },
  {
   "cell_type": "code",
   "execution_count": 604,
   "metadata": {},
   "outputs": [
    {
     "data": {
      "text/plain": [
       "(172,)"
      ]
     },
     "execution_count": 604,
     "metadata": {},
     "output_type": "execute_result"
    }
   ],
   "source": [
    "yvar_test=yhat5-y_test\n",
    "yvar_test.shape"
   ]
  },
  {
   "cell_type": "code",
   "execution_count": 605,
   "metadata": {},
   "outputs": [
    {
     "data": {
      "text/plain": [
       "(1278,)"
      ]
     },
     "execution_count": 605,
     "metadata": {},
     "output_type": "execute_result"
    }
   ],
   "source": [
    "yhat5_train=xgb1.predict(X1s_train)\n",
    "yvar_train=yhat4_train-y_train\n",
    "yvar_train.shape"
   ]
  },
  {
   "cell_type": "code",
   "execution_count": 606,
   "metadata": {},
   "outputs": [
    {
     "data": {
      "text/plain": [
       "-1.7498235565731576e+19"
      ]
     },
     "execution_count": 606,
     "metadata": {},
     "output_type": "execute_result"
    }
   ],
   "source": [
    "lr.fit(Xrs_train,yvar_train)\n",
    "lr.score(Xrs_test,yvar_test)\n"
   ]
  },
  {
   "cell_type": "code",
   "execution_count": 607,
   "metadata": {},
   "outputs": [
    {
     "data": {
      "text/plain": [
       "0.063864126527143239"
      ]
     },
     "execution_count": 607,
     "metadata": {},
     "output_type": "execute_result"
    }
   ],
   "source": [
    "lasso.fit(Xrs_train,yvar_train)\n",
    "lasso.score(Xrs_test,yvar_test)"
   ]
  },
  {
   "cell_type": "code",
   "execution_count": 608,
   "metadata": {},
   "outputs": [
    {
     "data": {
      "text/plain": [
       "0.064024406182440874"
      ]
     },
     "execution_count": 608,
     "metadata": {},
     "output_type": "execute_result"
    }
   ],
   "source": [
    "ridge.fit(Xrs_train,yvar_train)\n",
    "ridge.score(Xrs_test,yvar_test)"
   ]
  },
  {
   "cell_type": "code",
   "execution_count": 609,
   "metadata": {},
   "outputs": [
    {
     "data": {
      "text/plain": [
       "['PoolQC_Fa',\n",
       " 'BsmtFinType2_LwQ',\n",
       " 'RoofMatl_Tar&Grv',\n",
       " 'Fence_GdWo',\n",
       " 'GarageCond_Po',\n",
       " 'PoolQC_Gd',\n",
       " 'RoofMatl_Metal',\n",
       " 'Heating_GasA',\n",
       " 'Heating_Grav',\n",
       " 'HeatingQC_Po',\n",
       " 'RoofMatl_WdShngl',\n",
       " 'BsmtCond_Gd',\n",
       " 'RoofStyle_Mansard',\n",
       " 'Heating_Wall',\n",
       " 'Exterior1st_WdShing',\n",
       " 'BsmtFinType2_Rec',\n",
       " 'GarageQual_Po',\n",
       " 'GarageCond_Fa',\n",
       " 'Exterior2nd_AsphShn',\n",
       " 'HeatingQC_Fa',\n",
       " 'ExterCond_Fa',\n",
       " 'BsmtCond_Po',\n",
       " 'BsmtFinType2_GLQ',\n",
       " 'Exterior1st_BrkComm',\n",
       " 'RoofMatl_Membran',\n",
       " 'RoofStyle_Shed',\n",
       " 'Electrical_FuseP',\n",
       " 'Heating_GasW',\n",
       " 'Exterior1st_Stone',\n",
       " 'GarageQual_Fa',\n",
       " 'Exterior2nd_Brk Cmn',\n",
       " 'Exterior1st_CBlock',\n",
       " 'Heating_OthW',\n",
       " 'Exterior2nd_Other',\n",
       " 'Exterior2nd_ImStucc',\n",
       " 'Electrical_FuseF',\n",
       " 'Exterior1st_BrkFace',\n",
       " 'GarageQual_Gd',\n",
       " 'RoofMatl_CompShg',\n",
       " 'ExterCond_Po',\n",
       " 'Exterior2nd_CmentBd',\n",
       " 'Exterior1st_Stucco',\n",
       " 'LowQualFinSF',\n",
       " 'GarageCond_Gd',\n",
       " 'Electrical_Mix',\n",
       " 'BsmtFinType2_BLQ',\n",
       " 'PavedDrive_P',\n",
       " 'RoofMatl_WdShake',\n",
       " 'RoofStyle_Gambrel',\n",
       " 'RoofMatl_Roll',\n",
       " 'Exterior1st_ImStucc',\n",
       " 'Exterior2nd_Wd Shng',\n",
       " 'Fence_MnWw',\n",
       " 'FireplaceQu_Fa',\n",
       " 'Exterior2nd_Stucco',\n",
       " 'Exterior2nd_Stone',\n",
       " 'Exterior1st_CemntBd',\n",
       " 'Exterior1st_AsphShn',\n",
       " 'FireplaceQu_Po',\n",
       " 'Exterior2nd_BrkFace',\n",
       " 'Exterior2nd_CBlock',\n",
       " 'ExterQual_Fa',\n",
       " 'KitchenQual_Fa']"
      ]
     },
     "execution_count": 609,
     "metadata": {},
     "output_type": "execute_result"
    }
   ],
   "source": [
    "nzv1=nearZeroVariance(reno)\n",
    "nzv1=nzv1[1]\n",
    "nzv1"
   ]
  },
  {
   "cell_type": "code",
   "execution_count": 610,
   "metadata": {
    "collapsed": true
   },
   "outputs": [],
   "source": [
    "reno1=reno.drop(nzv1,axis=1)"
   ]
  },
  {
   "cell_type": "code",
   "execution_count": 611,
   "metadata": {},
   "outputs": [],
   "source": [
    "Xrn_train=reno1[reno1.YrSold<2010]\n",
    "Xrns_train=ss.fit_transform(Xrn_train)\n",
    "Xrn_test=reno1[reno1.YrSold==2010]\n",
    "Xrns_test=ss.fit_transform(Xrn_test)"
   ]
  },
  {
   "cell_type": "code",
   "execution_count": 612,
   "metadata": {
    "collapsed": true
   },
   "outputs": [],
   "source": [
    "selector1 = RFE(lr)\n",
    "selector1 = selector1.fit(Xrns_train,yvar_train)"
   ]
  },
  {
   "cell_type": "code",
   "execution_count": 613,
   "metadata": {},
   "outputs": [
    {
     "data": {
      "text/plain": [
       "array(['OverallQual', 'OverallCond', 'Exterior1st_HdBoard',\n",
       "       'Exterior1st_MetalSd', 'Exterior1st_VinylSd', 'Exterior1st_Wd Sdng',\n",
       "       'Exterior2nd_MetalSd', 'Exterior2nd_Wd Sdng', 'ExterQual_Gd',\n",
       "       'ExterQual_TA', 'ExterCond_Gd', 'BsmtFinType1_LwQ',\n",
       "       'BsmtFinType1_Rec', 'BsmtFinType1_Unf', 'Electrical_SBrkr',\n",
       "       'KitchenQual_Gd', 'FireplaceQu_TA', 'GarageFinish_Unf',\n",
       "       'PavedDrive_Y', 'YrSold'], dtype=object)"
      ]
     },
     "execution_count": 613,
     "metadata": {},
     "output_type": "execute_result"
    }
   ],
   "source": [
    "names1=Xrn_train.columns\n",
    "rfe1_columns = np.array(names1)[selector1.support_]\n",
    "rfe1_columns"
   ]
  },
  {
   "cell_type": "code",
   "execution_count": 614,
   "metadata": {},
   "outputs": [],
   "source": [
    "rfe1_columns=rfe1_columns.tolist()\n",
    "Xr1_train=Xr_train[rfe1_columns]\n",
    "Xr1s_train=ss.fit_transform(Xr1_train)"
   ]
  },
  {
   "cell_type": "code",
   "execution_count": 615,
   "metadata": {},
   "outputs": [],
   "source": [
    "Xr1_test=Xr_test[rfe1_columns]\n",
    "Xr1s_test=ss.fit_transform(Xr1_test)"
   ]
  },
  {
   "cell_type": "code",
   "execution_count": 616,
   "metadata": {},
   "outputs": [
    {
     "data": {
      "text/plain": [
       "0.067806640118758144"
      ]
     },
     "execution_count": 616,
     "metadata": {},
     "output_type": "execute_result"
    }
   ],
   "source": [
    "lr.fit(Xr1s_train,yvar_train)\n",
    "lr.score(Xr1s_test,yvar_test)"
   ]
  },
  {
   "cell_type": "code",
   "execution_count": 617,
   "metadata": {},
   "outputs": [
    {
     "name": "stdout",
     "output_type": "stream",
     "text": [
      "81.1984499318\n"
     ]
    }
   ],
   "source": [
    "ridge_alphas = np.logspace(0, 5, 200)\n",
    "\n",
    "optimal_ridge = RidgeCV(alphas=ridge_alphas, cv=10)\n",
    "optimal_ridge.fit(Xr1s_train, yvar_train)\n",
    "\n",
    "print optimal_ridge.alpha_"
   ]
  },
  {
   "cell_type": "code",
   "execution_count": 618,
   "metadata": {},
   "outputs": [
    {
     "name": "stdout",
     "output_type": "stream",
     "text": [
      "[ 0.10315599  0.15796198  0.21660613 -0.00300699  0.13369588  0.04297001\n",
      "  0.14605488  0.22287934  0.10904617  0.00431001]\n",
      "0.113367340696\n",
      "0.0695538674128\n"
     ]
    }
   ],
   "source": [
    "ridge1 = Ridge(alpha=optimal_ridge.alpha_)\n",
    "ridge1.fit(Xr1s_train,yvar_train)\n",
    "\n",
    "ridge_scores = cross_val_score(ridge1, Xr1s_train, yvar_train, cv=10)\n",
    "\n",
    "print ridge_scores\n",
    "print np.mean(ridge_scores)\n",
    "print ridge1.score(Xr1s_test,yvar_test)"
   ]
  },
  {
   "cell_type": "code",
   "execution_count": 619,
   "metadata": {},
   "outputs": [
    {
     "name": "stderr",
     "output_type": "stream",
     "text": [
      "........................................................................................................................................................................................................................................................................................................................................................................................................................................................................................................................................................................................................................................................................................................................................................................................................................................................................................................................................................................................................................................................................................................................................................................................................................................................................................................................................................................................................................................................................................................................................................................................................................................................................................................................................................................................................................................................................................................................................................................................................................................................................................................................................................................................................................................................................................................................................................................................................................................................................................................................................................................................................................................................................................................................................................................................................................................................................................................................................................................................................................................................................................................................................................................................................................................................................................................................................................................................................................................................................................................................................................................................................................................................................................................................................................................................................................................................................................................................................................................................................................................................................................................................................................................................................................................................................................................................................................................................................................................................................................................................................................................................................................................................................................................................................................................................................................................................................................................................................................................................................................................................................................................................................................................................................[Parallel(n_jobs=1)]: Done  10 out of  10 | elapsed:    1.2s finished\n"
     ]
    },
    {
     "name": "stdout",
     "output_type": "stream",
     "text": [
      "68.2161283796\n"
     ]
    }
   ],
   "source": [
    "optimal_lasso = LassoCV(n_alphas=500, cv=10, verbose=1)\n",
    "optimal_lasso.fit(Xr1s_train, yvar_train)\n",
    "\n",
    "print optimal_lasso.alpha_"
   ]
  },
  {
   "cell_type": "code",
   "execution_count": 620,
   "metadata": {},
   "outputs": [
    {
     "data": {
      "text/plain": [
       "0.071456451214355399"
      ]
     },
     "execution_count": 620,
     "metadata": {},
     "output_type": "execute_result"
    }
   ],
   "source": [
    "lasso1 = Lasso(alpha=optimal_lasso.alpha_)\n",
    "lasso1.fit(Xr1s_train,yvar_train)\n",
    "lasso1.score(Xr1s_test,yvar_test)\n",
    "#lasso_scores = cross_val_score(lasso, Xs, y, cv=10)\n",
    "\n",
    "#print lasso_scores\n",
    "#print np.mean(lasso_scores)"
   ]
  },
  {
   "cell_type": "code",
   "execution_count": 621,
   "metadata": {},
   "outputs": [
    {
     "data": {
      "text/plain": [
       "0.064024406182440874"
      ]
     },
     "execution_count": 621,
     "metadata": {},
     "output_type": "execute_result"
    }
   ],
   "source": [
    "r1=ridge.fit(Xrs_train,yvar_train)\n",
    "ridge.score(Xrs_test,yvar_test)"
   ]
  },
  {
   "cell_type": "code",
   "execution_count": 622,
   "metadata": {},
   "outputs": [
    {
     "data": {
      "text/plain": [
       "<seaborn.axisgrid.JointGrid at 0x133da0850>"
      ]
     },
     "execution_count": 622,
     "metadata": {},
     "output_type": "execute_result"
    },
    {
     "data": {
      "image/png": "[encoded data removed]",
      "text/plain": [
       "<matplotlib.figure.Figure at 0x133da0cd0>"
      ]
     },
     "metadata": {
      "image/png": {
       "height": 425,
       "width": 444
      }
     },
     "output_type": "display_data"
    }
   ],
   "source": [
    "yhat7 = r1.predict(Xrs_test)\n",
    "sns.jointplot(yvar_test, yhat6, kind='reg',size=6)"
   ]
  },
  {
   "cell_type": "code",
   "execution_count": 623,
   "metadata": {
    "collapsed": true
   },
   "outputs": [],
   "source": [
    "xgb3 = xgboost.XGBRegressor(n_estimators=100, booster='gbtree',learning_rate=0.08, gamma=0, min_child_weight=6,subsample=0.8,colsample_bytree=1, max_depth=7)"
   ]
  },
  {
   "cell_type": "code",
   "execution_count": 624,
   "metadata": {},
   "outputs": [
    {
     "data": {
      "text/plain": [
       "{'max_depth': 4, 'min_child_weight': 9}"
      ]
     },
     "execution_count": 624,
     "metadata": {},
     "output_type": "execute_result"
    }
   ],
   "source": [
    "param_test = {\n",
    " 'max_depth':[4,5,6,7,8,9],\n",
    " 'min_child_weight':[4,5,6,7,8,9]\n",
    "}\n",
    "gs = GridSearchCV(xgb3,param_test,cv=10, n_jobs=-1)\n",
    "gs.fit(Xrs_train,yvar_train)\n",
    "gs.best_params_\n"
   ]
  },
  {
   "cell_type": "code",
   "execution_count": 625,
   "metadata": {
    "collapsed": true
   },
   "outputs": [],
   "source": [
    "xgb4 = xgboost.XGBRegressor(n_estimators=100, booster='gbtree',learning_rate=0.08, gamma=0, min_child_weight=9,subsample=0.8,colsample_bytree=1, max_depth=4)"
   ]
  },
  {
   "cell_type": "code",
   "execution_count": 626,
   "metadata": {},
   "outputs": [
    {
     "data": {
      "text/plain": [
       "0.063790868627921826"
      ]
     },
     "execution_count": 626,
     "metadata": {},
     "output_type": "execute_result"
    }
   ],
   "source": [
    "xgb4.fit(Xr1s_train,yvar_train)\n",
    "xgb4.score(Xr1s_test,yvar_test)"
   ]
  },
  {
   "cell_type": "code",
   "execution_count": 627,
   "metadata": {
    "collapsed": true
   },
   "outputs": [],
   "source": [
    "xgb5 = xgboost.XGBRegressor(n_estimators=100, booster='gbtree',learning_rate=0.08, gamma=0, min_child_weight=9,subsample=0.8,colsample_bytree=1, max_depth=4)"
   ]
  },
  {
   "cell_type": "code",
   "execution_count": 628,
   "metadata": {},
   "outputs": [
    {
     "data": {
      "text/plain": [
       "0.060215081287313232"
      ]
     },
     "execution_count": 628,
     "metadata": {},
     "output_type": "execute_result"
    }
   ],
   "source": [
    "xgb5.fit(Xrs_train,yvar_train)\n",
    "xgb5.score(Xrs_test,yvar_test)"
   ]
  },
  {
   "cell_type": "code",
   "execution_count": 635,
   "metadata": {},
   "outputs": [
    {
     "name": "stdout",
     "output_type": "stream",
     "text": [
      "0.074305577355\n"
     ]
    }
   ],
   "source": [
    "bagging1 = BaggingRegressor(base_estimator = lasso1)\n",
    "bagging1.fit(Xr1s_train,yvar_train)\n",
    "print(bagging1.score(Xr1s_test,yvar_test))"
   ]
  },
  {
   "cell_type": "code",
   "execution_count": 636,
   "metadata": {},
   "outputs": [
    {
     "data": {
      "text/plain": [
       "<seaborn.axisgrid.JointGrid at 0x13163f3d0>"
      ]
     },
     "execution_count": 636,
     "metadata": {},
     "output_type": "execute_result"
    },
    {
     "data": {
      "image/png": "[encoded data removed]",
      "text/plain": [
       "<matplotlib.figure.Figure at 0x1361ead10>"
      ]
     },
     "metadata": {
      "image/png": {
       "height": 425,
       "width": 444
      }
     },
     "output_type": "display_data"
    }
   ],
   "source": [
    "yhat8 = bagging1.predict(Xrs_test)\n",
    "sns.jointplot(yvar_test, yhat8, kind='reg',size=6)"
   ]
  },
  {
   "cell_type": "markdown",
   "metadata": {},
   "source": [
    "<img src=\"http://imgur.com/GCAf1UX.png\" style=\"float: left; margin: 25px 15px 0px 0px; height: 25px\">\n",
    "\n",
    "## 3. What property characteristics predict an \"abnormal\" sale?\n",
    "\n",
    "---\n",
    "\n",
    "The `SaleCondition` feature indicates the circumstances of the house sale. From the data file, we can see that the possibilities are:\n",
    "\n",
    "       Normal\tNormal Sale\n",
    "       Abnorml\tAbnormal Sale -  trade, foreclosure, short sale\n",
    "       AdjLand\tAdjoining Land Purchase\n",
    "       Alloca\tAllocation - two linked properties with separate deeds, typically condo with a garage unit\t\n",
    "       Family\tSale between family members\n",
    "       Partial\tHome was not completed when last assessed (associated with New Homes)\n",
    "       \n",
    "One of the executives at your company has an \"in\" with higher-ups at the major regional bank. His friends at the bank have made him a proposal: if he can reliably indicate what features, if any, predict \"abnormal\" sales (foreclosures, short sales, etc.), then in return the bank will give him first dibs on the pre-auction purchase of those properties (at a dirt-cheap price).\n",
    "\n",
    "He has tasked you with determining (and adequately validating) which features of a property predict this type of sale. \n",
    "\n",
    "---\n",
    "\n",
    "**Your task:**\n",
    "1. Determine which features predict the `Abnorml` category in the `SaleCondition` feature.\n",
    "- Justify your results.\n",
    "\n",
    "This is a challenging task that tests your ability to perform classification analysis in the face of severe class imbalance. You may find that simply running a classifier on the full dataset to predict the category ends up useless: when there is bad class imbalance classifiers often tend to simply guess the majority class.\n",
    "\n",
    "It is up to you to determine how you will tackle this problem. I recommend doing some research to find out how others have dealt with the problem in the past. Make sure to justify your solution. Don't worry about it being \"the best\" solution, but be rigorous.\n",
    "\n",
    "Be sure to indicate which features are predictive (if any) and whether they are positive or negative predictors of abnormal sales."
   ]
  },
  {
   "cell_type": "code",
   "execution_count": 637,
   "metadata": {},
   "outputs": [
    {
     "data": {
      "text/plain": [
       "0.93082191780821921"
      ]
     },
     "execution_count": 637,
     "metadata": {},
     "output_type": "execute_result"
    }
   ],
   "source": [
    "y_ab=house.SaleCondition.value_counts().values\n",
    "y_ab1=pd.get_dummies(house.SaleCondition)\n",
    "y_ab1=y_ab1.Abnorml.values\n",
    "baseline=1-y_ab1.mean()\n",
    "baseline"
   ]
  },
  {
   "cell_type": "code",
   "execution_count": 638,
   "metadata": {},
   "outputs": [
    {
     "data": {
      "text/html": [
       "<div>\n",
       "<style>\n",
       "    .dataframe thead tr:only-child th {\n",
       "        text-align: right;\n",
       "    }\n",
       "\n",
       "    .dataframe thead th {\n",
       "        text-align: left;\n",
       "    }\n",
       "\n",
       "    .dataframe tbody tr th {\n",
       "        vertical-align: top;\n",
       "    }\n",
       "</style>\n",
       "<table border=\"1\" class=\"dataframe\">\n",
       "  <thead>\n",
       "    <tr style=\"text-align: right;\">\n",
       "      <th></th>\n",
       "      <th>OverallQual</th>\n",
       "      <th>OverallCond</th>\n",
       "      <th>RoofStyle</th>\n",
       "      <th>RoofMatl</th>\n",
       "      <th>Exterior1st</th>\n",
       "      <th>Exterior2nd</th>\n",
       "      <th>ExterQual</th>\n",
       "      <th>ExterCond</th>\n",
       "      <th>BsmtCond</th>\n",
       "      <th>BsmtFinType1</th>\n",
       "      <th>...</th>\n",
       "      <th>Electrical</th>\n",
       "      <th>LowQualFinSF</th>\n",
       "      <th>KitchenQual</th>\n",
       "      <th>FireplaceQu</th>\n",
       "      <th>GarageFinish</th>\n",
       "      <th>GarageQual</th>\n",
       "      <th>GarageCond</th>\n",
       "      <th>PavedDrive</th>\n",
       "      <th>PoolQC</th>\n",
       "      <th>Fence</th>\n",
       "    </tr>\n",
       "  </thead>\n",
       "  <tbody>\n",
       "    <tr>\n",
       "      <th>0</th>\n",
       "      <td>7</td>\n",
       "      <td>5</td>\n",
       "      <td>Gable</td>\n",
       "      <td>CompShg</td>\n",
       "      <td>VinylSd</td>\n",
       "      <td>VinylSd</td>\n",
       "      <td>Gd</td>\n",
       "      <td>TA</td>\n",
       "      <td>TA</td>\n",
       "      <td>GLQ</td>\n",
       "      <td>...</td>\n",
       "      <td>SBrkr</td>\n",
       "      <td>0</td>\n",
       "      <td>Gd</td>\n",
       "      <td>NaN</td>\n",
       "      <td>RFn</td>\n",
       "      <td>TA</td>\n",
       "      <td>TA</td>\n",
       "      <td>Y</td>\n",
       "      <td>NaN</td>\n",
       "      <td>NaN</td>\n",
       "    </tr>\n",
       "    <tr>\n",
       "      <th>1</th>\n",
       "      <td>6</td>\n",
       "      <td>8</td>\n",
       "      <td>Gable</td>\n",
       "      <td>CompShg</td>\n",
       "      <td>MetalSd</td>\n",
       "      <td>MetalSd</td>\n",
       "      <td>TA</td>\n",
       "      <td>TA</td>\n",
       "      <td>TA</td>\n",
       "      <td>ALQ</td>\n",
       "      <td>...</td>\n",
       "      <td>SBrkr</td>\n",
       "      <td>0</td>\n",
       "      <td>TA</td>\n",
       "      <td>TA</td>\n",
       "      <td>RFn</td>\n",
       "      <td>TA</td>\n",
       "      <td>TA</td>\n",
       "      <td>Y</td>\n",
       "      <td>NaN</td>\n",
       "      <td>NaN</td>\n",
       "    </tr>\n",
       "    <tr>\n",
       "      <th>2</th>\n",
       "      <td>7</td>\n",
       "      <td>5</td>\n",
       "      <td>Gable</td>\n",
       "      <td>CompShg</td>\n",
       "      <td>VinylSd</td>\n",
       "      <td>VinylSd</td>\n",
       "      <td>Gd</td>\n",
       "      <td>TA</td>\n",
       "      <td>TA</td>\n",
       "      <td>GLQ</td>\n",
       "      <td>...</td>\n",
       "      <td>SBrkr</td>\n",
       "      <td>0</td>\n",
       "      <td>Gd</td>\n",
       "      <td>TA</td>\n",
       "      <td>RFn</td>\n",
       "      <td>TA</td>\n",
       "      <td>TA</td>\n",
       "      <td>Y</td>\n",
       "      <td>NaN</td>\n",
       "      <td>NaN</td>\n",
       "    </tr>\n",
       "    <tr>\n",
       "      <th>3</th>\n",
       "      <td>7</td>\n",
       "      <td>5</td>\n",
       "      <td>Gable</td>\n",
       "      <td>CompShg</td>\n",
       "      <td>Wd Sdng</td>\n",
       "      <td>Wd Shng</td>\n",
       "      <td>TA</td>\n",
       "      <td>TA</td>\n",
       "      <td>Gd</td>\n",
       "      <td>ALQ</td>\n",
       "      <td>...</td>\n",
       "      <td>SBrkr</td>\n",
       "      <td>0</td>\n",
       "      <td>Gd</td>\n",
       "      <td>Gd</td>\n",
       "      <td>Unf</td>\n",
       "      <td>TA</td>\n",
       "      <td>TA</td>\n",
       "      <td>Y</td>\n",
       "      <td>NaN</td>\n",
       "      <td>NaN</td>\n",
       "    </tr>\n",
       "    <tr>\n",
       "      <th>4</th>\n",
       "      <td>8</td>\n",
       "      <td>5</td>\n",
       "      <td>Gable</td>\n",
       "      <td>CompShg</td>\n",
       "      <td>VinylSd</td>\n",
       "      <td>VinylSd</td>\n",
       "      <td>Gd</td>\n",
       "      <td>TA</td>\n",
       "      <td>TA</td>\n",
       "      <td>GLQ</td>\n",
       "      <td>...</td>\n",
       "      <td>SBrkr</td>\n",
       "      <td>0</td>\n",
       "      <td>Gd</td>\n",
       "      <td>TA</td>\n",
       "      <td>RFn</td>\n",
       "      <td>TA</td>\n",
       "      <td>TA</td>\n",
       "      <td>Y</td>\n",
       "      <td>NaN</td>\n",
       "      <td>NaN</td>\n",
       "    </tr>\n",
       "  </tbody>\n",
       "</table>\n",
       "<p>5 rows × 24 columns</p>\n",
       "</div>"
      ],
      "text/plain": [
       "   OverallQual  OverallCond RoofStyle RoofMatl Exterior1st Exterior2nd  \\\n",
       "0            7            5     Gable  CompShg     VinylSd     VinylSd   \n",
       "1            6            8     Gable  CompShg     MetalSd     MetalSd   \n",
       "2            7            5     Gable  CompShg     VinylSd     VinylSd   \n",
       "3            7            5     Gable  CompShg     Wd Sdng     Wd Shng   \n",
       "4            8            5     Gable  CompShg     VinylSd     VinylSd   \n",
       "\n",
       "  ExterQual ExterCond BsmtCond BsmtFinType1  ...  Electrical LowQualFinSF  \\\n",
       "0        Gd        TA       TA          GLQ  ...       SBrkr            0   \n",
       "1        TA        TA       TA          ALQ  ...       SBrkr            0   \n",
       "2        Gd        TA       TA          GLQ  ...       SBrkr            0   \n",
       "3        TA        TA       Gd          ALQ  ...       SBrkr            0   \n",
       "4        Gd        TA       TA          GLQ  ...       SBrkr            0   \n",
       "\n",
       "  KitchenQual FireplaceQu GarageFinish  GarageQual GarageCond PavedDrive  \\\n",
       "0          Gd         NaN          RFn          TA         TA          Y   \n",
       "1          TA          TA          RFn          TA         TA          Y   \n",
       "2          Gd          TA          RFn          TA         TA          Y   \n",
       "3          Gd          Gd          Unf          TA         TA          Y   \n",
       "4          Gd          TA          RFn          TA         TA          Y   \n",
       "\n",
       "  PoolQC Fence  \n",
       "0    NaN   NaN  \n",
       "1    NaN   NaN  \n",
       "2    NaN   NaN  \n",
       "3    NaN   NaN  \n",
       "4    NaN   NaN  \n",
       "\n",
       "[5 rows x 24 columns]"
      ]
     },
     "execution_count": 638,
     "metadata": {},
     "output_type": "execute_result"
    }
   ],
   "source": [
    "# A:\n",
    "house.dtypes\n",
    "reno_able.head()"
   ]
  },
  {
   "cell_type": "code",
   "execution_count": 639,
   "metadata": {},
   "outputs": [],
   "source": [
    "r=reno_able.drop(['OverallQual','OverallCond','LowQualFinSF'],axis=1)\n",
    "r=r.columns\n",
    "X_abl=house.drop(r,axis=1)\n",
    "X_abl.dtypes\n",
    "X_ab1=X_abl.drop(['MSZoning','Alley','Street','LotShape','LandContour','Utilities','LotConfig','LandSlope','Neighborhood',\n",
    "                 'Condition1','Condition2','BldgType','HouseStyle','MasVnrType','Foundation','BsmtQual','BsmtExposure',\n",
    "                 'Functional','GarageType','MiscFeature','SaleType','SaleCondition'],axis=1)\n",
    "X_ab1.MasVnrArea=X_ab1.MasVnrArea.fillna(0.0)\n",
    "X_ab1.GarageYrBlt=X_ab1.GarageYrBlt.fillna(0.0)\n",
    "X_ab1.isnull().sum()\n",
    "X_ab1=X_ab1.fillna(0.0)\n",
    "X_ab1=X_ab1.astype('float')\n",
    "X_ab1.MasVnrArea=X_ab1.MasVnrArea.astype('float')\n",
    "X_ab1.GarageYrBlt=X_ab1.GarageYrBlt.astype('float')\n",
    "X_ab1.dtypes\n",
    "X_ab1s=ss.fit_transform(X_ab1)"
   ]
  },
  {
   "cell_type": "code",
   "execution_count": 640,
   "metadata": {},
   "outputs": [
    {
     "data": {
      "text/html": [
       "<div>\n",
       "<style>\n",
       "    .dataframe thead tr:only-child th {\n",
       "        text-align: right;\n",
       "    }\n",
       "\n",
       "    .dataframe thead th {\n",
       "        text-align: left;\n",
       "    }\n",
       "\n",
       "    .dataframe tbody tr th {\n",
       "        vertical-align: top;\n",
       "    }\n",
       "</style>\n",
       "<table border=\"1\" class=\"dataframe\">\n",
       "  <thead>\n",
       "    <tr style=\"text-align: right;\">\n",
       "      <th></th>\n",
       "      <th>Id</th>\n",
       "      <th>MSSubClass</th>\n",
       "      <th>LotFrontage</th>\n",
       "      <th>LotArea</th>\n",
       "      <th>OverallQual</th>\n",
       "      <th>OverallCond</th>\n",
       "      <th>YearBuilt</th>\n",
       "      <th>YearRemodAdd</th>\n",
       "      <th>MasVnrArea</th>\n",
       "      <th>BsmtFinSF1</th>\n",
       "      <th>...</th>\n",
       "      <th>WoodDeckSF</th>\n",
       "      <th>OpenPorchSF</th>\n",
       "      <th>EnclosedPorch</th>\n",
       "      <th>3SsnPorch</th>\n",
       "      <th>ScreenPorch</th>\n",
       "      <th>PoolArea</th>\n",
       "      <th>MiscVal</th>\n",
       "      <th>MoSold</th>\n",
       "      <th>YrSold</th>\n",
       "      <th>SalePrice</th>\n",
       "    </tr>\n",
       "  </thead>\n",
       "  <tbody>\n",
       "    <tr>\n",
       "      <th>count</th>\n",
       "      <td>1460.000000</td>\n",
       "      <td>1460.000000</td>\n",
       "      <td>1460.000000</td>\n",
       "      <td>1460.000000</td>\n",
       "      <td>1460.000000</td>\n",
       "      <td>1460.000000</td>\n",
       "      <td>1460.000000</td>\n",
       "      <td>1460.000000</td>\n",
       "      <td>1460.000000</td>\n",
       "      <td>1460.000000</td>\n",
       "      <td>...</td>\n",
       "      <td>1460.000000</td>\n",
       "      <td>1460.000000</td>\n",
       "      <td>1460.000000</td>\n",
       "      <td>1460.000000</td>\n",
       "      <td>1460.000000</td>\n",
       "      <td>1460.000000</td>\n",
       "      <td>1460.000000</td>\n",
       "      <td>1460.000000</td>\n",
       "      <td>1460.000000</td>\n",
       "      <td>1460.000000</td>\n",
       "    </tr>\n",
       "    <tr>\n",
       "      <th>mean</th>\n",
       "      <td>730.500000</td>\n",
       "      <td>56.897260</td>\n",
       "      <td>57.623288</td>\n",
       "      <td>10516.828082</td>\n",
       "      <td>6.099315</td>\n",
       "      <td>5.575342</td>\n",
       "      <td>1971.267808</td>\n",
       "      <td>1984.865753</td>\n",
       "      <td>103.117123</td>\n",
       "      <td>443.639726</td>\n",
       "      <td>...</td>\n",
       "      <td>94.244521</td>\n",
       "      <td>46.660274</td>\n",
       "      <td>21.954110</td>\n",
       "      <td>3.409589</td>\n",
       "      <td>15.060959</td>\n",
       "      <td>2.758904</td>\n",
       "      <td>43.489041</td>\n",
       "      <td>6.321918</td>\n",
       "      <td>2007.815753</td>\n",
       "      <td>180921.195890</td>\n",
       "    </tr>\n",
       "    <tr>\n",
       "      <th>std</th>\n",
       "      <td>421.610009</td>\n",
       "      <td>42.300571</td>\n",
       "      <td>34.664304</td>\n",
       "      <td>9981.264932</td>\n",
       "      <td>1.382997</td>\n",
       "      <td>1.112799</td>\n",
       "      <td>30.202904</td>\n",
       "      <td>20.645407</td>\n",
       "      <td>180.731373</td>\n",
       "      <td>456.098091</td>\n",
       "      <td>...</td>\n",
       "      <td>125.338794</td>\n",
       "      <td>66.256028</td>\n",
       "      <td>61.119149</td>\n",
       "      <td>29.317331</td>\n",
       "      <td>55.757415</td>\n",
       "      <td>40.177307</td>\n",
       "      <td>496.123024</td>\n",
       "      <td>2.703626</td>\n",
       "      <td>1.328095</td>\n",
       "      <td>79442.502883</td>\n",
       "    </tr>\n",
       "    <tr>\n",
       "      <th>min</th>\n",
       "      <td>1.000000</td>\n",
       "      <td>20.000000</td>\n",
       "      <td>0.000000</td>\n",
       "      <td>1300.000000</td>\n",
       "      <td>1.000000</td>\n",
       "      <td>1.000000</td>\n",
       "      <td>1872.000000</td>\n",
       "      <td>1950.000000</td>\n",
       "      <td>0.000000</td>\n",
       "      <td>0.000000</td>\n",
       "      <td>...</td>\n",
       "      <td>0.000000</td>\n",
       "      <td>0.000000</td>\n",
       "      <td>0.000000</td>\n",
       "      <td>0.000000</td>\n",
       "      <td>0.000000</td>\n",
       "      <td>0.000000</td>\n",
       "      <td>0.000000</td>\n",
       "      <td>1.000000</td>\n",
       "      <td>2006.000000</td>\n",
       "      <td>34900.000000</td>\n",
       "    </tr>\n",
       "    <tr>\n",
       "      <th>25%</th>\n",
       "      <td>365.750000</td>\n",
       "      <td>20.000000</td>\n",
       "      <td>42.000000</td>\n",
       "      <td>7553.500000</td>\n",
       "      <td>5.000000</td>\n",
       "      <td>5.000000</td>\n",
       "      <td>1954.000000</td>\n",
       "      <td>1967.000000</td>\n",
       "      <td>0.000000</td>\n",
       "      <td>0.000000</td>\n",
       "      <td>...</td>\n",
       "      <td>0.000000</td>\n",
       "      <td>0.000000</td>\n",
       "      <td>0.000000</td>\n",
       "      <td>0.000000</td>\n",
       "      <td>0.000000</td>\n",
       "      <td>0.000000</td>\n",
       "      <td>0.000000</td>\n",
       "      <td>5.000000</td>\n",
       "      <td>2007.000000</td>\n",
       "      <td>129975.000000</td>\n",
       "    </tr>\n",
       "    <tr>\n",
       "      <th>50%</th>\n",
       "      <td>730.500000</td>\n",
       "      <td>50.000000</td>\n",
       "      <td>63.000000</td>\n",
       "      <td>9478.500000</td>\n",
       "      <td>6.000000</td>\n",
       "      <td>5.000000</td>\n",
       "      <td>1973.000000</td>\n",
       "      <td>1994.000000</td>\n",
       "      <td>0.000000</td>\n",
       "      <td>383.500000</td>\n",
       "      <td>...</td>\n",
       "      <td>0.000000</td>\n",
       "      <td>25.000000</td>\n",
       "      <td>0.000000</td>\n",
       "      <td>0.000000</td>\n",
       "      <td>0.000000</td>\n",
       "      <td>0.000000</td>\n",
       "      <td>0.000000</td>\n",
       "      <td>6.000000</td>\n",
       "      <td>2008.000000</td>\n",
       "      <td>163000.000000</td>\n",
       "    </tr>\n",
       "    <tr>\n",
       "      <th>75%</th>\n",
       "      <td>1095.250000</td>\n",
       "      <td>70.000000</td>\n",
       "      <td>79.000000</td>\n",
       "      <td>11601.500000</td>\n",
       "      <td>7.000000</td>\n",
       "      <td>6.000000</td>\n",
       "      <td>2000.000000</td>\n",
       "      <td>2004.000000</td>\n",
       "      <td>164.250000</td>\n",
       "      <td>712.250000</td>\n",
       "      <td>...</td>\n",
       "      <td>168.000000</td>\n",
       "      <td>68.000000</td>\n",
       "      <td>0.000000</td>\n",
       "      <td>0.000000</td>\n",
       "      <td>0.000000</td>\n",
       "      <td>0.000000</td>\n",
       "      <td>0.000000</td>\n",
       "      <td>8.000000</td>\n",
       "      <td>2009.000000</td>\n",
       "      <td>214000.000000</td>\n",
       "    </tr>\n",
       "    <tr>\n",
       "      <th>max</th>\n",
       "      <td>1460.000000</td>\n",
       "      <td>190.000000</td>\n",
       "      <td>313.000000</td>\n",
       "      <td>215245.000000</td>\n",
       "      <td>10.000000</td>\n",
       "      <td>9.000000</td>\n",
       "      <td>2010.000000</td>\n",
       "      <td>2010.000000</td>\n",
       "      <td>1600.000000</td>\n",
       "      <td>5644.000000</td>\n",
       "      <td>...</td>\n",
       "      <td>857.000000</td>\n",
       "      <td>547.000000</td>\n",
       "      <td>552.000000</td>\n",
       "      <td>508.000000</td>\n",
       "      <td>480.000000</td>\n",
       "      <td>738.000000</td>\n",
       "      <td>15500.000000</td>\n",
       "      <td>12.000000</td>\n",
       "      <td>2010.000000</td>\n",
       "      <td>755000.000000</td>\n",
       "    </tr>\n",
       "  </tbody>\n",
       "</table>\n",
       "<p>8 rows × 38 columns</p>\n",
       "</div>"
      ],
      "text/plain": [
       "                Id   MSSubClass  LotFrontage        LotArea  OverallQual  \\\n",
       "count  1460.000000  1460.000000  1460.000000    1460.000000  1460.000000   \n",
       "mean    730.500000    56.897260    57.623288   10516.828082     6.099315   \n",
       "std     421.610009    42.300571    34.664304    9981.264932     1.382997   \n",
       "min       1.000000    20.000000     0.000000    1300.000000     1.000000   \n",
       "25%     365.750000    20.000000    42.000000    7553.500000     5.000000   \n",
       "50%     730.500000    50.000000    63.000000    9478.500000     6.000000   \n",
       "75%    1095.250000    70.000000    79.000000   11601.500000     7.000000   \n",
       "max    1460.000000   190.000000   313.000000  215245.000000    10.000000   \n",
       "\n",
       "       OverallCond    YearBuilt  YearRemodAdd   MasVnrArea   BsmtFinSF1  \\\n",
       "count  1460.000000  1460.000000   1460.000000  1460.000000  1460.000000   \n",
       "mean      5.575342  1971.267808   1984.865753   103.117123   443.639726   \n",
       "std       1.112799    30.202904     20.645407   180.731373   456.098091   \n",
       "min       1.000000  1872.000000   1950.000000     0.000000     0.000000   \n",
       "25%       5.000000  1954.000000   1967.000000     0.000000     0.000000   \n",
       "50%       5.000000  1973.000000   1994.000000     0.000000   383.500000   \n",
       "75%       6.000000  2000.000000   2004.000000   164.250000   712.250000   \n",
       "max       9.000000  2010.000000   2010.000000  1600.000000  5644.000000   \n",
       "\n",
       "           ...         WoodDeckSF  OpenPorchSF  EnclosedPorch    3SsnPorch  \\\n",
       "count      ...        1460.000000  1460.000000    1460.000000  1460.000000   \n",
       "mean       ...          94.244521    46.660274      21.954110     3.409589   \n",
       "std        ...         125.338794    66.256028      61.119149    29.317331   \n",
       "min        ...           0.000000     0.000000       0.000000     0.000000   \n",
       "25%        ...           0.000000     0.000000       0.000000     0.000000   \n",
       "50%        ...           0.000000    25.000000       0.000000     0.000000   \n",
       "75%        ...         168.000000    68.000000       0.000000     0.000000   \n",
       "max        ...         857.000000   547.000000     552.000000   508.000000   \n",
       "\n",
       "       ScreenPorch     PoolArea       MiscVal       MoSold       YrSold  \\\n",
       "count  1460.000000  1460.000000   1460.000000  1460.000000  1460.000000   \n",
       "mean     15.060959     2.758904     43.489041     6.321918  2007.815753   \n",
       "std      55.757415    40.177307    496.123024     2.703626     1.328095   \n",
       "min       0.000000     0.000000      0.000000     1.000000  2006.000000   \n",
       "25%       0.000000     0.000000      0.000000     5.000000  2007.000000   \n",
       "50%       0.000000     0.000000      0.000000     6.000000  2008.000000   \n",
       "75%       0.000000     0.000000      0.000000     8.000000  2009.000000   \n",
       "max     480.000000   738.000000  15500.000000    12.000000  2010.000000   \n",
       "\n",
       "           SalePrice  \n",
       "count    1460.000000  \n",
       "mean   180921.195890  \n",
       "std     79442.502883  \n",
       "min     34900.000000  \n",
       "25%    129975.000000  \n",
       "50%    163000.000000  \n",
       "75%    214000.000000  \n",
       "max    755000.000000  \n",
       "\n",
       "[8 rows x 38 columns]"
      ]
     },
     "execution_count": 640,
     "metadata": {},
     "output_type": "execute_result"
    }
   ],
   "source": [
    "X_ab1.describe()"
   ]
  },
  {
   "cell_type": "code",
   "execution_count": 641,
   "metadata": {},
   "outputs": [],
   "source": [
    "from sklearn.feature_selection import SelectKBest, chi2\n",
    "skb_chi2 = SelectKBest(chi2, k=5)\n",
    "\n",
    "#train the selector on our data\n",
    "#skb_f.fit(X, y)\n",
    "skb_chi2.fit(X_ab1, y_ab1)\n",
    "#skb_f.scores_\n",
    "#examine results\n",
    "kbest = pd.DataFrame([X_ab1.columns, list(skb_chi2.scores_),list(skb_chi2.pvalues_)], \n",
    "                     index=['feature','chi2 score','chi2 pvalues']).T.sort_values('chi2 pvalues', ascending=True)\n",
    "kbest=kbest.reset_index(drop=True)\n",
    "kbest\n",
    "kbest26=kbest.iloc[0:27,:]\n",
    "kbest26\n",
    "k=kbest26.feature\n",
    "k=k.tolist()"
   ]
  },
  {
   "cell_type": "code",
   "execution_count": 642,
   "metadata": {},
   "outputs": [],
   "source": [
    "d=house[['MSZoning','Alley','Street','LotShape','LandContour','Utilities','LotConfig','LandSlope','Neighborhood',\n",
    "                 'Condition1','Condition2','BldgType','HouseStyle','MasVnrType','Foundation','BsmtQual','BsmtExposure',\n",
    "                 'Functional','GarageType','MiscFeature','SaleType']]\n",
    "d=pd.get_dummies(d,drop_first=True)"
   ]
  },
  {
   "cell_type": "code",
   "execution_count": 643,
   "metadata": {},
   "outputs": [
    {
     "data": {
      "text/html": [
       "<div>\n",
       "<style>\n",
       "    .dataframe thead tr:only-child th {\n",
       "        text-align: right;\n",
       "    }\n",
       "\n",
       "    .dataframe thead th {\n",
       "        text-align: left;\n",
       "    }\n",
       "\n",
       "    .dataframe tbody tr th {\n",
       "        vertical-align: top;\n",
       "    }\n",
       "</style>\n",
       "<table border=\"1\" class=\"dataframe\">\n",
       "  <thead>\n",
       "    <tr style=\"text-align: right;\">\n",
       "      <th></th>\n",
       "      <th>SalePrice</th>\n",
       "      <th>LowQualFinSF</th>\n",
       "      <th>BsmtFinSF2</th>\n",
       "      <th>EnclosedPorch</th>\n",
       "      <th>GarageYrBlt</th>\n",
       "      <th>LotArea</th>\n",
       "      <th>PoolArea</th>\n",
       "      <th>MiscVal</th>\n",
       "      <th>GarageArea</th>\n",
       "      <th>MasVnrArea</th>\n",
       "      <th>...</th>\n",
       "      <th>MasVnrType_Stone</th>\n",
       "      <th>HouseStyle_2.5Fin</th>\n",
       "      <th>Neighborhood_Gilbert</th>\n",
       "      <th>SaleType_WD</th>\n",
       "      <th>Neighborhood_NAmes</th>\n",
       "      <th>Alley_Pave</th>\n",
       "      <th>Neighborhood_BrDale</th>\n",
       "      <th>GarageType_CarPort</th>\n",
       "      <th>SaleType_ConLD</th>\n",
       "      <th>BsmtExposure_Gd</th>\n",
       "    </tr>\n",
       "  </thead>\n",
       "  <tbody>\n",
       "    <tr>\n",
       "      <th>0</th>\n",
       "      <td>208500.0</td>\n",
       "      <td>0.0</td>\n",
       "      <td>0.0</td>\n",
       "      <td>0.0</td>\n",
       "      <td>2003.0</td>\n",
       "      <td>8450.0</td>\n",
       "      <td>0.0</td>\n",
       "      <td>0.0</td>\n",
       "      <td>548.0</td>\n",
       "      <td>196.0</td>\n",
       "      <td>...</td>\n",
       "      <td>0</td>\n",
       "      <td>0</td>\n",
       "      <td>0</td>\n",
       "      <td>1</td>\n",
       "      <td>0</td>\n",
       "      <td>0</td>\n",
       "      <td>0</td>\n",
       "      <td>0</td>\n",
       "      <td>0</td>\n",
       "      <td>0</td>\n",
       "    </tr>\n",
       "    <tr>\n",
       "      <th>1</th>\n",
       "      <td>181500.0</td>\n",
       "      <td>0.0</td>\n",
       "      <td>0.0</td>\n",
       "      <td>0.0</td>\n",
       "      <td>1976.0</td>\n",
       "      <td>9600.0</td>\n",
       "      <td>0.0</td>\n",
       "      <td>0.0</td>\n",
       "      <td>460.0</td>\n",
       "      <td>0.0</td>\n",
       "      <td>...</td>\n",
       "      <td>0</td>\n",
       "      <td>0</td>\n",
       "      <td>0</td>\n",
       "      <td>1</td>\n",
       "      <td>0</td>\n",
       "      <td>0</td>\n",
       "      <td>0</td>\n",
       "      <td>0</td>\n",
       "      <td>0</td>\n",
       "      <td>1</td>\n",
       "    </tr>\n",
       "    <tr>\n",
       "      <th>2</th>\n",
       "      <td>223500.0</td>\n",
       "      <td>0.0</td>\n",
       "      <td>0.0</td>\n",
       "      <td>0.0</td>\n",
       "      <td>2001.0</td>\n",
       "      <td>11250.0</td>\n",
       "      <td>0.0</td>\n",
       "      <td>0.0</td>\n",
       "      <td>608.0</td>\n",
       "      <td>162.0</td>\n",
       "      <td>...</td>\n",
       "      <td>0</td>\n",
       "      <td>0</td>\n",
       "      <td>0</td>\n",
       "      <td>1</td>\n",
       "      <td>0</td>\n",
       "      <td>0</td>\n",
       "      <td>0</td>\n",
       "      <td>0</td>\n",
       "      <td>0</td>\n",
       "      <td>0</td>\n",
       "    </tr>\n",
       "    <tr>\n",
       "      <th>3</th>\n",
       "      <td>140000.0</td>\n",
       "      <td>0.0</td>\n",
       "      <td>0.0</td>\n",
       "      <td>272.0</td>\n",
       "      <td>1998.0</td>\n",
       "      <td>9550.0</td>\n",
       "      <td>0.0</td>\n",
       "      <td>0.0</td>\n",
       "      <td>642.0</td>\n",
       "      <td>0.0</td>\n",
       "      <td>...</td>\n",
       "      <td>0</td>\n",
       "      <td>0</td>\n",
       "      <td>0</td>\n",
       "      <td>1</td>\n",
       "      <td>0</td>\n",
       "      <td>0</td>\n",
       "      <td>0</td>\n",
       "      <td>0</td>\n",
       "      <td>0</td>\n",
       "      <td>0</td>\n",
       "    </tr>\n",
       "    <tr>\n",
       "      <th>4</th>\n",
       "      <td>250000.0</td>\n",
       "      <td>0.0</td>\n",
       "      <td>0.0</td>\n",
       "      <td>0.0</td>\n",
       "      <td>2000.0</td>\n",
       "      <td>14260.0</td>\n",
       "      <td>0.0</td>\n",
       "      <td>0.0</td>\n",
       "      <td>836.0</td>\n",
       "      <td>350.0</td>\n",
       "      <td>...</td>\n",
       "      <td>0</td>\n",
       "      <td>0</td>\n",
       "      <td>0</td>\n",
       "      <td>1</td>\n",
       "      <td>0</td>\n",
       "      <td>0</td>\n",
       "      <td>0</td>\n",
       "      <td>0</td>\n",
       "      <td>0</td>\n",
       "      <td>0</td>\n",
       "    </tr>\n",
       "  </tbody>\n",
       "</table>\n",
       "<p>5 rows × 51 columns</p>\n",
       "</div>"
      ],
      "text/plain": [
       "   SalePrice  LowQualFinSF  BsmtFinSF2  EnclosedPorch  GarageYrBlt  LotArea  \\\n",
       "0   208500.0           0.0         0.0            0.0       2003.0   8450.0   \n",
       "1   181500.0           0.0         0.0            0.0       1976.0   9600.0   \n",
       "2   223500.0           0.0         0.0            0.0       2001.0  11250.0   \n",
       "3   140000.0           0.0         0.0          272.0       1998.0   9550.0   \n",
       "4   250000.0           0.0         0.0            0.0       2000.0  14260.0   \n",
       "\n",
       "   PoolArea  MiscVal  GarageArea  MasVnrArea       ...         \\\n",
       "0       0.0      0.0       548.0       196.0       ...          \n",
       "1       0.0      0.0       460.0         0.0       ...          \n",
       "2       0.0      0.0       608.0       162.0       ...          \n",
       "3       0.0      0.0       642.0         0.0       ...          \n",
       "4       0.0      0.0       836.0       350.0       ...          \n",
       "\n",
       "   MasVnrType_Stone  HouseStyle_2.5Fin  Neighborhood_Gilbert  SaleType_WD  \\\n",
       "0                 0                  0                     0            1   \n",
       "1                 0                  0                     0            1   \n",
       "2                 0                  0                     0            1   \n",
       "3                 0                  0                     0            1   \n",
       "4                 0                  0                     0            1   \n",
       "\n",
       "   Neighborhood_NAmes  Alley_Pave  Neighborhood_BrDale  GarageType_CarPort  \\\n",
       "0                   0           0                    0                   0   \n",
       "1                   0           0                    0                   0   \n",
       "2                   0           0                    0                   0   \n",
       "3                   0           0                    0                   0   \n",
       "4                   0           0                    0                   0   \n",
       "\n",
       "   SaleType_ConLD  BsmtExposure_Gd  \n",
       "0               0                0  \n",
       "1               0                1  \n",
       "2               0                0  \n",
       "3               0                0  \n",
       "4               0                0  \n",
       "\n",
       "[5 rows x 51 columns]"
      ]
     },
     "execution_count": 643,
     "metadata": {},
     "output_type": "execute_result"
    }
   ],
   "source": [
    "skb2_chi2 = SelectKBest(chi2, k=5)\n",
    "\n",
    "#train the selector on our data\n",
    "#skb_f.fit(X, y)\n",
    "skb2_chi2.fit(d, y_ab1)\n",
    "skb2_chi2.pvalues_\n",
    "#examine results\n",
    "kbest2 = pd.DataFrame([d.columns, list(skb2_chi2.scores_),list(skb2_chi2.pvalues_)], \n",
    "                     index=['feature','chi2 score','chi2 pvalues']).T.sort_values('chi2 pvalues', ascending=True)\n",
    "kbest2\n",
    "kbest2=kbest2.reset_index(drop=True)\n",
    "kbest223=kbest2.iloc[0:24,:]\n",
    "k2=kbest223.feature\n",
    "k2=k2.tolist()\n",
    "X_ab2=pd.concat([X_ab1[k],d[k2]],axis=1)\n",
    "X_ab2.head()"
   ]
  },
  {
   "cell_type": "code",
   "execution_count": 644,
   "metadata": {},
   "outputs": [],
   "source": [
    "X_ab2s=ss.fit_transform(X_ab2)\n",
    "X_train, X_test, y_train, y_test = train_test_split(X_ab2s, y_ab1, train_size=0.7, random_state=8)"
   ]
  },
  {
   "cell_type": "code",
   "execution_count": 645,
   "metadata": {},
   "outputs": [
    {
     "data": {
      "text/plain": [
       "0.9362186788154897"
      ]
     },
     "execution_count": 645,
     "metadata": {},
     "output_type": "execute_result"
    }
   ],
   "source": [
    "logreg = LogisticRegression()\n",
    "logreg.fit(X_train,y_train)\n",
    "logreg.score(X_test,y_test)"
   ]
  },
  {
   "cell_type": "code",
   "execution_count": 646,
   "metadata": {},
   "outputs": [
    {
     "name": "stdout",
     "output_type": "stream",
     "text": [
      "Predicted    0  1  All\n",
      "Actual                \n",
      "0          409  2  411\n",
      "1           26  2   28\n",
      "All        435  4  439\n",
      "             precision    recall  f1-score   support\n",
      "\n",
      "          0       0.94      1.00      0.97       411\n",
      "          1       0.50      0.07      0.12        28\n",
      "\n",
      "avg / total       0.91      0.94      0.91       439\n",
      "\n"
     ]
    }
   ],
   "source": [
    "y_pred1=logreg.predict(X_test)\n",
    "print(pd.crosstab(pd.Series(y_test,name=\"Actual\"), pd.Series(y_pred1,name='Predicted'), margins=True))\n",
    "print(classification_report(y_test, y_pred1))\n"
   ]
  },
  {
   "cell_type": "code",
   "execution_count": 647,
   "metadata": {},
   "outputs": [
    {
     "name": "stdout",
     "output_type": "stream",
     "text": [
      "Predicted    0  All\n",
      "Actual             \n",
      "0          411  411\n",
      "1           28   28\n",
      "All        439  439\n",
      "             precision    recall  f1-score   support\n",
      "\n",
      "          0       0.94      1.00      0.97       411\n",
      "          1       0.00      0.00      0.00        28\n",
      "\n",
      "avg / total       0.88      0.94      0.91       439\n",
      "\n"
     ]
    }
   ],
   "source": [
    "clf = SVC(kernel='linear')\n",
    "clf.fit(X_train, y_train)\n",
    "y_pred2=clf.predict(X_test)\n",
    "print(pd.crosstab(pd.Series(y_test,name=\"Actual\"), pd.Series(y_pred2,name='Predicted'), margins=True))\n",
    "print(classification_report(y_test, y_pred2))"
   ]
  },
  {
   "cell_type": "code",
   "execution_count": 648,
   "metadata": {},
   "outputs": [
    {
     "name": "stdout",
     "output_type": "stream",
     "text": [
      "Predicted    0  All\n",
      "Actual             \n",
      "0          411  411\n",
      "1           28   28\n",
      "All        439  439\n",
      "             precision    recall  f1-score   support\n",
      "\n",
      "          0       0.94      1.00      0.97       411\n",
      "          1       0.00      0.00      0.00        28\n",
      "\n",
      "avg / total       0.88      0.94      0.91       439\n",
      "\n"
     ]
    }
   ],
   "source": [
    "clf1 = SVC(kernel='rbf')\n",
    "clf1.fit(X_train, y_train)\n",
    "y_pred3=clf1.predict(X_test)\n",
    "print(pd.crosstab(pd.Series(y_test,name=\"Actual\"), pd.Series(y_pred3,name='Predicted'), margins=True))\n",
    "print(classification_report(y_test, y_pred3))"
   ]
  },
  {
   "cell_type": "code",
   "execution_count": 649,
   "metadata": {
    "collapsed": true
   },
   "outputs": [],
   "source": [
    "dtrain=xgboost.DMatrix(X_train,label=y_train)\n",
    "dtest=xgboost.DMatrix(X_test)\n",
    "train_labels=dtrain.get_label()\n",
    "ratio=float(np.sum(train_labels==0))/np.sum(train_labels==1)\n",
    "params={'max_depth':1,'silent':1,'eta':1,'scale_pos_weight':ratio}"
   ]
  },
  {
   "cell_type": "code",
   "execution_count": 650,
   "metadata": {},
   "outputs": [],
   "source": [
    "bst=xgboost.train(params,dtrain,)\n",
    "y_pred4=(bst.predict(dtest)>0.5).astype('int')"
   ]
  },
  {
   "cell_type": "code",
   "execution_count": 651,
   "metadata": {},
   "outputs": [
    {
     "name": "stdout",
     "output_type": "stream",
     "text": [
      "Predicted    0   1  All\n",
      "Actual                 \n",
      "0          334  77  411\n",
      "1           13  15   28\n",
      "All        347  92  439\n",
      "             precision    recall  f1-score   support\n",
      "\n",
      "          0       0.96      0.81      0.88       411\n",
      "          1       0.16      0.54      0.25        28\n",
      "\n",
      "avg / total       0.91      0.79      0.84       439\n",
      "\n"
     ]
    }
   ],
   "source": [
    "print(pd.crosstab(pd.Series(y_test,name=\"Actual\"), pd.Series(y_pred4,name='Predicted'), margins=True))\n",
    "print(classification_report(y_test, y_pred4))"
   ]
  }
 ],
 "metadata": {
  "kernelspec": {
   "display_name": "Python 2",
   "language": "python",
   "name": "python2"
  },
  "language_info": {
   "codemirror_mode": {
    "name": "ipython",
    "version": 2
   },
   "file_extension": ".py",
   "mimetype": "text/x-python",
   "name": "python",
   "nbconvert_exporter": "python",
   "pygments_lexer": "ipython2",
   "version": "2.7.13"
  }
 },
 "nbformat": 4,
 "nbformat_minor": 2
}
